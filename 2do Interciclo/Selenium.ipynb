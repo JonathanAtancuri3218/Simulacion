{
 "cells": [
  {
   "cell_type": "code",
   "execution_count": 1,
   "metadata": {},
   "outputs": [
    {
     "name": "stderr",
     "output_type": "stream",
     "text": [
      "<ipython-input-1-d3036e1c5255>:8: DeprecationWarning: use options instead of chrome_options\n",
      "  driver = webdriver.Chrome(executable_path=CHROMEDRIVEPATH, chrome_options = chrome_options)\n"
     ]
    },
    {
     "name": "stdout",
     "output_type": "stream",
     "text": [
      "Google\n"
     ]
    }
   ],
   "source": [
    "import time\n",
    "from selenium import webdriver\n",
    "from selenium.webdriver.chrome.options import Options\n",
    "CHROMEDRIVEPATH = 'C:/WebDriver/bin/chromedriver'\n",
    "WINDOWS_SIZE = '1920,1080'\n",
    "chrome_options = Options()\n",
    "chrome_options.add_argument('--window-size=%s'%WINDOWS_SIZE)\n",
    "driver = webdriver.Chrome(executable_path=CHROMEDRIVEPATH, chrome_options = chrome_options)\n",
    "driver.get('https://www.google.com')\n",
    "print(driver.title)\n",
    "time.sleep(5)\n",
    "elemento = driver.find_element_by_name('q')\n",
    "elemento.send_keys('Universidad Politecnica Salesiana')\n",
    "elemento.submit()\n",
    "driver.close()"
   ]
  },
  {
   "cell_type": "code",
   "execution_count": null,
   "metadata": {},
   "outputs": [],
   "source": []
  }
 ],
 "metadata": {
  "kernelspec": {
   "display_name": "Python 3",
   "language": "python",
   "name": "python3"
  },
  "language_info": {
   "codemirror_mode": {
    "name": "ipython",
    "version": 3
   },
   "file_extension": ".py",
   "mimetype": "text/x-python",
   "name": "python",
   "nbconvert_exporter": "python",
   "pygments_lexer": "ipython3",
   "version": "3.8.3"
  }
 },
 "nbformat": 4,
 "nbformat_minor": 4
}
