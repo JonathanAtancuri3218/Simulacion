{
 "cells": [
  {
   "cell_type": "markdown",
   "metadata": {},
   "source": [
    "# Modificar la simulacion de eventos discretos "
   ]
  },
  {
   "cell_type": "markdown",
   "metadata": {},
   "source": [
    "### Agregar parametros"
   ]
  },
  {
   "cell_type": "markdown",
   "metadata": {},
   "source": [
    "1. Agregar y modificar el tiempo que se demora de transportar de la cola de espera a la maquina de lavado dentro de (1-5)\n",
    "2. Identificar el numero de la maquina utilizando dentro de cada proceso \n",
    "3. Agregar y modificar el tiempo de salir de la maquina a la puerta principal del negocio entre (2-5)"
   ]
  },
  {
   "cell_type": "code",
   "execution_count": 1,
   "metadata": {},
   "outputs": [],
   "source": [
    "import simpy\n",
    "import random"
   ]
  },
  {
   "cell_type": "code",
   "execution_count": 2,
   "metadata": {},
   "outputs": [],
   "source": [
    "def manejar_ahora(env, carro):\n",
    "    yield env.timeout(random.randint(1,20))\n",
    "    carro.accion.interrupt()"
   ]
  },
  {
   "cell_type": "code",
   "execution_count": 3,
   "metadata": {},
   "outputs": [],
   "source": [
    "duracion_carga = 5\n",
    "duracion_bateria = 2\n",
    "\n",
    "class Carro():\n",
    "    def __init__(self, env):\n",
    "        self.env = env\n",
    "        self.accion = env.process(self.run())\n",
    "        \n",
    "    def run(self):\n",
    "        while True:\n",
    "            print('Se parquea y empieza la recarga %d' % self.env.now)\n",
    "            try:\n",
    "                yield self.env.process(self.recarga())\n",
    "            except simpy.Interrupt:            \n",
    "                print('Se interrumpe carga %d' % self.env.now)\n",
    "                \n",
    "            print('Se termina la recarga %d y empieza el manejo' % self.env.now)\n",
    "            yield self.env.timeout(duracion_bateria)\n",
    "            print('Uso del carro manejo %d' % self.env.now)\n",
    "\n",
    "    def recarga(self):\n",
    "        yield self.env.timeout(duracion_carga)"
   ]
  },
  {
   "cell_type": "code",
   "execution_count": 4,
   "metadata": {},
   "outputs": [
    {
     "name": "stdout",
     "output_type": "stream",
     "text": [
      "Se parquea y empieza la recarga 0\n",
      "Se termina la recarga 5 y empieza el manejo\n"
     ]
    },
    {
     "ename": "Interrupt",
     "evalue": "Interrupt(None)",
     "output_type": "error",
     "traceback": [
      "\u001b[1;31m---------------------------------------------------------------------------\u001b[0m",
      "\u001b[1;31mInterrupt\u001b[0m                                 Traceback (most recent call last)",
      "\u001b[1;31mInterrupt\u001b[0m: Interrupt(None)",
      "\nThe above exception was the direct cause of the following exception:\n",
      "\u001b[1;31mInterrupt\u001b[0m                                 Traceback (most recent call last)",
      "\u001b[1;32m<ipython-input-3-b0acf913ba5f>\u001b[0m in \u001b[0;36mrun\u001b[1;34m(self)\u001b[0m\n\u001b[0;32m     17\u001b[0m             \u001b[0mprint\u001b[0m\u001b[1;33m(\u001b[0m\u001b[1;34m'Se termina la recarga %d y empieza el manejo'\u001b[0m \u001b[1;33m%\u001b[0m \u001b[0mself\u001b[0m\u001b[1;33m.\u001b[0m\u001b[0menv\u001b[0m\u001b[1;33m.\u001b[0m\u001b[0mnow\u001b[0m\u001b[1;33m)\u001b[0m\u001b[1;33m\u001b[0m\u001b[1;33m\u001b[0m\u001b[0m\n\u001b[1;32m---> 18\u001b[1;33m             \u001b[1;32myield\u001b[0m \u001b[0mself\u001b[0m\u001b[1;33m.\u001b[0m\u001b[0menv\u001b[0m\u001b[1;33m.\u001b[0m\u001b[0mtimeout\u001b[0m\u001b[1;33m(\u001b[0m\u001b[0mduracion_bateria\u001b[0m\u001b[1;33m)\u001b[0m\u001b[1;33m\u001b[0m\u001b[1;33m\u001b[0m\u001b[0m\n\u001b[0m\u001b[0;32m     19\u001b[0m             \u001b[0mprint\u001b[0m\u001b[1;33m(\u001b[0m\u001b[1;34m'Uso del carro manejo %d'\u001b[0m \u001b[1;33m%\u001b[0m \u001b[0mself\u001b[0m\u001b[1;33m.\u001b[0m\u001b[0menv\u001b[0m\u001b[1;33m.\u001b[0m\u001b[0mnow\u001b[0m\u001b[1;33m)\u001b[0m\u001b[1;33m\u001b[0m\u001b[1;33m\u001b[0m\u001b[0m\n",
      "\u001b[1;31mInterrupt\u001b[0m: Interrupt(None)",
      "\nThe above exception was the direct cause of the following exception:\n",
      "\u001b[1;31mInterrupt\u001b[0m                                 Traceback (most recent call last)",
      "\u001b[1;32m<ipython-input-4-23e57bd2586e>\u001b[0m in \u001b[0;36m<module>\u001b[1;34m\u001b[0m\n\u001b[0;32m      2\u001b[0m \u001b[0mcarro1\u001b[0m \u001b[1;33m=\u001b[0m \u001b[0mCarro\u001b[0m\u001b[1;33m(\u001b[0m\u001b[0menv\u001b[0m\u001b[1;33m)\u001b[0m\u001b[1;33m\u001b[0m\u001b[1;33m\u001b[0m\u001b[0m\n\u001b[0;32m      3\u001b[0m \u001b[0menv\u001b[0m\u001b[1;33m.\u001b[0m\u001b[0mprocess\u001b[0m\u001b[1;33m(\u001b[0m\u001b[0mmanejar_ahora\u001b[0m\u001b[1;33m(\u001b[0m\u001b[0menv\u001b[0m\u001b[1;33m,\u001b[0m \u001b[0mcarro1\u001b[0m\u001b[1;33m)\u001b[0m\u001b[1;33m)\u001b[0m\u001b[1;33m\u001b[0m\u001b[1;33m\u001b[0m\u001b[0m\n\u001b[1;32m----> 4\u001b[1;33m \u001b[0menv\u001b[0m\u001b[1;33m.\u001b[0m\u001b[0mrun\u001b[0m\u001b[1;33m(\u001b[0m\u001b[0muntil\u001b[0m\u001b[1;33m=\u001b[0m\u001b[1;36m25\u001b[0m\u001b[1;33m)\u001b[0m\u001b[1;33m\u001b[0m\u001b[1;33m\u001b[0m\u001b[0m\n\u001b[0m",
      "\u001b[1;32m~\\anaconda3\\lib\\site-packages\\simpy\\core.py\u001b[0m in \u001b[0;36mrun\u001b[1;34m(self, until)\u001b[0m\n\u001b[0;32m    252\u001b[0m         \u001b[1;32mtry\u001b[0m\u001b[1;33m:\u001b[0m\u001b[1;33m\u001b[0m\u001b[1;33m\u001b[0m\u001b[0m\n\u001b[0;32m    253\u001b[0m             \u001b[1;32mwhile\u001b[0m \u001b[1;32mTrue\u001b[0m\u001b[1;33m:\u001b[0m\u001b[1;33m\u001b[0m\u001b[1;33m\u001b[0m\u001b[0m\n\u001b[1;32m--> 254\u001b[1;33m                 \u001b[0mself\u001b[0m\u001b[1;33m.\u001b[0m\u001b[0mstep\u001b[0m\u001b[1;33m(\u001b[0m\u001b[1;33m)\u001b[0m\u001b[1;33m\u001b[0m\u001b[1;33m\u001b[0m\u001b[0m\n\u001b[0m\u001b[0;32m    255\u001b[0m         \u001b[1;32mexcept\u001b[0m \u001b[0mStopSimulation\u001b[0m \u001b[1;32mas\u001b[0m \u001b[0mexc\u001b[0m\u001b[1;33m:\u001b[0m\u001b[1;33m\u001b[0m\u001b[1;33m\u001b[0m\u001b[0m\n\u001b[0;32m    256\u001b[0m             \u001b[1;32mreturn\u001b[0m \u001b[0mexc\u001b[0m\u001b[1;33m.\u001b[0m\u001b[0margs\u001b[0m\u001b[1;33m[\u001b[0m\u001b[1;36m0\u001b[0m\u001b[1;33m]\u001b[0m  \u001b[1;31m# == until.value\u001b[0m\u001b[1;33m\u001b[0m\u001b[1;33m\u001b[0m\u001b[0m\n",
      "\u001b[1;32m~\\anaconda3\\lib\\site-packages\\simpy\\core.py\u001b[0m in \u001b[0;36mstep\u001b[1;34m(self)\u001b[0m\n\u001b[0;32m    204\u001b[0m             \u001b[0mexc\u001b[0m \u001b[1;33m=\u001b[0m \u001b[0mtype\u001b[0m\u001b[1;33m(\u001b[0m\u001b[0mevent\u001b[0m\u001b[1;33m.\u001b[0m\u001b[0m_value\u001b[0m\u001b[1;33m)\u001b[0m\u001b[1;33m(\u001b[0m\u001b[1;33m*\u001b[0m\u001b[0mevent\u001b[0m\u001b[1;33m.\u001b[0m\u001b[0m_value\u001b[0m\u001b[1;33m.\u001b[0m\u001b[0margs\u001b[0m\u001b[1;33m)\u001b[0m\u001b[1;33m\u001b[0m\u001b[1;33m\u001b[0m\u001b[0m\n\u001b[0;32m    205\u001b[0m             \u001b[0mexc\u001b[0m\u001b[1;33m.\u001b[0m\u001b[0m__cause__\u001b[0m \u001b[1;33m=\u001b[0m \u001b[0mevent\u001b[0m\u001b[1;33m.\u001b[0m\u001b[0m_value\u001b[0m\u001b[1;33m\u001b[0m\u001b[1;33m\u001b[0m\u001b[0m\n\u001b[1;32m--> 206\u001b[1;33m             \u001b[1;32mraise\u001b[0m \u001b[0mexc\u001b[0m\u001b[1;33m\u001b[0m\u001b[1;33m\u001b[0m\u001b[0m\n\u001b[0m\u001b[0;32m    207\u001b[0m \u001b[1;33m\u001b[0m\u001b[0m\n\u001b[0;32m    208\u001b[0m     def run(\n",
      "\u001b[1;31mInterrupt\u001b[0m: Interrupt(None)"
     ]
    }
   ],
   "source": [
    "env = simpy.Environment()\n",
    "carro1 = Carro(env)\n",
    "env.process(manejar_ahora(env, carro1))\n",
    "env.run(until=25)"
   ]
  },
  {
   "cell_type": "code",
   "execution_count": null,
   "metadata": {},
   "outputs": [],
   "source": [
    "TIEMPO_FABRICACION = 10\n",
    "TIEMPO_FALLA = 300\n",
    "TIEMPO_REPARACION = 38\n",
    "TIEMPO_OTROS_TRABAJOS = 30\n",
    "NUM_MAQUINAS = 10\n",
    "SEMANAS = 4\n",
    "TIEMPO_SIMULACION = SEMANAS * 7 * 24 * 60"
   ]
  },
  {
   "cell_type": "code",
   "execution_count": null,
   "metadata": {},
   "outputs": [],
   "source": [
    "def tiempo_fabricacion():\n",
    "    return random.normalvariate(TIEMPO_FABRICACION, 2)\n",
    "\n",
    "def tiempo_falla():\n",
    "    return random.expovariate(1/TIEMPO_FALLA)"
   ]
  },
  {
   "cell_type": "code",
   "execution_count": null,
   "metadata": {},
   "outputs": [],
   "source": [
    "class Maquina():\n",
    "    def __init__(self, env, nombre, tecnico):\n",
    "        self.env = env\n",
    "        self.nombre = nombre\n",
    "        self.numero_piezas = 0\n",
    "        self.falla = False\n",
    "        self.numero_fallas = 0\n",
    "        self.proceso = env.process(self.trabajo(tecnico))\n",
    "        env.process(self.falla_maquina())\n",
    "    \n",
    "    def trabajo(self, tecnico):\n",
    "        while True:\n",
    "            demora_pieza = tiempo_fabricacion()\n",
    "            while demora_pieza:\n",
    "                try:\n",
    "                    inicio = self.env.now\n",
    "                    yield self.env.timeout(demora_pieza)\n",
    "                    demora_pieza = 0\n",
    "                except simpy.Interrupt:\n",
    "                    self.numero_fallas += 1\n",
    "                    self.falla = True\n",
    "                    demora_pieza -= self.env.now - inicio\n",
    "                    with tecnico.request(priority=1) as requerimiento:\n",
    "                        yield requerimiento\n",
    "                        yield self.env.timeout(TIEMPO_REPARACION)\n",
    "                    self.falla = False\n",
    "                self.numero_piezas += 1\n",
    "    def falla_maquina(self):\n",
    "        while True:\n",
    "            yield self.env.timeout(tiempo_falla())\n",
    "            if not self.falla:\n",
    "                self.proceso.interrupt()"
   ]
  },
  {
   "cell_type": "code",
   "execution_count": null,
   "metadata": {},
   "outputs": [],
   "source": [
    "def trabajo_tecnico(env, tecnico):\n",
    "    while True:\n",
    "        tiempo = TIEMPO_OTROS_TRABAJOS\n",
    "        while tiempo:\n",
    "            with tecnico.request(priority=2) as requerimiento:\n",
    "                yield requerimiento;\n",
    "                try:\n",
    "                    inicio = env.now\n",
    "                    yield env.timeout(tiempo)\n",
    "                    tiempo = 0\n",
    "                except simpy.Interrupt:\n",
    "                    tiempo -= env.now - inicio"
   ]
  },
  {
   "cell_type": "code",
   "execution_count": null,
   "metadata": {},
   "outputs": [],
   "source": [
    "print(\"Fabriación Iniciada...\")\n",
    "\n",
    "env = simpy.Environment()\n",
    "tecnico = simpy.PreemptiveResource(env, capacity=1)\n",
    "maquinas = [Maquina(env, 'Máquina %d' % 1, tecnico) for i in range(NUM_MAQUINAS)]\n",
    "env.process(trabajo_tecnico(env, tecnico))\n",
    "env.run(until=TIEMPO_SIMULACION)\n",
    "print(\"Simulación realizada despues de %d semanas\" % (SEMANAS))\n",
    "\n",
    "for maquina in maquinas:\n",
    "    print('Nombre: %s ha realizado %d partes con numero de fallas %d' % (maquina.nombre, maquina.numero_piezas, maquina.numero_fallas))"
   ]
  }
 ],
 "metadata": {
  "kernelspec": {
   "display_name": "Python 3",
   "language": "python",
   "name": "python3"
  },
  "language_info": {
   "codemirror_mode": {
    "name": "ipython",
    "version": 3
   },
   "file_extension": ".py",
   "mimetype": "text/x-python",
   "name": "python",
   "nbconvert_exporter": "python",
   "pygments_lexer": "ipython3",
   "version": "3.8.3"
  }
 },
 "nbformat": 4,
 "nbformat_minor": 4
}
