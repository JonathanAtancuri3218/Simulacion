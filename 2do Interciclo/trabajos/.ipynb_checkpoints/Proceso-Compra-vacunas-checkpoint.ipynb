{
 "cells": [
  {
   "cell_type": "markdown",
   "metadata": {},
   "source": [
    "# Proceso  de compra de vacunas segun la llegada "
   ]
  },
  {
   "cell_type": "markdown",
   "metadata": {},
   "source": [
    "Utilizando la tarea de prediccion de llegada de vacunas y el reciento de vacunancion , realizar un sistema que permita simular y correlacionar el proceso de llegada/compras de vacuna con el proceso de vacunacion, en donde si no se tiene un stock/numero de vacunas las personas tendran que esperar/reasignar a otro dia en donde exista vacunas dentro del establecimiento y realizar el proceso de vacunacion."
   ]
  },
  {
   "cell_type": "code",
   "execution_count": 1,
   "metadata": {},
   "outputs": [],
   "source": [
    "import simpy\n",
    "import random \n",
    "import datetime as dt\n",
    "from datetime import datetime"
   ]
  },
  {
   "cell_type": "code",
   "execution_count": 2,
   "metadata": {},
   "outputs": [],
   "source": [
    "MESAS = 10 \n",
    "TIEMPO_VACUNACION = 5\n",
    "SEMANAS = 2\n",
    "TIEMPO_SIMULACION =  SEMANAS *3*9*60\n",
    "CONTROL_SIGNOS = 1\n",
    "TIEMPO_POST_VACUNA = 20\n",
    "\n",
    "tiempo_vacunacion={}\n",
    "cont={0:1}\n",
    "FECHA_ACTUAL = datetime.now().strftime('%d/%m/%Y')"
   ]
  },
  {
   "cell_type": "code",
   "execution_count": 3,
   "metadata": {},
   "outputs": [],
   "source": [
    "personas_reasignadas={}\n",
    "tiempo_vacunacion={}\n",
    "estado_personas={}"
   ]
  },
  {
   "cell_type": "code",
   "execution_count": 4,
   "metadata": {},
   "outputs": [],
   "source": [
    "class VacunasEstado():\n",
    "    def __init__(self, env):\n",
    "        self.env = env\n",
    "        self.dispensador = simpy.Resource(env, capacity=MESAS)\n",
    "        self.bodega = simpy.Container(env, init=350, capacity=800)\n",
    "        self.monitoreo = env.process(self.monitoreo_bodega())\n",
    "    def monitoreo_bodega(self,):\n",
    "        while True:\n",
    "            if self.bodega.level <= 10:\n",
    "                self.logs_procesos('++++','Solicitar nuevas vacunas ', self.env.now)\n",
    "                env.process(self.solicitar_vacunas())\n",
    "            yield self.env.timeout(15)\n",
    "    def solicitar_vacunas(self,):\n",
    "        yield self.env.timeout(50)\n",
    "        self.logs_procesos('llega suministro vacunas ',self.env.now)\n",
    "        nivel = self.bodega.capacity - self.bodega.level\n",
    "        if nivel ==0:\n",
    "            nivel+=1\n",
    "        yield self.bodega.put(nivel)\n",
    "        \n",
    "    def logs_procesos(self,icon, accion, hora):\n",
    "        print(\" %s accion:  [%s] hora:  [%d] \"%(icon, accion, hora))"
   ]
  },
  {
   "cell_type": "code",
   "execution_count": 5,
   "metadata": {},
   "outputs": [],
   "source": [
    "class Vacunacion():\n",
    "    def __init__(self, env, nombre, estadoVacunas):\n",
    "        self.env = env\n",
    "        self.nombre = nombre \n",
    "        self.estado_vacunas = estadoVacunas\n",
    "        self.proceso = env.process(self.proceso_vacunacion())\n",
    "        self.personas_vacunadas = 0\n",
    "    def control_signos(self):\n",
    "        yield self.env.timeout(random.randint(CONTROL_SIGNOS, CONTROL_SIGNOS+2))\n",
    "    \n",
    "    def logs_procesos(self,icon,nombre, accion, hora):\n",
    "        print(\" %s nombre: [%s] accion:  [%s] hora:  [%d] \"%(icon,nombre, accion, hora))\n",
    "    \n",
    "    def aplicar_vacuna(self):\n",
    "        yield self.env.timeout(random.randint(TIEMPO_VACUNACION, TIEMPO_VACUNACION+5))\n",
    "        \n",
    "    def post_vacuna(self, tiempo):\n",
    "        yield self.env.timeout(tiempo)\n",
    "    \n",
    "    def proceso_vacunacion(self,):\n",
    "        while True:\n",
    "            nombre= 'persona '+str(cont[0])\n",
    "            cont[0]=cont[0]+1\n",
    "            self.logs_procesos(\"--->\",nombre,\" llega al recinto\",self.env.now)\n",
    "            estado_personas[nombre]='cola'\n",
    "            yield env.process(self.control_signos())\n",
    "            if random.randint(1,100) > 10:\n",
    "                self.logs_procesos( nombre, \"pasa el control\", env.now)\n",
    "                estado_personas[nombre]='pasa control'\n",
    "                inicio_vacunacion =  self.env.now\n",
    "                if self.estado_vacunas.bodega.level >=1:\n",
    "                    yield env.process(self.aplicar_vacuna())\n",
    "                    estado_personas[nombre]='vacunado'\n",
    "                    self.estado_vacunas.bodega.get(1)\n",
    "                    tiempo_vacunacion[nombre] = self.env.now - inicio_vacunacion\n",
    "                    self.logs_procesos( nombre, \"fue vacunada \", self.env.now)\n",
    "                    yield env.process(self.post_vacuna(TIEMPO_POST_VACUNA))\n",
    "                    self.logs_procesos( nombre, \"sin complicaciones\", self.env.now)\n",
    "                    self.personas_vacunadas += 1\n",
    "                    estado_personas[nombre]='completo'\n",
    "                    \n",
    "                else:\n",
    "                    prox_cita = datetime.strftime(datetime.strptime(FECHA_ACTUAL, '%d/%m/%Y')+dt.timedelta(days=3), '%d/%m/%Y')\n",
    "                    print(\"--XX-- No hay vacunas para %s, reasignado fecha para: %s\"%(nombre, prox_cita))\n",
    "                    personas_reasignadas[nombre]='reasignado'\n",
    "                    estado_personas[nombre]='reasignado'\n",
    "                                \n",
    "            else:\n",
    "                self.logs_procesos('', nombre,\"no pasa el control\", self.env.now)\n",
    "                estado_personas[nombre]='no control'"
   ]
  },
  {
   "cell_type": "markdown",
   "metadata": {},
   "source": [
    "# Ejecucion de la simulacion"
   ]
  },
  {
   "cell_type": "code",
   "execution_count": 6,
   "metadata": {},
   "outputs": [
    {
     "name": "stdout",
     "output_type": "stream",
     "text": [
      " ---> nombre: [persona 1] accion:  [ llega al recinto] hora:  [0] \n",
      " ---> nombre: [persona 2] accion:  [ llega al recinto] hora:  [0] \n",
      " ---> nombre: [persona 3] accion:  [ llega al recinto] hora:  [0] \n",
      " ---> nombre: [persona 4] accion:  [ llega al recinto] hora:  [0] \n",
      " ---> nombre: [persona 5] accion:  [ llega al recinto] hora:  [0] \n",
      " ---> nombre: [persona 6] accion:  [ llega al recinto] hora:  [0] \n",
      " ---> nombre: [persona 7] accion:  [ llega al recinto] hora:  [0] \n",
      " ---> nombre: [persona 8] accion:  [ llega al recinto] hora:  [0] \n",
      " ---> nombre: [persona 9] accion:  [ llega al recinto] hora:  [0] \n",
      " ---> nombre: [persona 10] accion:  [ llega al recinto] hora:  [0] \n"
     ]
    },
    {
     "ename": "TypeError",
     "evalue": "logs_procesos() missing 1 required positional argument: 'hora'",
     "output_type": "error",
     "traceback": [
      "\u001b[1;31m---------------------------------------------------------------------------\u001b[0m",
      "\u001b[1;31mTypeError\u001b[0m                                 Traceback (most recent call last)",
      "\u001b[1;32m<ipython-input-5-3a16a242b57f>\u001b[0m in \u001b[0;36mproceso_vacunacion\u001b[1;34m(self)\u001b[0m\n\u001b[0;32m     27\u001b[0m             \u001b[1;32mif\u001b[0m \u001b[0mrandom\u001b[0m\u001b[1;33m.\u001b[0m\u001b[0mrandint\u001b[0m\u001b[1;33m(\u001b[0m\u001b[1;36m1\u001b[0m\u001b[1;33m,\u001b[0m\u001b[1;36m100\u001b[0m\u001b[1;33m)\u001b[0m \u001b[1;33m>\u001b[0m \u001b[1;36m10\u001b[0m\u001b[1;33m:\u001b[0m\u001b[1;33m\u001b[0m\u001b[1;33m\u001b[0m\u001b[0m\n\u001b[1;32m---> 28\u001b[1;33m                 \u001b[0mself\u001b[0m\u001b[1;33m.\u001b[0m\u001b[0mlogs_procesos\u001b[0m\u001b[1;33m(\u001b[0m \u001b[0mnombre\u001b[0m\u001b[1;33m,\u001b[0m \u001b[1;34m\"pasa el control\"\u001b[0m\u001b[1;33m,\u001b[0m \u001b[0menv\u001b[0m\u001b[1;33m.\u001b[0m\u001b[0mnow\u001b[0m\u001b[1;33m)\u001b[0m\u001b[1;33m\u001b[0m\u001b[1;33m\u001b[0m\u001b[0m\n\u001b[0m\u001b[0;32m     29\u001b[0m                 \u001b[0mestado_personas\u001b[0m\u001b[1;33m[\u001b[0m\u001b[0mnombre\u001b[0m\u001b[1;33m]\u001b[0m\u001b[1;33m=\u001b[0m\u001b[1;34m'pasa control'\u001b[0m\u001b[1;33m\u001b[0m\u001b[1;33m\u001b[0m\u001b[0m\n",
      "\u001b[1;31mTypeError\u001b[0m: logs_procesos() missing 1 required positional argument: 'hora'",
      "\nThe above exception was the direct cause of the following exception:\n",
      "\u001b[1;31mTypeError\u001b[0m                                 Traceback (most recent call last)",
      "\u001b[1;32m<ipython-input-6-919ebf90dfc7>\u001b[0m in \u001b[0;36m<module>\u001b[1;34m\u001b[0m\n\u001b[0;32m      3\u001b[0m \u001b[0mvacunasEstado\u001b[0m \u001b[1;33m=\u001b[0m \u001b[0mVacunasEstado\u001b[0m\u001b[1;33m(\u001b[0m\u001b[0menv\u001b[0m\u001b[1;33m)\u001b[0m\u001b[1;33m\u001b[0m\u001b[1;33m\u001b[0m\u001b[0m\n\u001b[0;32m      4\u001b[0m \u001b[0mvacunacion\u001b[0m \u001b[1;33m=\u001b[0m\u001b[1;33m[\u001b[0m\u001b[0mVacunacion\u001b[0m\u001b[1;33m(\u001b[0m\u001b[0menv\u001b[0m\u001b[1;33m,\u001b[0m\u001b[1;34m\"Mesa %d\"\u001b[0m\u001b[1;33m%\u001b[0m \u001b[0mi\u001b[0m\u001b[1;33m,\u001b[0m \u001b[0mvacunasEstado\u001b[0m\u001b[1;33m)\u001b[0m \u001b[1;32mfor\u001b[0m \u001b[0mi\u001b[0m \u001b[1;32min\u001b[0m \u001b[0mrange\u001b[0m\u001b[1;33m(\u001b[0m\u001b[0mMESAS\u001b[0m\u001b[1;33m)\u001b[0m\u001b[1;33m]\u001b[0m\u001b[1;33m\u001b[0m\u001b[1;33m\u001b[0m\u001b[0m\n\u001b[1;32m----> 5\u001b[1;33m \u001b[0menv\u001b[0m\u001b[1;33m.\u001b[0m\u001b[0mrun\u001b[0m\u001b[1;33m(\u001b[0m\u001b[0muntil\u001b[0m\u001b[1;33m=\u001b[0m\u001b[0mTIEMPO_SIMULACION\u001b[0m\u001b[1;33m)\u001b[0m\u001b[1;33m\u001b[0m\u001b[1;33m\u001b[0m\u001b[0m\n\u001b[0m\u001b[0;32m      6\u001b[0m \u001b[0mprint\u001b[0m\u001b[1;33m(\u001b[0m\u001b[1;34m\"Simulacion realizada despues de %d semanas\"\u001b[0m\u001b[1;33m%\u001b[0m\u001b[0mSEMANAS\u001b[0m\u001b[1;33m)\u001b[0m\u001b[1;33m\u001b[0m\u001b[1;33m\u001b[0m\u001b[0m\n\u001b[0;32m      7\u001b[0m \u001b[1;32mfor\u001b[0m \u001b[0mi\u001b[0m \u001b[1;32min\u001b[0m \u001b[0mvacunacion\u001b[0m\u001b[1;33m:\u001b[0m\u001b[1;33m\u001b[0m\u001b[1;33m\u001b[0m\u001b[0m\n",
      "\u001b[1;32m~\\anaconda3\\lib\\site-packages\\simpy\\core.py\u001b[0m in \u001b[0;36mrun\u001b[1;34m(self, until)\u001b[0m\n\u001b[0;32m    252\u001b[0m         \u001b[1;32mtry\u001b[0m\u001b[1;33m:\u001b[0m\u001b[1;33m\u001b[0m\u001b[1;33m\u001b[0m\u001b[0m\n\u001b[0;32m    253\u001b[0m             \u001b[1;32mwhile\u001b[0m \u001b[1;32mTrue\u001b[0m\u001b[1;33m:\u001b[0m\u001b[1;33m\u001b[0m\u001b[1;33m\u001b[0m\u001b[0m\n\u001b[1;32m--> 254\u001b[1;33m                 \u001b[0mself\u001b[0m\u001b[1;33m.\u001b[0m\u001b[0mstep\u001b[0m\u001b[1;33m(\u001b[0m\u001b[1;33m)\u001b[0m\u001b[1;33m\u001b[0m\u001b[1;33m\u001b[0m\u001b[0m\n\u001b[0m\u001b[0;32m    255\u001b[0m         \u001b[1;32mexcept\u001b[0m \u001b[0mStopSimulation\u001b[0m \u001b[1;32mas\u001b[0m \u001b[0mexc\u001b[0m\u001b[1;33m:\u001b[0m\u001b[1;33m\u001b[0m\u001b[1;33m\u001b[0m\u001b[0m\n\u001b[0;32m    256\u001b[0m             \u001b[1;32mreturn\u001b[0m \u001b[0mexc\u001b[0m\u001b[1;33m.\u001b[0m\u001b[0margs\u001b[0m\u001b[1;33m[\u001b[0m\u001b[1;36m0\u001b[0m\u001b[1;33m]\u001b[0m  \u001b[1;31m# == until.value\u001b[0m\u001b[1;33m\u001b[0m\u001b[1;33m\u001b[0m\u001b[0m\n",
      "\u001b[1;32m~\\anaconda3\\lib\\site-packages\\simpy\\core.py\u001b[0m in \u001b[0;36mstep\u001b[1;34m(self)\u001b[0m\n\u001b[0;32m    204\u001b[0m             \u001b[0mexc\u001b[0m \u001b[1;33m=\u001b[0m \u001b[0mtype\u001b[0m\u001b[1;33m(\u001b[0m\u001b[0mevent\u001b[0m\u001b[1;33m.\u001b[0m\u001b[0m_value\u001b[0m\u001b[1;33m)\u001b[0m\u001b[1;33m(\u001b[0m\u001b[1;33m*\u001b[0m\u001b[0mevent\u001b[0m\u001b[1;33m.\u001b[0m\u001b[0m_value\u001b[0m\u001b[1;33m.\u001b[0m\u001b[0margs\u001b[0m\u001b[1;33m)\u001b[0m\u001b[1;33m\u001b[0m\u001b[1;33m\u001b[0m\u001b[0m\n\u001b[0;32m    205\u001b[0m             \u001b[0mexc\u001b[0m\u001b[1;33m.\u001b[0m\u001b[0m__cause__\u001b[0m \u001b[1;33m=\u001b[0m \u001b[0mevent\u001b[0m\u001b[1;33m.\u001b[0m\u001b[0m_value\u001b[0m\u001b[1;33m\u001b[0m\u001b[1;33m\u001b[0m\u001b[0m\n\u001b[1;32m--> 206\u001b[1;33m             \u001b[1;32mraise\u001b[0m \u001b[0mexc\u001b[0m\u001b[1;33m\u001b[0m\u001b[1;33m\u001b[0m\u001b[0m\n\u001b[0m\u001b[0;32m    207\u001b[0m \u001b[1;33m\u001b[0m\u001b[0m\n\u001b[0;32m    208\u001b[0m     def run(\n",
      "\u001b[1;31mTypeError\u001b[0m: logs_procesos() missing 1 required positional argument: 'hora'"
     ]
    }
   ],
   "source": [
    "env = simpy.Environment()\n",
    "\n",
    "vacunasEstado = VacunasEstado(env)\n",
    "vacunacion =[Vacunacion(env,\"Mesa %d\"% i, vacunasEstado) for i in range(MESAS)]\n",
    "env.run(until=TIEMPO_SIMULACION)\n",
    "print(\"Simulacion realizada despues de %d semanas\"%SEMANAS)\n",
    "for i in vacunacion:\n",
    "    print(\"[%s] ha vacunado a [%d] personas\"%(i.nombre,i.personas_vacunadas))"
   ]
  },
  {
   "cell_type": "code",
   "execution_count": null,
   "metadata": {},
   "outputs": [],
   "source": []
  }
 ],
 "metadata": {
  "kernelspec": {
   "display_name": "Python 3",
   "language": "python",
   "name": "python3"
  },
  "language_info": {
   "codemirror_mode": {
    "name": "ipython",
    "version": 3
   },
   "file_extension": ".py",
   "mimetype": "text/x-python",
   "name": "python",
   "nbconvert_exporter": "python",
   "pygments_lexer": "ipython3",
   "version": "3.8.3"
  }
 },
 "nbformat": 4,
 "nbformat_minor": 4
}
