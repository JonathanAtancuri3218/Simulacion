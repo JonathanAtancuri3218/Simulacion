{
 "cells": [
  {
   "cell_type": "markdown",
   "metadata": {},
   "source": [
    "## Tarea\n",
    "\n",
    "1 Con los datos de Fifa, organizar a los jugadores de acuerdo al peso en las siguientes escalas y generar un cuadro tipo PIE\n",
    "\n",
    "* Debajo 125 Lbs.\n",
    "* 125-150\n",
    "* 150-175\n",
    "* 175 o superior\n",
    "\n",
    "2 Generar un grafico de barras (histograma) de acuerdo a su habilidad (Overall)  en base a los siguientes segmentos contando el número de jugadores\n",
    "\n",
    "* 40\n",
    "* 50\n",
    "* 60\n",
    "* 70\n",
    "* 80\n",
    "* 90\n",
    "* 100\n",
    "\n",
    "3 Investigar como pasar parametros y generar reportes utilizando Notebook, una de las formas es utilizar papermill"
   ]
  },
  {
   "cell_type": "code",
   "execution_count": null,
   "metadata": {},
   "outputs": [],
   "source": []
  }
 ],
 "metadata": {
  "kernelspec": {
   "display_name": "Python 3",
   "language": "python",
   "name": "python3"
  },
  "language_info": {
   "codemirror_mode": {
    "name": "ipython",
    "version": 3
   },
   "file_extension": ".py",
   "mimetype": "text/x-python",
   "name": "python",
   "nbconvert_exporter": "python",
   "pygments_lexer": "ipython3",
   "version": "3.8.3"
  }
 },
 "nbformat": 4,
 "nbformat_minor": 4
}
