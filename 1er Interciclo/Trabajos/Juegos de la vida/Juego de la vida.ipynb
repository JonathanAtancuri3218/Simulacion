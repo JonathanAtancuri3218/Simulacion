{
 "cells": [
  {
   "cell_type": "markdown",
   "metadata": {},
   "source": [
    "# Ejercicio en clase\n",
    "\n",
    "Emplear el programa del “juego de la vida” de John Conway para realizar el siguiente proceso de simulación:\n",
    "* Determinar las variables que rigen el sistema\n",
    "* Diseñar un plan de simulación que permita llegar a una configuración en que los autómatas celulares no varíen\n",
    "* Diseñar un plan de pruebas automatizado, es decir, que sea controlado por el ordenador y que permita lanzar una batería de experimentos.\n",
    "* Recopilar los resultados de estos planes.\n",
    "* Dirección Web del Juego de la Vida:\n",
    "http://www.bitstorm.org/gameoflife/\n"
   ]
  },
  {
   "cell_type": "code",
   "execution_count": 8,
   "metadata": {},
   "outputs": [],
   "source": [
    "from time import sleep\n",
    "\n",
    "import numpy as np\n",
    "import matplotlib.pyplot as plt\n",
    "import matplotlib.cm as cm\n",
    "from matplotlib import animation\n",
    "\n",
    "import random\n",
    "from matplotlib.widgets import Button\n",
    "\n"
   ]
  },
  {
   "cell_type": "markdown",
   "metadata": {},
   "source": [
    "Pues bien, vamos a desplazar nuestro tablero una posición en las ocho direcciones posibles (recuerda que se cuenta la diagonal también) y vamos a sumar el resultado. Como cada célula viva tendrá el valor 1, esto me dará, en cada celda, el número de células vecinas vivas."
   ]
  },
  {
   "cell_type": "code",
   "execution_count": 9,
   "metadata": {},
   "outputs": [],
   "source": [
    "def vecindario(b):\n",
    "    \"\"\"Array de células vivas en el vecindario.\"\"\"\n",
    "    vecindario = (\n",
    "        np.roll(np.roll(b, 1, 1), 1, 0) +  # Abajo-derecha\n",
    "        np.roll(b, 1, 0) +  # Abajo\n",
    "        np.roll(np.roll(b, -1, 1), 1, 0) +  # Abajo-izquierda\n",
    "        np.roll(b, -1, 1) +  # Izquierda\n",
    "        np.roll(np.roll(b, -1, 1), -1, 0) +  # Arriba-izquierda\n",
    "        np.roll(b, -1, 0) +  # Arriba\n",
    "        np.roll(np.roll(b, 1, 1), -1, 0) +  # Arriba-derecha\n",
    "        np.roll(b, 1, 1)  # Derecha\n",
    "    )\n",
    "    return vecindario"
   ]
  },
  {
   "cell_type": "markdown",
   "metadata": {},
   "source": [
    "Una vez que tenemos el array vecindario, es sencillísimo determinar qué células sobreviven, cuáles mueren y cuáles nacen:"
   ]
  },
  {
   "cell_type": "code",
   "execution_count": 10,
   "metadata": {},
   "outputs": [],
   "source": [
    "def paso(b):\n",
    "    \"\"\"Paso en el juego de la vida de Conway.\"\"\"\n",
    "    v = vecindario(b)\n",
    "    buffer_b = b.copy()  # Hacemos una copia de la matriz\n",
    "    for i in range(buffer_b.shape[0]):\n",
    "        for j in range(buffer_b.shape[1]):\n",
    "            if v[i, j] == 3 or (v[i, j] == 2 and buffer_b[i, j]):\n",
    "                buffer_b[i, j] = 1\n",
    "            else:\n",
    "                buffer_b[i, j] = 0\n",
    "    return buffer_b"
   ]
  },
  {
   "cell_type": "code",
   "execution_count": 11,
   "metadata": {},
   "outputs": [],
   "source": [
    "# Parámetros del problema\n",
    "GENERACIONES = 100\n",
    "N = 16 # Dimensiones del tablero (N, M)\n",
    "M = N\n",
    "\n",
    "pause = True # Pausa\n",
    "\n",
    "def onClick(event):\n",
    "    global pause\n",
    "    pause ^= True\n",
    "\n",
    "# Construimos el tablero\n",
    "tablero = np.zeros((N, M), dtype = int)\n",
    "\n",
    "# CONDICIONES INICIALES (CASILLAS ENCENDIDAS)\n",
    "#   Añadimos una nave \n",
    "tablero[1, 1:4] = 1\n",
    "tablero[2, 1] = 1\n",
    "tablero[3, 2] = 1"
   ]
  },
  {
   "cell_type": "code",
   "execution_count": 12,
   "metadata": {},
   "outputs": [
    {
     "data": {
      "image/png": "[encoded data removed]",
      "text/plain": [
       "<Figure size 288x288 with 3 Axes>"
      ]
     },
     "metadata": {
      "needs_background": "light"
     },
     "output_type": "display_data"
    }
   ],
   "source": [
    "def randomize(event):\n",
    "    for i in range(0, N-1):\n",
    "        for j in range(0, N-1):\n",
    "            tablero[i, j] = random.randint(0, 1)\n",
    "    global b\n",
    "    b = tablero\n",
    "    imagen.set_data(b)\n",
    "    print(tablero)\n",
    "\n",
    "# Creamos la figura, formateo diverso\n",
    "fig = plt.figure(figsize=(4, 4))\n",
    "ax = fig.add_subplot(111)\n",
    "# ax.axis('off')\n",
    "b = tablero \n",
    "imagen = ax.imshow(b, interpolation=\"none\", aspect = \"equal\", cmap=cm.gray_r)\n",
    "\n",
    "# Major ticks\n",
    "# ax.set_xticks(np.arange(0, N, 1));\n",
    "ax.set_yticks(np.arange(0, N, 1));\n",
    "\n",
    "# Labels for major ticks\n",
    "# ax.set_xticklabels(np.arange(1, N+1, 1));\n",
    "ax.set_yticklabels(np.arange(1, N+1, 1));\n",
    "\n",
    "# Minor ticks\n",
    "# ax.set_xticks(np.arange(-.5, N, 1), minor=True);\n",
    "# ax.set_yticks(np.arange(-.5, N, 1), minor=True);\n",
    "\n",
    "plt.tick_params(    \n",
    "    axis='x',          # changes apply to the x-axis\n",
    "    which='both',      # both major and minor ticks are affected\n",
    "    bottom=False,      # ticks along the bottom edge are off\n",
    "    top=False,         # ticks along the top edge are off\n",
    "    labelbottom=False) # labels along the bottom edge are off\n",
    "\n",
    "def animate(i):\n",
    "    global b\n",
    "\n",
    "    if not pause: # Pause check\n",
    "        print(i) # El parámetro de avance: la pausa no le afecta\n",
    "        b = paso(b) # Iteramos la animación\n",
    "        \n",
    "        imagen.set_data(b)\n",
    "    \n",
    "    return imagen,\n",
    "\n",
    "# Botones play/pausa, randomizar\n",
    "# fig.canvas.mpl_connect('button_press_event', onClick) # Si queremos conectar el click puse a la figura entera\n",
    "pause_ax = fig.add_axes((0.3, 0.025, 0.23, 0.04), anchor = 'SE')\n",
    "pause_button = Button(pause_ax, 'Play/pause', hovercolor='0.975')\n",
    "pause_button.on_clicked(onClick)\n",
    "\n",
    "random_ax = fig.add_axes((0.6, 0.025, 0.3, 0.04), anchor = 'SW')\n",
    "random_button = Button(random_ax, 'Randomize I. C.', hovercolor='0.975')\n",
    "random_button.on_clicked(randomize)\n",
    "\n",
    "# Animacion \n",
    "anim = animation.FuncAnimation(fig, animate, frames=GENERACIONES, blit=True, interval = 200, repeat = True)\n",
    "plt.show()"
   ]
  },
  {
   "cell_type": "code",
   "execution_count": null,
   "metadata": {},
   "outputs": [],
   "source": []
  }
 ],
 "metadata": {
  "kernelspec": {
   "display_name": "Python 3",
   "language": "python",
   "name": "python3"
  },
  "language_info": {
   "codemirror_mode": {
    "name": "ipython",
    "version": 3
   },
   "file_extension": ".py",
   "mimetype": "text/x-python",
   "name": "python",
   "nbconvert_exporter": "python",
   "pygments_lexer": "ipython3",
   "version": "3.8.3"
  }
 },
 "nbformat": 4,
 "nbformat_minor": 4
}
