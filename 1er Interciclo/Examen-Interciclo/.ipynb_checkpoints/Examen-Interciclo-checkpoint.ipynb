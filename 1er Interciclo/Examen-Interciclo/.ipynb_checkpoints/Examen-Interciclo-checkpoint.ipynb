{
 "cells": [
  {
   "cell_type": "markdown",
   "metadata": {},
   "source": [
    "![UPS](ups.png)\n",
    "&nbsp;\n",
    "\n",
    "**Nombre:** Jonathan Atancuri\n",
    "\n",
    "**Asignatura:** Simulacion\n",
    "\n",
    "**Carrera:** Ing. Sistemas\n",
    "\n",
    "**Profesor:** Diego Quisi\n",
    "\n",
    "# Examen Interciclo-Simulacion\n",
    "\n",
    "### Objetivo:\n",
    "\n",
    "* Consolidar los conocimientos adquiridos en clase para desarrollar simulaciones de eventos discretos.\n",
    "\n",
    "### Introducción:\n",
    "\n",
    "El golpe económico de la crisis sanitaria del corona virus no va a ser cosa de semanas, sino de meses. Dentro de una de las etapas importantes posteriores a las elecciones presidenciales son el análisis y tendencia que tiene el actual presidente. Para ello se plantea realizar un sistema de regresión que permita identificar cual es la tendencia en base al manejo de las redes sociales (Twitter y/o Facebook) del presidente [1].\n",
    "\n",
    "Las regresiones lineales pueden aprenden por sí mismos y en este caso obtener automáticamente esa “recta o ecuación” que buscamos con la tendencia de predicción. Para ello se puede medir el error con respecto a los puntos de entrada y el valor “Y” de salida real [3].\n",
    "\n",
    "\n",
    "#### Enunciado:\n",
    "\n",
    "*\tDiseñe y desarrolle un modelo y/o script que permita simular el siguiente caso real:\n",
    "*\tObtener datos de tendencia de twitter o facebook(crawler o webscraping), para ello se puede obtener a través del API [4].\n",
    "*\tTitle: Titulo del Post/Twitter\n",
    "*\tWord count: la cantidad de palabras del artículo,\n",
    "*\tnumber of Links: los enlaces externos que contiene,\n",
    "*\tnumber of comments: cantidad de comentarios,\n",
    "*\tnumber Shares: compartidos.\n",
    "*\tHashTag\n",
    "*\tEtc.\n",
    "\n",
    "En base a ello, se pretende proponer y generar una predicción de cuántas veces será compartido un post/twitter utilizando regresión [2].\n"
   ]
  },
  {
   "cell_type": "markdown",
   "metadata": {},
   "source": [
    "# LA API DE TWITER TIENE ALGUNAS LIMITACIONES.\n",
    "\n",
    "Se puede procesar:\n",
    "\n",
    "180 requerimientos cada 15 minutos.\n",
    "\n",
    "TWITER SEARCH: 450 tweets por requerimiento.\n",
    "\n",
    "USUARIO: 900 usuarios por requerimiento\n",
    "\n",
    "TIMELINES: 1500 tweets por requerimiento, Solo se puede sacar los últimos 3200 Tweets (incluye los retweets)."
   ]
  },
  {
   "cell_type": "code",
   "execution_count": 1,
   "metadata": {},
   "outputs": [],
   "source": [
    "#Importamos la librerías necesarias.\n",
    "import tweepy\n",
    "import json \n",
    "import csv\n",
    "import codecs\n",
    "from os import remove\n",
    "import numpy as np\n",
    "import pandas as pd\n",
    "import seaborn as sb\n",
    "import matplotlib.pyplot as plt\n",
    "from datetime import datetime,timedelta\n",
    "from mpl_toolkits.mplot3d import Axes3D\n",
    "from matplotlib import cm\n",
    "plt.rcParams['figure.figsize'] = (16, 9)\n",
    "plt.style.use('ggplot')\n",
    "from sklearn import linear_model\n",
    "from sklearn.metrics import mean_squared_error, r2_score\n",
    "from scipy.optimize import curve_fit\n",
    "from lmfit.models import StepModel, LinearModel\n",
    "\n",
    "%matplotlib inline"
   ]
  },
  {
   "cell_type": "code",
   "execution_count": 2,
   "metadata": {},
   "outputs": [],
   "source": [
    "# Ahora procedemos a autenticarnos usando el API Key, el API secret Key, el Access token y el Access token secret que se generaron al crear nuestra aplicación en Twitter.\n",
    "consumer_key = \"7WjRyBLWCmtCutSig0mpqlec5\"\n",
    "consumer_secret = \"BCdV2YThbvw6gC7tj5OZbjlR8DSU2gDFwaRjr7Xs1T5P4vmptM\"\n",
    "access_token = \"1302969322533519360-tw5klydBCGiTfJ4VhsnJwuOEgK5OYI\"\n",
    "access_token_secret = \"E7PuklL3RpWVWOg91PfygcMC9absNBMX5xKm0YXHp2Kgk\"\n",
    "\n",
    "auth = tweepy.OAuthHandler(consumer_key, consumer_secret)\n",
    "auth.set_access_token(access_token, access_token_secret)"
   ]
  },
  {
   "cell_type": "code",
   "execution_count": 3,
   "metadata": {},
   "outputs": [],
   "source": [
    "#Instancio el objeto.\n",
    "api = tweepy.API(auth, wait_on_rate_limit=True,wait_on_rate_limit_notify=True)"
   ]
  },
  {
   "cell_type": "markdown",
   "metadata": {},
   "source": [
    "# Datos de la Persona a Buscar"
   ]
  },
  {
   "cell_type": "code",
   "execution_count": 7,
   "metadata": {},
   "outputs": [
    {
     "data": {
      "text/plain": [
       "['LassoGuillermo']"
      ]
     },
     "execution_count": 7,
     "metadata": {},
     "output_type": "execute_result"
    }
   ],
   "source": [
    "\n",
    "presidente = ['LassoGuillermo']\n",
    "presidente"
   ]
  },
  {
   "cell_type": "markdown",
   "metadata": {},
   "source": [
    "# FILTRAMOS LOS DATOS."
   ]
  },
  {
   "cell_type": "code",
   "execution_count": 8,
   "metadata": {},
   "outputs": [
    {
     "name": "stdout",
     "output_type": "stream",
     "text": [
      "Datos del Presidente: Guillermo Lasso\n",
      "http://www.guillermolasso.ec\n",
      "Tweets del Presidente.\n",
      "882232\n"
     ]
    }
   ],
   "source": [
    "#remove(\"presidente.csv\")# Descomentar si se va a eliminar para cargar con nuevos datos.\n",
    "#Seccion de campos a extraer\n",
    "name, user,follower,text, menciones, likes, hashtags, share = '','', '' ,'','','','',''\n",
    "#Nombres dentro de csv\n",
    "rows  = [['Nombre', 'usuario','followers','contenido','menciones','hashtags','likes','veces compartido']]\n",
    "contador_filas =0\n",
    "for candidato in presidente:\n",
    "    #Obtenemos la informacion del presidente.\n",
    "    data = api.get_user(candidato)\n",
    "    print('Datos del Presidente: '+ data._json['name'])\n",
    "    diccionario =data._json['entities'] \n",
    "    lista=[]\n",
    "    \n",
    "    for link in diccionario :  #recorremos \n",
    "        valor = diccionario[link]\n",
    "        for vrd_valor in valor:\n",
    "            lista = [lista,valor[vrd_valor]]\n",
    "        \n",
    "    new_lista = lista[0]\n",
    "    listaA=new_lista[1]\n",
    "    i=0;\n",
    "    link_presidente=''\n",
    "    for dia in listaA:\n",
    "        link = dia\n",
    "        for links in link:\n",
    "            i=i+1\n",
    "            if i == 2:\n",
    "                link_presidente =link[links]\n",
    "\n",
    "    print(link_presidente)\n",
    "    print('Tweets del Presidente.')\n",
    "    name, user, followers = data._json['name'],data._json['screen_name'],data._json['followers_count']\n",
    "    print(followers)\n",
    "    for tweet in tweepy.Cursor(api.user_timeline, screen_name=candidato, tweet_mode = 'extend').items(100):\n",
    "        diccionario =tweet._json['entities'] \n",
    "        hashtags = diccionario['hashtags']\n",
    "        menciones = diccionario['user_mentions']\n",
    "        i=0;\n",
    "        j=0;\n",
    "        #print('HASHTAGS:')\n",
    "        users_mnc=''\n",
    "        hastags=''\n",
    "        for dia in hashtags:\n",
    "            hst = dia\n",
    "            for links in hst:\n",
    "\n",
    "                i=i+1\n",
    "                if i == 1:\n",
    "                    hastags =hst[links]\n",
    "                    #print(hastags)\n",
    "\n",
    "        #print('USERS MECIONADOS:')\n",
    "        for m in menciones:\n",
    "            mnc = m\n",
    "           #print(mnc)\n",
    "            for m_user in mnc:\n",
    "                j=j+1\n",
    "                if j == 1:\n",
    "                    users_mnc=mnc[m_user]\n",
    "                    #print(mnc[m_user])\n",
    "        text, menciones, likes,share=tweet._json['text'].encode(\"utf-8\"),users_mnc,tweet._json['favorite_count'],tweet._json['retweet_count']       \n",
    "        single_row=[name, user, followers, text, menciones,hastags, likes, share]\n",
    "\n",
    "        rows.append(single_row)\n",
    "        \n",
    "with open('presidente.csv', 'w', newline='') as file:\n",
    "    writer = csv.writer(file)\n",
    "    writer.writerows(rows)"
   ]
  },
  {
   "cell_type": "markdown",
   "metadata": {},
   "source": [
    "# RECUPERAMOS LOS DATOS GUARDADOS DE LOS CANDIDATOS"
   ]
  },
  {
   "cell_type": "code",
   "execution_count": 9,
   "metadata": {},
   "outputs": [],
   "source": [
    "#cargamos los datos de entrada\n",
    "df= pd.read_csv(\"presidente.csv\", engine='python')"
   ]
  },
  {
   "cell_type": "code",
   "execution_count": 10,
   "metadata": {},
   "outputs": [
    {
     "data": {
      "text/plain": [
       "(100, 8)"
      ]
     },
     "execution_count": 10,
     "metadata": {},
     "output_type": "execute_result"
    }
   ],
   "source": [
    "#veamos cuantas dimensiones y registros contiene\n",
    "df.shape"
   ]
  },
  {
   "cell_type": "code",
   "execution_count": 11,
   "metadata": {},
   "outputs": [
    {
     "data": {
      "text/html": [
       "<div>\n",
       "<style scoped>\n",
       "    .dataframe tbody tr th:only-of-type {\n",
       "        vertical-align: middle;\n",
       "    }\n",
       "\n",
       "    .dataframe tbody tr th {\n",
       "        vertical-align: top;\n",
       "    }\n",
       "\n",
       "    .dataframe thead th {\n",
       "        text-align: right;\n",
       "    }\n",
       "</style>\n",
       "<table border=\"1\" class=\"dataframe\">\n",
       "  <thead>\n",
       "    <tr style=\"text-align: right;\">\n",
       "      <th></th>\n",
       "      <th>Nombre</th>\n",
       "      <th>usuario</th>\n",
       "      <th>followers</th>\n",
       "      <th>contenido</th>\n",
       "      <th>menciones</th>\n",
       "      <th>hashtags</th>\n",
       "      <th>likes</th>\n",
       "      <th>veces compartido</th>\n",
       "    </tr>\n",
       "  </thead>\n",
       "  <tbody>\n",
       "    <tr>\n",
       "      <th>0</th>\n",
       "      <td>Guillermo Lasso</td>\n",
       "      <td>LassoGuillermo</td>\n",
       "      <td>882232</td>\n",
       "      <td>b'En el #D\\xc3\\xadaNacionalDelVotoFemeninoEc, ...</td>\n",
       "      <td>NaN</td>\n",
       "      <td>DíaNacionalDelVotoFemeninoEc</td>\n",
       "      <td>167</td>\n",
       "      <td>32</td>\n",
       "    </tr>\n",
       "    <tr>\n",
       "      <th>1</th>\n",
       "      <td>Guillermo Lasso</td>\n",
       "      <td>LassoGuillermo</td>\n",
       "      <td>882232</td>\n",
       "      <td>b'Convers\\xc3\\xa9 con el Presidente @lopezobra...</td>\n",
       "      <td>lopezobrador_</td>\n",
       "      <td>NaN</td>\n",
       "      <td>500</td>\n",
       "      <td>59</td>\n",
       "    </tr>\n",
       "    <tr>\n",
       "      <th>2</th>\n",
       "      <td>Guillermo Lasso</td>\n",
       "      <td>LassoGuillermo</td>\n",
       "      <td>882232</td>\n",
       "      <td>b'\\xc2\\xa1El #PlanVacunaci\\xc3\\xb3n9100 es un ...</td>\n",
       "      <td>NaN</td>\n",
       "      <td>PlanVacunación9100</td>\n",
       "      <td>162</td>\n",
       "      <td>42</td>\n",
       "    </tr>\n",
       "    <tr>\n",
       "      <th>3</th>\n",
       "      <td>Guillermo Lasso</td>\n",
       "      <td>LassoGuillermo</td>\n",
       "      <td>882232</td>\n",
       "      <td>b'Agradecido y comprometido con el Ecuador del...</td>\n",
       "      <td>NaN</td>\n",
       "      <td>NaN</td>\n",
       "      <td>882</td>\n",
       "      <td>128</td>\n",
       "    </tr>\n",
       "    <tr>\n",
       "      <th>4</th>\n",
       "      <td>Guillermo Lasso</td>\n",
       "      <td>LassoGuillermo</td>\n",
       "      <td>882232</td>\n",
       "      <td>b'Si ya fuiste vacunado, puedes registrar la i...</td>\n",
       "      <td>NaN</td>\n",
       "      <td>NaN</td>\n",
       "      <td>360</td>\n",
       "      <td>132</td>\n",
       "    </tr>\n",
       "  </tbody>\n",
       "</table>\n",
       "</div>"
      ],
      "text/plain": [
       "            Nombre         usuario  followers  \\\n",
       "0  Guillermo Lasso  LassoGuillermo     882232   \n",
       "1  Guillermo Lasso  LassoGuillermo     882232   \n",
       "2  Guillermo Lasso  LassoGuillermo     882232   \n",
       "3  Guillermo Lasso  LassoGuillermo     882232   \n",
       "4  Guillermo Lasso  LassoGuillermo     882232   \n",
       "\n",
       "                                           contenido      menciones  \\\n",
       "0  b'En el #D\\xc3\\xadaNacionalDelVotoFemeninoEc, ...            NaN   \n",
       "1  b'Convers\\xc3\\xa9 con el Presidente @lopezobra...  lopezobrador_   \n",
       "2  b'\\xc2\\xa1El #PlanVacunaci\\xc3\\xb3n9100 es un ...            NaN   \n",
       "3  b'Agradecido y comprometido con el Ecuador del...            NaN   \n",
       "4  b'Si ya fuiste vacunado, puedes registrar la i...            NaN   \n",
       "\n",
       "                       hashtags  likes  veces compartido  \n",
       "0  DíaNacionalDelVotoFemeninoEc    167                32  \n",
       "1                           NaN    500                59  \n",
       "2            PlanVacunación9100    162                42  \n",
       "3                           NaN    882               128  \n",
       "4                           NaN    360               132  "
      ]
     },
     "execution_count": 11,
     "metadata": {},
     "output_type": "execute_result"
    }
   ],
   "source": [
    "\n",
    "#son 100 registros con 8 columnas. Veamos los primeros registros\n",
    "df.head()"
   ]
  },
  {
   "cell_type": "code",
   "execution_count": 12,
   "metadata": {},
   "outputs": [
    {
     "data": {
      "text/html": [
       "<div>\n",
       "<style scoped>\n",
       "    .dataframe tbody tr th:only-of-type {\n",
       "        vertical-align: middle;\n",
       "    }\n",
       "\n",
       "    .dataframe tbody tr th {\n",
       "        vertical-align: top;\n",
       "    }\n",
       "\n",
       "    .dataframe thead th {\n",
       "        text-align: right;\n",
       "    }\n",
       "</style>\n",
       "<table border=\"1\" class=\"dataframe\">\n",
       "  <thead>\n",
       "    <tr style=\"text-align: right;\">\n",
       "      <th></th>\n",
       "      <th>followers</th>\n",
       "      <th>likes</th>\n",
       "      <th>veces compartido</th>\n",
       "    </tr>\n",
       "  </thead>\n",
       "  <tbody>\n",
       "    <tr>\n",
       "      <th>count</th>\n",
       "      <td>100.0</td>\n",
       "      <td>100.000000</td>\n",
       "      <td>100.000000</td>\n",
       "    </tr>\n",
       "    <tr>\n",
       "      <th>mean</th>\n",
       "      <td>882232.0</td>\n",
       "      <td>437.760000</td>\n",
       "      <td>81.320000</td>\n",
       "    </tr>\n",
       "    <tr>\n",
       "      <th>std</th>\n",
       "      <td>0.0</td>\n",
       "      <td>913.257342</td>\n",
       "      <td>134.235951</td>\n",
       "    </tr>\n",
       "    <tr>\n",
       "      <th>min</th>\n",
       "      <td>882232.0</td>\n",
       "      <td>0.000000</td>\n",
       "      <td>0.000000</td>\n",
       "    </tr>\n",
       "    <tr>\n",
       "      <th>25%</th>\n",
       "      <td>882232.0</td>\n",
       "      <td>2.000000</td>\n",
       "      <td>0.000000</td>\n",
       "    </tr>\n",
       "    <tr>\n",
       "      <th>50%</th>\n",
       "      <td>882232.0</td>\n",
       "      <td>9.500000</td>\n",
       "      <td>3.500000</td>\n",
       "    </tr>\n",
       "    <tr>\n",
       "      <th>75%</th>\n",
       "      <td>882232.0</td>\n",
       "      <td>495.500000</td>\n",
       "      <td>114.750000</td>\n",
       "    </tr>\n",
       "    <tr>\n",
       "      <th>max</th>\n",
       "      <td>882232.0</td>\n",
       "      <td>6585.000000</td>\n",
       "      <td>879.000000</td>\n",
       "    </tr>\n",
       "  </tbody>\n",
       "</table>\n",
       "</div>"
      ],
      "text/plain": [
       "       followers        likes  veces compartido\n",
       "count      100.0   100.000000        100.000000\n",
       "mean    882232.0   437.760000         81.320000\n",
       "std          0.0   913.257342        134.235951\n",
       "min     882232.0     0.000000          0.000000\n",
       "25%     882232.0     2.000000          0.000000\n",
       "50%     882232.0     9.500000          3.500000\n",
       "75%     882232.0   495.500000        114.750000\n",
       "max     882232.0  6585.000000        879.000000"
      ]
     },
     "execution_count": 12,
     "metadata": {},
     "output_type": "execute_result"
    }
   ],
   "source": [
    "# Ahora veamos algunas estadísticas de nuestros datos\n",
    "df.describe()"
   ]
  },
  {
   "cell_type": "code",
   "execution_count": 13,
   "metadata": {},
   "outputs": [
    {
     "data": {
      "image/png": "[encoded data removed]",
      "text/plain": [
       "<Figure size 432x288 with 4 Axes>"
      ]
     },
     "metadata": {
      "needs_background": "light"
     },
     "output_type": "display_data"
    }
   ],
   "source": [
    "# Visualizamos rápidamente las caraterísticas de entrada\n",
    "df.drop(['contenido'],1).hist()\n",
    "plt.show()"
   ]
  },
  {
   "cell_type": "code",
   "execution_count": 14,
   "metadata": {},
   "outputs": [
    {
     "data": {
      "text/plain": [
       "<matplotlib.axes._subplots.AxesSubplot at 0x2318f355d30>"
      ]
     },
     "execution_count": 14,
     "metadata": {},
     "output_type": "execute_result"
    },
    {
     "data": {
      "image/png": "[encoded data removed]",
      "text/plain": [
       "<Figure size 432x288 with 1 Axes>"
      ]
     },
     "metadata": {
      "needs_background": "light"
     },
     "output_type": "display_data"
    }
   ],
   "source": [
    "df.plot(x ='likes' , y='veces compartido')"
   ]
  },
  {
   "cell_type": "markdown",
   "metadata": {},
   "source": [
    "# UNA VEZ OBTENIDOS LO DATOS SE PROCECE A HACER LA REGRESION PARA ELLO TOMANDO  LA CANTIDAD DE LIKES ."
   ]
  },
  {
   "cell_type": "markdown",
   "metadata": {},
   "source": [
    "# GUILLERMO LASSO"
   ]
  },
  {
   "cell_type": "code",
   "execution_count": 15,
   "metadata": {},
   "outputs": [
    {
     "data": {
      "text/html": [
       "<div>\n",
       "<style scoped>\n",
       "    .dataframe tbody tr th:only-of-type {\n",
       "        vertical-align: middle;\n",
       "    }\n",
       "\n",
       "    .dataframe tbody tr th {\n",
       "        vertical-align: top;\n",
       "    }\n",
       "\n",
       "    .dataframe thead th {\n",
       "        text-align: right;\n",
       "    }\n",
       "</style>\n",
       "<table border=\"1\" class=\"dataframe\">\n",
       "  <thead>\n",
       "    <tr style=\"text-align: right;\">\n",
       "      <th></th>\n",
       "      <th>Nombre</th>\n",
       "      <th>usuario</th>\n",
       "      <th>followers</th>\n",
       "      <th>contenido</th>\n",
       "      <th>menciones</th>\n",
       "      <th>hashtags</th>\n",
       "      <th>likes</th>\n",
       "      <th>veces compartido</th>\n",
       "    </tr>\n",
       "  </thead>\n",
       "  <tbody>\n",
       "    <tr>\n",
       "      <th>0</th>\n",
       "      <td>Guillermo Lasso</td>\n",
       "      <td>LassoGuillermo</td>\n",
       "      <td>882232</td>\n",
       "      <td>b'En el #D\\xc3\\xadaNacionalDelVotoFemeninoEc, ...</td>\n",
       "      <td>NaN</td>\n",
       "      <td>DíaNacionalDelVotoFemeninoEc</td>\n",
       "      <td>167</td>\n",
       "      <td>32</td>\n",
       "    </tr>\n",
       "    <tr>\n",
       "      <th>1</th>\n",
       "      <td>Guillermo Lasso</td>\n",
       "      <td>LassoGuillermo</td>\n",
       "      <td>882232</td>\n",
       "      <td>b'Convers\\xc3\\xa9 con el Presidente @lopezobra...</td>\n",
       "      <td>lopezobrador_</td>\n",
       "      <td>NaN</td>\n",
       "      <td>500</td>\n",
       "      <td>59</td>\n",
       "    </tr>\n",
       "    <tr>\n",
       "      <th>2</th>\n",
       "      <td>Guillermo Lasso</td>\n",
       "      <td>LassoGuillermo</td>\n",
       "      <td>882232</td>\n",
       "      <td>b'\\xc2\\xa1El #PlanVacunaci\\xc3\\xb3n9100 es un ...</td>\n",
       "      <td>NaN</td>\n",
       "      <td>PlanVacunación9100</td>\n",
       "      <td>162</td>\n",
       "      <td>42</td>\n",
       "    </tr>\n",
       "    <tr>\n",
       "      <th>3</th>\n",
       "      <td>Guillermo Lasso</td>\n",
       "      <td>LassoGuillermo</td>\n",
       "      <td>882232</td>\n",
       "      <td>b'Agradecido y comprometido con el Ecuador del...</td>\n",
       "      <td>NaN</td>\n",
       "      <td>NaN</td>\n",
       "      <td>882</td>\n",
       "      <td>128</td>\n",
       "    </tr>\n",
       "    <tr>\n",
       "      <th>4</th>\n",
       "      <td>Guillermo Lasso</td>\n",
       "      <td>LassoGuillermo</td>\n",
       "      <td>882232</td>\n",
       "      <td>b'Si ya fuiste vacunado, puedes registrar la i...</td>\n",
       "      <td>NaN</td>\n",
       "      <td>NaN</td>\n",
       "      <td>360</td>\n",
       "      <td>132</td>\n",
       "    </tr>\n",
       "    <tr>\n",
       "      <th>...</th>\n",
       "      <td>...</td>\n",
       "      <td>...</td>\n",
       "      <td>...</td>\n",
       "      <td>...</td>\n",
       "      <td>...</td>\n",
       "      <td>...</td>\n",
       "      <td>...</td>\n",
       "      <td>...</td>\n",
       "    </tr>\n",
       "    <tr>\n",
       "      <th>95</th>\n",
       "      <td>Guillermo Lasso</td>\n",
       "      <td>LassoGuillermo</td>\n",
       "      <td>882232</td>\n",
       "      <td>b'RT @ComunicacionEc: El Ministerio del Ambien...</td>\n",
       "      <td>ComunicacionEc</td>\n",
       "      <td>NaN</td>\n",
       "      <td>0</td>\n",
       "      <td>82</td>\n",
       "    </tr>\n",
       "    <tr>\n",
       "      <th>96</th>\n",
       "      <td>Guillermo Lasso</td>\n",
       "      <td>LassoGuillermo</td>\n",
       "      <td>882232</td>\n",
       "      <td>b'Desde Bucay, junto a la comunidad Shuar de r...</td>\n",
       "      <td>Ambiente_Ec</td>\n",
       "      <td>NaN</td>\n",
       "      <td>1021</td>\n",
       "      <td>227</td>\n",
       "    </tr>\n",
       "    <tr>\n",
       "      <th>97</th>\n",
       "      <td>Guillermo Lasso</td>\n",
       "      <td>LassoGuillermo</td>\n",
       "      <td>882232</td>\n",
       "      <td>b'El Ecuador del encuentro se trata de sumar n...</td>\n",
       "      <td>NaN</td>\n",
       "      <td>NaN</td>\n",
       "      <td>1140</td>\n",
       "      <td>189</td>\n",
       "    </tr>\n",
       "    <tr>\n",
       "      <th>98</th>\n",
       "      <td>Guillermo Lasso</td>\n",
       "      <td>LassoGuillermo</td>\n",
       "      <td>882232</td>\n",
       "      <td>b'Celebramos el #D\\xc3\\xadaMundialDelMedioAmbi...</td>\n",
       "      <td>NaN</td>\n",
       "      <td>DíaMundialDelMedioAmbiente</td>\n",
       "      <td>362</td>\n",
       "      <td>113</td>\n",
       "    </tr>\n",
       "    <tr>\n",
       "      <th>99</th>\n",
       "      <td>Guillermo Lasso</td>\n",
       "      <td>LassoGuillermo</td>\n",
       "      <td>882232</td>\n",
       "      <td>b'\\xe2\\x80\\x9cLa transici\\xc3\\xb3n ecol\\xc3\\xb...</td>\n",
       "      <td>NaN</td>\n",
       "      <td>NaN</td>\n",
       "      <td>963</td>\n",
       "      <td>193</td>\n",
       "    </tr>\n",
       "  </tbody>\n",
       "</table>\n",
       "<p>100 rows × 8 columns</p>\n",
       "</div>"
      ],
      "text/plain": [
       "             Nombre         usuario  followers  \\\n",
       "0   Guillermo Lasso  LassoGuillermo     882232   \n",
       "1   Guillermo Lasso  LassoGuillermo     882232   \n",
       "2   Guillermo Lasso  LassoGuillermo     882232   \n",
       "3   Guillermo Lasso  LassoGuillermo     882232   \n",
       "4   Guillermo Lasso  LassoGuillermo     882232   \n",
       "..              ...             ...        ...   \n",
       "95  Guillermo Lasso  LassoGuillermo     882232   \n",
       "96  Guillermo Lasso  LassoGuillermo     882232   \n",
       "97  Guillermo Lasso  LassoGuillermo     882232   \n",
       "98  Guillermo Lasso  LassoGuillermo     882232   \n",
       "99  Guillermo Lasso  LassoGuillermo     882232   \n",
       "\n",
       "                                            contenido       menciones  \\\n",
       "0   b'En el #D\\xc3\\xadaNacionalDelVotoFemeninoEc, ...             NaN   \n",
       "1   b'Convers\\xc3\\xa9 con el Presidente @lopezobra...   lopezobrador_   \n",
       "2   b'\\xc2\\xa1El #PlanVacunaci\\xc3\\xb3n9100 es un ...             NaN   \n",
       "3   b'Agradecido y comprometido con el Ecuador del...             NaN   \n",
       "4   b'Si ya fuiste vacunado, puedes registrar la i...             NaN   \n",
       "..                                                ...             ...   \n",
       "95  b'RT @ComunicacionEc: El Ministerio del Ambien...  ComunicacionEc   \n",
       "96  b'Desde Bucay, junto a la comunidad Shuar de r...     Ambiente_Ec   \n",
       "97  b'El Ecuador del encuentro se trata de sumar n...             NaN   \n",
       "98  b'Celebramos el #D\\xc3\\xadaMundialDelMedioAmbi...             NaN   \n",
       "99  b'\\xe2\\x80\\x9cLa transici\\xc3\\xb3n ecol\\xc3\\xb...             NaN   \n",
       "\n",
       "                        hashtags  likes  veces compartido  \n",
       "0   DíaNacionalDelVotoFemeninoEc    167                32  \n",
       "1                            NaN    500                59  \n",
       "2             PlanVacunación9100    162                42  \n",
       "3                            NaN    882               128  \n",
       "4                            NaN    360               132  \n",
       "..                           ...    ...               ...  \n",
       "95                           NaN      0                82  \n",
       "96                           NaN   1021               227  \n",
       "97                           NaN   1140               189  \n",
       "98    DíaMundialDelMedioAmbiente    362               113  \n",
       "99                           NaN    963               193  \n",
       "\n",
       "[100 rows x 8 columns]"
      ]
     },
     "execution_count": 15,
     "metadata": {},
     "output_type": "execute_result"
    }
   ],
   "source": [
    "dfA = df[df['Nombre'].isin(['Guillermo Lasso'])] #Filtro la Informacion para Guillermo Lasso\n",
    "dfA"
   ]
  },
  {
   "cell_type": "code",
   "execution_count": 16,
   "metadata": {},
   "outputs": [
    {
     "data": {
      "text/html": [
       "<div>\n",
       "<style scoped>\n",
       "    .dataframe tbody tr th:only-of-type {\n",
       "        vertical-align: middle;\n",
       "    }\n",
       "\n",
       "    .dataframe tbody tr th {\n",
       "        vertical-align: top;\n",
       "    }\n",
       "\n",
       "    .dataframe thead th {\n",
       "        text-align: right;\n",
       "    }\n",
       "</style>\n",
       "<table border=\"1\" class=\"dataframe\">\n",
       "  <thead>\n",
       "    <tr style=\"text-align: right;\">\n",
       "      <th></th>\n",
       "      <th>likes</th>\n",
       "    </tr>\n",
       "  </thead>\n",
       "  <tbody>\n",
       "    <tr>\n",
       "      <th>0</th>\n",
       "      <td>167</td>\n",
       "    </tr>\n",
       "    <tr>\n",
       "      <th>1</th>\n",
       "      <td>500</td>\n",
       "    </tr>\n",
       "    <tr>\n",
       "      <th>2</th>\n",
       "      <td>162</td>\n",
       "    </tr>\n",
       "    <tr>\n",
       "      <th>3</th>\n",
       "      <td>882</td>\n",
       "    </tr>\n",
       "    <tr>\n",
       "      <th>4</th>\n",
       "      <td>360</td>\n",
       "    </tr>\n",
       "    <tr>\n",
       "      <th>...</th>\n",
       "      <td>...</td>\n",
       "    </tr>\n",
       "    <tr>\n",
       "      <th>95</th>\n",
       "      <td>0</td>\n",
       "    </tr>\n",
       "    <tr>\n",
       "      <th>96</th>\n",
       "      <td>1021</td>\n",
       "    </tr>\n",
       "    <tr>\n",
       "      <th>97</th>\n",
       "      <td>1140</td>\n",
       "    </tr>\n",
       "    <tr>\n",
       "      <th>98</th>\n",
       "      <td>362</td>\n",
       "    </tr>\n",
       "    <tr>\n",
       "      <th>99</th>\n",
       "      <td>963</td>\n",
       "    </tr>\n",
       "  </tbody>\n",
       "</table>\n",
       "<p>100 rows × 1 columns</p>\n",
       "</div>"
      ],
      "text/plain": [
       "    likes\n",
       "0     167\n",
       "1     500\n",
       "2     162\n",
       "3     882\n",
       "4     360\n",
       "..    ...\n",
       "95      0\n",
       "96   1021\n",
       "97   1140\n",
       "98    362\n",
       "99    963\n",
       "\n",
       "[100 rows x 1 columns]"
      ]
     },
     "execution_count": 16,
     "metadata": {},
     "output_type": "execute_result"
    }
   ],
   "source": [
    "dfA= dfA.loc[:,['likes']] #Selecciono las columnas de analisis\n",
    "dfA"
   ]
  },
  {
   "cell_type": "code",
   "execution_count": 17,
   "metadata": {},
   "outputs": [
    {
     "data": {
      "text/plain": [
       "array([ 0,  1,  2,  3,  4,  5,  6,  7,  8,  9, 10, 11, 12, 13, 14, 15, 16,\n",
       "       17, 18, 19, 20, 21, 22, 23, 24, 25, 26, 27, 28, 29, 30, 31, 32, 33,\n",
       "       34, 35, 36, 37, 38, 39, 40, 41, 42, 43, 44, 45, 46, 47, 48, 49, 50,\n",
       "       51, 52, 53, 54, 55, 56, 57, 58, 59, 60, 61, 62, 63, 64, 65, 66, 67,\n",
       "       68, 69, 70, 71, 72, 73, 74, 75, 76, 77, 78, 79, 80, 81, 82, 83, 84,\n",
       "       85, 86, 87, 88, 89, 90, 91, 92, 93, 94, 95, 96, 97, 98, 99])"
      ]
     },
     "execution_count": 17,
     "metadata": {},
     "output_type": "execute_result"
    }
   ],
   "source": [
    "#Creamos una funcion para cargar el numero de dias.\n",
    "dias=[]\n",
    "def numeroDias(tamano=100):\n",
    "    for i in range(tamano):\n",
    "        dias.append(i)\n",
    "        #print(i)\n",
    "    return dias\n",
    "dias = numeroDias()\n",
    "np.array(dias)\n",
    "# = numeroDias()"
   ]
  },
  {
   "cell_type": "code",
   "execution_count": 18,
   "metadata": {},
   "outputs": [
    {
     "name": "stdout",
     "output_type": "stream",
     "text": [
      "Ordenada al origen:  [10.54158416]\n",
      "Pendiente:  [8.63067507]\n",
      "Error cuadrático medio: 763631.00\n",
      "Estadístico R_2: 0.08\n"
     ]
    }
   ],
   "source": [
    "x = np.array(dias)#Cada uno de los días.\n",
    "#print(x)\n",
    "y = dfA.loc[:,['likes']]\n",
    "#print(y)\n",
    "# Creo un modelo de regresión lineal\n",
    "modelo = linear_model.LinearRegression()\n",
    " \n",
    "# Entreno el modelo con los datos (X,Y)\n",
    "modelo.fit(np.array(x).reshape(-1,1), y)\n",
    "\n",
    "#Ahora vamoa a calcular b_0\n",
    "print (u'Ordenada al origen: ', modelo.intercept_)\n",
    "\n",
    "# Ahora puedo obtener el coeficiente b_1\n",
    "print (u'Pendiente: ', modelo.coef_[0])\n",
    "beta = modelo.coef_[0]#Modificar el valor de la pendiente.\n",
    "# Podemos predecir usando el modelo\n",
    "y_pred = modelo.predict(np.array(x).reshape(-1,1))\n",
    " \n",
    "# Por último, calculamos el error cuadrático medio y el estadístico R^2(Precisión del modelo.)\n",
    "print (u'Error cuadrático medio: %.2f' % mean_squared_error(y, y_pred))\n",
    "print (u'Estadístico R_2: %.2f' % r2_score(y, y_pred))"
   ]
  },
  {
   "cell_type": "code",
   "execution_count": 19,
   "metadata": {},
   "outputs": [
    {
     "data": {
      "image/png": "[encoded data removed]",
      "text/plain": [
       "<Figure size 720x720 with 1 Axes>"
      ]
     },
     "metadata": {
      "needs_background": "light"
     },
     "output_type": "display_data"
    }
   ],
   "source": [
    "#Graficar\n",
    "#Tamaño\n",
    "plt.rcParams['figure.figsize'] = [10, 10]\n",
    "# Representamos el ajuste (rojo) y la recta Y = beta*x (verde)\n",
    "plt.scatter(x, y)#Dibujo mis puntos originales\n",
    "plt.plot(x, y_pred, color='blue',linewidth=3.0) #Dibujo con los valores ya predecidos.\n",
    "\n",
    "#Dibujamos puntos reales.\n",
    "x_real = np.array([0, 100])\n",
    "y_real = x_real\n",
    "plt.plot(x_real, y_real, color='green',linewidth=3.0)\n",
    "\n",
    "\n",
    "#Propiedades\n",
    "plt.title('Análisis Twiter.')\n",
    "plt.xlabel('NUMEROS DE DIAS')\n",
    "plt.ylabel('INTENCION DE  LIKES')\n",
    "plt.grid(color='r', linestyle='dotted', linewidth=0.5)\n",
    "plt.show()"
   ]
  },
  {
   "cell_type": "code",
   "execution_count": 20,
   "metadata": {},
   "outputs": [
    {
     "name": "stdout",
     "output_type": "stream",
     "text": [
      "Intención de LIKES [864.97841584]\n"
     ]
    }
   ],
   "source": [
    "#Vamos ver el impacto de proximo tuit, haciendo referencia  a personas que le siguen  debido a que se interesan en sus publicaciones.\n",
    "impacto = y_pred[100-1]\n",
    "print('Intención de LIKES',impacto )"
   ]
  },
  {
   "cell_type": "markdown",
   "metadata": {},
   "source": [
    "# Regresión Lineal Múltiple en Python\n"
   ]
  },
  {
   "cell_type": "markdown",
   "metadata": {},
   "source": [
    "Vamos a extender el ejercicio utilizando más de una variable de entrada para el modelo. Esto le da mayor poder al algoritmo de Machine Learning, pues de esta manera podremos obtener predicciones más complejas."
   ]
  },
  {
   "cell_type": "markdown",
   "metadata": {},
   "source": [
    "Nuestra “ecuación de la Recta”, ahora pasa a ser:\n",
    "\n",
    "**Y = b + m1 X1 + m2 X2 + … + m(n) X(n)**"
   ]
  },
  {
   "cell_type": "markdown",
   "metadata": {},
   "source": [
    "En nuestro caso, utilizaremos 2 “variables predictivas” para poder graficar en 3D, pero recordar que para mejores predicciones podemos utilizar más de 2 entradas y prescindir del grafico."
   ]
  },
  {
   "cell_type": "markdown",
   "metadata": {},
   "source": [
    "Nuestra primer variable sera veces compartido y la segunda variable será la suma de 2 columnas de entrada: followers, likes\n",
    "\n"
   ]
  },
  {
   "cell_type": "code",
   "execution_count": 36,
   "metadata": {},
   "outputs": [],
   "source": [
    "#Vamos a intentar mejorar el Modelo, con una dimensión más: \n",
    "# Para poder graficar en 3D, haremos una variable nueva que será la suma de los likes , veces compartido\n",
    "suma = (df[\"likes\"] + df['veces compartido'].fillna(0))\n",
    " \n",
    "dataX2 =  pd.DataFrame()\n",
    "dataX2[\"followers\"] = df[\"followers\"]\n",
    "dataX2[\"suma\"] = suma\n",
    "XY_train = np.array(dataX2)\n",
    "z_train = df['veces compartido'].values"
   ]
  },
  {
   "cell_type": "markdown",
   "metadata": {},
   "source": [
    "Ya tenemos nuestras 2 variables de entrada en XY_train y nuestra variable de salida pasa de ser “Y” a ser el eje “Z”."
   ]
  },
  {
   "cell_type": "markdown",
   "metadata": {},
   "source": [
    "Creamos un nuevo objeto de Regresión lineal con SKLearn pero esta vez tendrá las dos dimensiones que entrenar: las que contiene XY_train. Al igual que antes, imprimimos los coeficientes y puntajes obtenidos:\n",
    "\n"
   ]
  },
  {
   "cell_type": "code",
   "execution_count": 37,
   "metadata": {},
   "outputs": [
    {
     "name": "stdout",
     "output_type": "stream",
     "text": [
      "Coefficients: \n",
      " [0.         0.11883933]\n",
      "Mean squared error: 2872.67\n",
      "Variance score: 0.84\n"
     ]
    }
   ],
   "source": [
    "# Creamos un nuevo objeto de Regresión Lineal\n",
    "regr2 = linear_model.LinearRegression()\n",
    " \n",
    "# Entrenamos el modelo, esta vez, con 2 dimensiones\n",
    "# obtendremos 2 coeficientes, para graficar un plano\n",
    "regr2.fit(XY_train, z_train)\n",
    " \n",
    "# Hacemos la predicción con la que tendremos puntos sobre el plano hallado\n",
    "z_pred = regr2.predict(XY_train)\n",
    " \n",
    "# Los coeficientes\n",
    "print('Coefficients: \\n', regr2.coef_)\n",
    "# Error cuadrático medio\n",
    "print(\"Mean squared error: %.2f\" % mean_squared_error(z_train, z_pred))\n",
    "# Evaluamos el puntaje de varianza (siendo 1.0 el mejor posible)\n",
    "print('Variance score: %.2f' % r2_score(z_train, z_pred))"
   ]
  },
  {
   "cell_type": "code",
   "execution_count": 39,
   "metadata": {},
   "outputs": [
    {
     "data": {
      "text/plain": [
       "Text(0.5, 0.92, 'Regresión Lineal con Múltiples Variables')"
      ]
     },
     "execution_count": 39,
     "metadata": {},
     "output_type": "execute_result"
    },
    {
     "data": {
      "image/png": "[encoded data removed]",
      "text/plain": [
       "<Figure size 720x720 with 1 Axes>"
      ]
     },
     "metadata": {
      "needs_background": "light"
     },
     "output_type": "display_data"
    }
   ],
   "source": [
    "fig = plt.figure()\n",
    "ax = Axes3D(fig)\n",
    " \n",
    "# Creamos una malla, sobre la cual graficaremos el plano\n",
    "xx, yy = np.meshgrid(np.linspace(0, 3500, num=10), np.linspace(0, 60, num=10))\n",
    " \n",
    "# calculamos los valores del plano para los puntos x e y\n",
    "nuevoX = (regr2.coef_[0] * xx)\n",
    "nuevoY = (regr2.coef_[1] * yy) \n",
    " \n",
    "# calculamos los correspondientes valores para z. Debemos sumar el punto de intercepción\n",
    "z = (nuevoX + nuevoY + regr2.intercept_)\n",
    " \n",
    "# Graficamos el plano\n",
    "ax.plot_surface(xx, yy, z, alpha=0.2, cmap='hot')\n",
    " \n",
    "# Graficamos en azul los puntos en 3D\n",
    "ax.scatter(XY_train[:, 0], XY_train[:, 1], z_train, c='blue',s=30)\n",
    " \n",
    "# Graficamos en rojo, los puntos que \n",
    "ax.scatter(XY_train[:, 0], XY_train[:, 1], z_pred, c='red',s=40)\n",
    " \n",
    "# con esto situamos la \"camara\" con la que visualizamos\n",
    "ax.view_init(elev=30., azim=65)\n",
    "        \n",
    "ax.set_xlabel('Followers')\n",
    "ax.set_ylabel('Cantidad de Likes,Veces compartido')\n",
    "ax.set_title('Regresión Lineal con Múltiples Variables')"
   ]
  },
  {
   "cell_type": "markdown",
   "metadata": {},
   "source": [
    "# Predicción con el modelo de Mútiples Variables"
   ]
  },
  {
   "cell_type": "code",
   "execution_count": 40,
   "metadata": {},
   "outputs": [
    {
     "name": "stdout",
     "output_type": "stream",
     "text": [
      "43\n"
     ]
    }
   ],
   "source": [
    "# Si quiero predecir cuántos \"Compartidos\" voy a obtener por un artículo con: \n",
    "#  seguidores: 882120, likes: 194, \n",
    "# según nuestro modelo, hacemos:\n",
    " \n",
    "z_Dosmil = regr2.predict([[882150, 194+4+6]])\n",
    "print(int(z_Dosmil))"
   ]
  },
  {
   "cell_type": "markdown",
   "metadata": {},
   "source": [
    "# Aplicacion de la Simulacion\n",
    "\n",
    "* Posteriormente se debe seguir un procesos de vacunación en los recintos electorales que se describe a continuación (Tomar el proceso para el proyecto final):\n",
    "  * Solo se va a tener en cuanta uno de los recintos electorales (investigar datos de cuantas personas asisten a votar).\n",
    "  * Tomar los resultados de la regresión para la vacuna según la llegada.\n",
    "  * Se tiene una promedio que el 80% de personas realizaran el proceso de vacunación dentro del Ecuador.\n",
    "  * Dentro del procesos se tiene que alrededor del 5% - 10% no podrán vacunarse.\n",
    "  * Las personas solo tiene un recinto electoral para realizar el proceso.\n",
    "  * Las personas realizan la primera vacuna y 30 días después la segunda vacuna.\n",
    "  * La persona se acerca a la mesa  y hacen fila en caso de ser necesario para recibir la vacuna.\n",
    "  * Realiza la vacunación en un tiempo aleatorio entre 5 a 10 minutos.\n",
    "  * Debe esperar 20 minutos dentro del establecimiento para verificar que no tenga problemas de salud.\n",
    "  * La persona recibe su certificado de vacunación y la fecha de la próxima vacuna entre 2 – 3 minutos.\n",
    "  * La persona sale del recinto electoral.\n",
    "  * Regresan para la próxima fecha y se repite el ciclo.\n",
    "* El proceso de simulación desarrollado deberá considerar los siguientes aspectos:\n",
    "  * Se debe establecer un modelo basado en modelos matemáticos para la predicción del numero de veces que se compartirá o la tendencia del presidente basada en redes sociales.\n",
    "  * El programa deberá generar gráficas que indiquen la ecuación matemática de las tendencias .\n",
    "  * Deben calcularse las siguientes métricas del sistema de simulación de eventos discretos :\n",
    "    * Total de de personas que realizaron el proceso de vacunación.\n",
    "    * Grafico del porcentaje de personas que no recibieron la vacuna.\n",
    "    * El tiempo promedio de espera.\n"
   ]
  },
  {
   "cell_type": "code",
   "execution_count": 41,
   "metadata": {},
   "outputs": [],
   "source": [
    "# Importamos las librerias\n",
    "import random\n",
    "import simpy"
   ]
  },
  {
   "cell_type": "code",
   "execution_count": 42,
   "metadata": {},
   "outputs": [],
   "source": [
    "RANDOM_SEED = 42\n",
    "NUMERO_PERSONAS = 4  # Numero promedio de personas a vacunarse que llegan al mismo tiempo\n",
    "NUMERO_MESAS = 2     # Numero de mesas receptoras  disponibles en el recinto para la vacunacion\n",
    "TIEMPO_VACUNACION = 5  # Tiempo promedio que las personas se demoran en vacunarse\n",
    "TIEMPO_LEGADA = 10    # Tiempo promedio de la llegada de las personas\n",
    "SIM_TIME = 100     # Simulation time in minutes"
   ]
  },
  {
   "cell_type": "code",
   "execution_count": 43,
   "metadata": {},
   "outputs": [],
   "source": [
    "TIEMPOS = []"
   ]
  },
  {
   "cell_type": "code",
   "execution_count": 44,
   "metadata": {},
   "outputs": [],
   "source": [
    "class Recinto(object):\n",
    "    \"\"\"\n",
    "        Clase recinto, encargado del proceso de votacion\n",
    "    \"\"\"\n",
    "    def __init__(self, env, numero_mesas, tiempo_vacunacion):\n",
    "        self.env = env\n",
    "        self.tiempo_vacunacion = tiempo_vacunacion\n",
    "        self.mesas_electorales = simpy.Resource(env, numero_mesas)\n",
    "\n",
    "    def vacunacion(self, persona):\n",
    "        \"\"\"\n",
    "            Realiza el proceso de vacunacion.\n",
    "        \"\"\"\n",
    "        yield self.env.timeout(self.tiempo_vacunacion)\n",
    "        self.seleccion_persona()\n",
    "        # Espera la entrega del certificado\n",
    "        timepo_cetificado = random.expovariate(1.0 / self.tiempo_vacunacion)\n",
    "        yield env.timeout(timepo_cetificado)\n",
    "        print(f'{persona} recibe su certificado votación a las {env.now}')\n",
    "    \n",
    "    def seleccion_persona(self):\n",
    "        \"\"\"\n",
    "            Realiza el proceso de la selecion de la persona\n",
    "        \"\"\"\n",
    "        pass\n",
    "        \n",
    "        \n",
    "def persona(env, name, recinto):\n",
    "    \"\"\"\n",
    "        Metodo donde el la persona que recibe la vacuna  hace uso de una mesa electoral y\n",
    "        procede con la vacunacion\n",
    "    \"\"\"\n",
    "    print(f'{name} llega a la mesa electoral y hace fila a las  {env.now}')\n",
    "    with recinto.mesas_electorales.request() as mesa:\n",
    "        yield mesa\n",
    "\n",
    "        print(f'{name} entra al proceso de vacunacion a las {env.now}.')\n",
    "        yield env.process(recinto.vacunacion(name))\n",
    "        print(f'{name} sale del recinto electoral a las {env.now}.')\n",
    "\n",
    "def agregar_personas(tiempo, personas):\n",
    "    cantidad = 0\n",
    "    if len(TIEMPOS):\n",
    "        cantidad = TIEMPOS[-1].get('cantidad')\n",
    "    # Agrega los nuevas personas\n",
    "    TIEMPOS.append({'tiempo': tiempo, 'cantidad': cantidad + personas})\n",
    "    \n",
    "def setup(env, num_mesas, time_votacion, time_llegada):\n",
    "    \"\"\"\n",
    "        Creacion del recinto electoral, y el generado aleatorio \n",
    "        de personas que van a vacunarse\n",
    "    \"\"\"\n",
    "    # Crea el recinto electoral\n",
    "    recinto = Recinto(env, num_mesas, time_votacion)\n",
    "    # Create el ingreso de votantes a las mesas\n",
    "    numero = 0\n",
    "    while True:\n",
    "        numero += 1\n",
    "        personas = random.randint(1, NUMERO_PERSONAS)\n",
    "        # Crea un numero randomico de votantes\n",
    "        for i in range(personas):\n",
    "            env.process(persona(env, f'PER[{numero}.{i+1}]', recinto))\n",
    "        # Agrega el numero de personas a vacunarse\n",
    "        agregar_personas(env.now, personas)\n",
    "        # Espera el tiempo de llegada\n",
    "        yield env.timeout(random.randint(time_llegada - 5, time_llegada + 5))"
   ]
  },
  {
   "cell_type": "code",
   "execution_count": 45,
   "metadata": {},
   "outputs": [
    {
     "name": "stdout",
     "output_type": "stream",
     "text": [
      "VACUNAS AZUAY - RECINTO #1\n",
      "PER[1.1] llega a la mesa electoral y hace fila a las  0\n",
      "PER[1.1] entra al proceso de vacunacion a las 0.\n",
      "PER[2.1] llega a la mesa electoral y hace fila a las  5\n",
      "PER[2.2] llega a la mesa electoral y hace fila a las  5\n",
      "PER[2.3] llega a la mesa electoral y hace fila a las  5\n",
      "PER[2.1] entra al proceso de vacunacion a las 5.\n",
      "PER[1.1] recibe su certificado votación a las 6.262930928350568\n",
      "PER[1.1] sale del recinto electoral a las 6.262930928350568.\n",
      "PER[2.2] entra al proceso de vacunacion a las 6.262930928350568.\n",
      "PER[3.1] llega a la mesa electoral y hace fila a las  13\n",
      "PER[2.1] recibe su certificado votación a las 16.667963364040414\n",
      "PER[2.1] sale del recinto electoral a las 16.667963364040414.\n",
      "PER[2.3] entra al proceso de vacunacion a las 16.667963364040414.\n",
      "PER[2.2] recibe su certificado votación a las 16.90879597234353\n",
      "PER[2.2] sale del recinto electoral a las 16.90879597234353.\n",
      "PER[3.1] entra al proceso de vacunacion a las 16.90879597234353.\n",
      "PER[3.1] recibe su certificado votación a las 22.06004685838032\n",
      "PER[3.1] sale del recinto electoral a las 22.06004685838032.\n",
      "PER[2.3] recibe su certificado votación a las 24.40819416102287\n",
      "PER[2.3] sale del recinto electoral a las 24.40819416102287.\n",
      "PER[4.1] llega a la mesa electoral y hace fila a las  27\n",
      "PER[4.2] llega a la mesa electoral y hace fila a las  27\n",
      "PER[4.1] entra al proceso de vacunacion a las 27.\n",
      "PER[4.2] entra al proceso de vacunacion a las 27.\n",
      "PER[4.2] recibe su certificado votación a las 32.13447201840154\n",
      "PER[4.2] sale del recinto electoral a las 32.13447201840154.\n",
      "PER[5.1] llega a la mesa electoral y hace fila a las  35\n",
      "PER[5.2] llega a la mesa electoral y hace fila a las  35\n",
      "PER[5.1] entra al proceso de vacunacion a las 35.\n",
      "PER[4.1] recibe su certificado votación a las 35.51957763933077\n",
      "PER[4.1] sale del recinto electoral a las 35.51957763933077.\n",
      "PER[5.2] entra al proceso de vacunacion a las 35.51957763933077.\n",
      "PER[5.2] recibe su certificado votación a las 43.2390757546504\n",
      "PER[5.2] sale del recinto electoral a las 43.2390757546504.\n",
      "PER[5.1] recibe su certificado votación a las 46.04199582427886\n",
      "PER[5.1] sale del recinto electoral a las 46.04199582427886.\n",
      "PER[6.1] llega a la mesa electoral y hace fila a las  50\n",
      "PER[6.2] llega a la mesa electoral y hace fila a las  50\n",
      "PER[6.3] llega a la mesa electoral y hace fila a las  50\n",
      "PER[6.4] llega a la mesa electoral y hace fila a las  50\n",
      "PER[6.1] entra al proceso de vacunacion a las 50.\n",
      "PER[6.2] entra al proceso de vacunacion a las 50.\n",
      "PER[6.1] recibe su certificado votación a las 56.629971569018736\n",
      "PER[6.1] sale del recinto electoral a las 56.629971569018736.\n",
      "PER[6.3] entra al proceso de vacunacion a las 56.629971569018736.\n",
      "PER[7.1] llega a la mesa electoral y hace fila a las  64\n",
      "PER[7.2] llega a la mesa electoral y hace fila a las  64\n",
      "PER[6.2] recibe su certificado votación a las 65.17426556388405\n",
      "PER[6.2] sale del recinto electoral a las 65.17426556388405.\n",
      "PER[6.4] entra al proceso de vacunacion a las 65.17426556388405.\n",
      "PER[6.3] recibe su certificado votación a las 68.74076836027537\n",
      "PER[6.3] sale del recinto electoral a las 68.74076836027537.\n",
      "PER[7.1] entra al proceso de vacunacion a las 68.74076836027537.\n",
      "PER[6.4] recibe su certificado votación a las 72.25374099637695\n",
      "PER[6.4] sale del recinto electoral a las 72.25374099637695.\n",
      "PER[7.2] entra al proceso de vacunacion a las 72.25374099637695.\n",
      "PER[7.1] recibe su certificado votación a las 74.58569970071171\n",
      "PER[7.1] sale del recinto electoral a las 74.58569970071171.\n",
      "PER[8.1] llega a la mesa electoral y hace fila a las  75\n",
      "PER[8.2] llega a la mesa electoral y hace fila a las  75\n",
      "PER[8.3] llega a la mesa electoral y hace fila a las  75\n",
      "PER[8.1] entra al proceso de vacunacion a las 75.\n",
      "PER[7.2] recibe su certificado votación a las 77.74040425307673\n",
      "PER[7.2] sale del recinto electoral a las 77.74040425307673.\n",
      "PER[8.2] entra al proceso de vacunacion a las 77.74040425307673.\n",
      "PER[8.1] recibe su certificado votación a las 80.50859342497816\n",
      "PER[8.1] sale del recinto electoral a las 80.50859342497816.\n",
      "PER[8.3] entra al proceso de vacunacion a las 80.50859342497816.\n",
      "PER[9.1] llega a la mesa electoral y hace fila a las  81\n",
      "PER[9.2] llega a la mesa electoral y hace fila a las  81\n",
      "PER[9.3] llega a la mesa electoral y hace fila a las  81\n",
      "PER[8.2] recibe su certificado votación a las 84.27656980718197\n",
      "PER[8.2] sale del recinto electoral a las 84.27656980718197.\n",
      "PER[9.1] entra al proceso de vacunacion a las 84.27656980718197.\n",
      "PER[8.3] recibe su certificado votación a las 85.73070682795385\n",
      "PER[8.3] sale del recinto electoral a las 85.73070682795385.\n",
      "PER[9.2] entra al proceso de vacunacion a las 85.73070682795385.\n",
      "PER[9.2] recibe su certificado votación a las 91.39737053461432\n",
      "PER[9.2] sale del recinto electoral a las 91.39737053461432.\n",
      "PER[9.3] entra al proceso de vacunacion a las 91.39737053461432.\n",
      "PER[9.1] recibe su certificado votación a las 92.35217814982848\n",
      "PER[9.1] sale del recinto electoral a las 92.35217814982848.\n",
      "PER[10.1] llega a la mesa electoral y hace fila a las  95\n",
      "PER[10.2] llega a la mesa electoral y hace fila a las  95\n",
      "PER[10.3] llega a la mesa electoral y hace fila a las  95\n",
      "PER[10.4] llega a la mesa electoral y hace fila a las  95\n",
      "PER[10.1] entra al proceso de vacunacion a las 95.\n"
     ]
    }
   ],
   "source": [
    "print('VACUNAS AZUAY - RECINTO #1')\n",
    "random.seed(RANDOM_SEED)\n",
    "env = simpy.Environment()\n",
    "env.process(setup(env, NUMERO_MESAS, TIEMPO_VACUNACION, TIEMPO_LEGADA))\n",
    "# Execute!\n",
    "env.run(until=SIM_TIME)"
   ]
  },
  {
   "cell_type": "code",
   "execution_count": 47,
   "metadata": {},
   "outputs": [
    {
     "data": {
      "image/png": "[encoded data removed]",
      "text/plain": [
       "<Figure size 720x720 with 1 Axes>"
      ]
     },
     "metadata": {
      "needs_background": "light"
     },
     "output_type": "display_data"
    }
   ],
   "source": [
    "tiempos = pd.DataFrame(TIEMPOS)\n",
    "plt.plot(tiempos['tiempo'], tiempos['cantidad'], linewidth=2,color='red')\n",
    "plt.scatter(tiempos['tiempo'], tiempos['cantidad'], color='blue')\n",
    "plt.grid(True)\n",
    "plt.show()"
   ]
  },
  {
   "cell_type": "code",
   "execution_count": 48,
   "metadata": {},
   "outputs": [
    {
     "name": "stdout",
     "output_type": "stream",
     "text": [
      "TOTAL VACUNADOS: 25\n",
      "TIEMPO PROMEDIO ESPERA: 44.5\n"
     ]
    }
   ],
   "source": [
    "# IMPRESION DE RESULTADOS\n",
    "print(\"TOTAL VACUNADOS:\",  TIEMPOS[-1]['cantidad'])\n",
    "print(\"TIEMPO PROMEDIO ESPERA:\",  tiempos['tiempo'].mean())"
   ]
  },
  {
   "cell_type": "markdown",
   "metadata": {},
   "source": [
    "# Conclusiones\n",
    "El desarollo del presente trabajo me permitió poder expandir mis conocimientos sobre el funcionamiento de las regresiones y la utilidad de la mismas para poder predecir datos en el futuro, de las misma manera sobre la utilidad de la simulacion de eventos discretos para poder simular situaciones de la vida real.\n",
    "\n"
   ]
  }
 ],
 "metadata": {
  "kernelspec": {
   "display_name": "Python 3",
   "language": "python",
   "name": "python3"
  },
  "language_info": {
   "codemirror_mode": {
    "name": "ipython",
    "version": 3
   },
   "file_extension": ".py",
   "mimetype": "text/x-python",
   "name": "python",
   "nbconvert_exporter": "python",
   "pygments_lexer": "ipython3",
   "version": "3.8.3"
  }
 },
 "nbformat": 4,
 "nbformat_minor": 4
}
