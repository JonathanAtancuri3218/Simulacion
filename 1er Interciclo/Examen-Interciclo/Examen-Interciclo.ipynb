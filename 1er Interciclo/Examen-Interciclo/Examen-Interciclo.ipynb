{
 "cells": [
  {
   "cell_type": "markdown",
   "metadata": {},
   "source": [
    "![UPS](ups.png)\n",
    "&nbsp;\n",
    "\n",
    "**Nombre:** Jonathan Atancuri\n",
    "\n",
    "**Asignatura:** Simulacion\n",
    "\n",
    "**Carrera:** Ing. Sistemas\n",
    "\n",
    "**Profesor:** Diego Quisi\n",
    "\n",
    "# Examen Interciclo-Simulacion\n",
    "\n",
    "### Objetivo:\n",
    "\n",
    "* Consolidar los conocimientos adquiridos en clase para desarrollar simulaciones de eventos discretos.\n",
    "\n",
    "### Introducción:\n",
    "\n",
    "El golpe económico de la crisis sanitaria del corona virus no va a ser cosa de semanas, sino de meses. Dentro de una de las etapas importantes posteriores a las elecciones presidenciales son el análisis y tendencia que tiene el actual presidente. Para ello se plantea realizar un sistema de regresión que permita identificar cual es la tendencia en base al manejo de las redes sociales (Twitter y/o Facebook) del presidente [1].\n",
    "\n",
    "Las regresiones lineales pueden aprenden por sí mismos y en este caso obtener automáticamente esa “recta o ecuación” que buscamos con la tendencia de predicción. Para ello se puede medir el error con respecto a los puntos de entrada y el valor “Y” de salida real [3].\n",
    "\n",
    "\n",
    "#### Enunciado:\n",
    "\n",
    "*\tDiseñe y desarrolle un modelo y/o script que permita simular el siguiente caso real:\n",
    "*\tObtener datos de tendencia de twitter o facebook(crawler o webscraping), para ello se puede obtener a través del API [4].\n",
    "*\tTitle: Titulo del Post/Twitter\n",
    "*\tWord count: la cantidad de palabras del artículo,\n",
    "*\tnumber of Links: los enlaces externos que contiene,\n",
    "*\tnumber of comments: cantidad de comentarios,\n",
    "*\tnumber Shares: compartidos.\n",
    "*\tHashTag\n",
    "*\tEtc.\n",
    "\n",
    "En base a ello, se pretende proponer y generar una predicción de cuántas veces será compartido un post/twitter utilizando regresión [2].\n"
   ]
  },
  {
   "cell_type": "markdown",
   "metadata": {},
   "source": [
    "# LA API DE TWITER TIENE ALGUNAS LIMITACIONES.\n",
    "\n",
    "Se puede procesar:\n",
    "\n",
    "180 requerimientos cada 15 minutos.\n",
    "\n",
    "TWITER SEARCH: 450 tweets por requerimiento.\n",
    "\n",
    "USUARIO: 900 usuarios por requerimiento\n",
    "\n",
    "TIMELINES: 1500 tweets por requerimiento, Solo se puede sacar los últimos 3200 Tweets (incluye los retweets)."
   ]
  },
  {
   "cell_type": "code",
   "execution_count": 1,
   "metadata": {},
   "outputs": [],
   "source": [
    "#Importamos la librerías necesarias.\n",
    "import tweepy\n",
    "import json \n",
    "import csv\n",
    "import codecs\n",
    "from os import remove\n",
    "import numpy as np\n",
    "import pandas as pd\n",
    "import seaborn as sb\n",
    "import matplotlib.pyplot as plt\n",
    "from datetime import datetime,timedelta\n",
    "from mpl_toolkits.mplot3d import Axes3D\n",
    "from matplotlib import cm\n",
    "plt.rcParams['figure.figsize'] = (16, 9)\n",
    "plt.style.use('ggplot')\n",
    "from sklearn import linear_model\n",
    "from sklearn.metrics import mean_squared_error, r2_score\n",
    "from scipy.optimize import curve_fit\n",
    "from lmfit.models import StepModel, LinearModel\n",
    "\n",
    "%matplotlib inline"
   ]
  },
  {
   "cell_type": "code",
   "execution_count": 2,
   "metadata": {},
   "outputs": [],
   "source": [
    "# Ahora procedemos a autenticarnos usando el API Key, el API secret Key, el Access token y el Access token secret que se generaron al crear nuestra aplicación en Twitter.\n",
    "consumer_key = \"7WjRyBLWCmtCutSig0mpqlec5\"\n",
    "consumer_secret = \"BCdV2YThbvw6gC7tj5OZbjlR8DSU2gDFwaRjr7Xs1T5P4vmptM\"\n",
    "access_token = \"1302969322533519360-tw5klydBCGiTfJ4VhsnJwuOEgK5OYI\"\n",
    "access_token_secret = \"E7PuklL3RpWVWOg91PfygcMC9absNBMX5xKm0YXHp2Kgk\"\n",
    "\n",
    "auth = tweepy.OAuthHandler(consumer_key, consumer_secret)\n",
    "auth.set_access_token(access_token, access_token_secret)"
   ]
  },
  {
   "cell_type": "code",
   "execution_count": 3,
   "metadata": {},
   "outputs": [],
   "source": [
    "#Instancio el objeto.\n",
    "api = tweepy.API(auth, wait_on_rate_limit=True,wait_on_rate_limit_notify=True)"
   ]
  },
  {
   "cell_type": "markdown",
   "metadata": {},
   "source": [
    "# Datos de la Persona a Buscar"
   ]
  },
  {
   "cell_type": "code",
   "execution_count": 4,
   "metadata": {},
   "outputs": [
    {
     "data": {
      "text/plain": [
       "['LassoGuillermo']"
      ]
     },
     "execution_count": 4,
     "metadata": {},
     "output_type": "execute_result"
    }
   ],
   "source": [
    "\n",
    "presidente = ['LassoGuillermo']\n",
    "presidente"
   ]
  },
  {
   "cell_type": "markdown",
   "metadata": {},
   "source": [
    "# FILTRAMOS LOS DATOS."
   ]
  },
  {
   "cell_type": "code",
   "execution_count": 5,
   "metadata": {},
   "outputs": [
    {
     "name": "stdout",
     "output_type": "stream",
     "text": [
      "Datos del Presidente: Guillermo Lasso\n",
      "http://www.guillermolasso.ec\n",
      "Tweets del Presidente.\n",
      "888954\n"
     ]
    }
   ],
   "source": [
    "#remove(\"presidente.csv\")# Descomentar si se va a eliminar para cargar con nuevos datos.\n",
    "#Seccion de campos a extraer\n",
    "name, user,follower,text, menciones, likes, hashtags, share = '','', '' ,'','','','',''\n",
    "#Nombres dentro de csv\n",
    "rows  = [['Nombre', 'usuario','followers','contenido','menciones','hashtags','likes','veces compartido']]\n",
    "contador_filas =0\n",
    "for candidato in presidente:\n",
    "    #Obtenemos la informacion del presidente.\n",
    "    data = api.get_user(candidato)\n",
    "    print('Datos del Presidente: '+ data._json['name'])\n",
    "    diccionario =data._json['entities'] \n",
    "    lista=[]\n",
    "    \n",
    "    for link in diccionario :  #recorremos \n",
    "        valor = diccionario[link]\n",
    "        for vrd_valor in valor:\n",
    "            lista = [lista,valor[vrd_valor]]\n",
    "        \n",
    "    new_lista = lista[0]\n",
    "    listaA=new_lista[1]\n",
    "    i=0;\n",
    "    link_presidente=''\n",
    "    for dia in listaA:\n",
    "        link = dia\n",
    "        for links in link:\n",
    "            i=i+1\n",
    "            if i == 2:\n",
    "                link_presidente =link[links]\n",
    "\n",
    "    print(link_presidente)\n",
    "    print('Tweets del Presidente.')\n",
    "    name, user, followers = data._json['name'],data._json['screen_name'],data._json['followers_count']\n",
    "    print(followers)\n",
    "    for tweet in tweepy.Cursor(api.user_timeline, screen_name=candidato, tweet_mode = 'extend').items(100):\n",
    "        diccionario =tweet._json['entities'] \n",
    "        hashtags = diccionario['hashtags']\n",
    "        menciones = diccionario['user_mentions']\n",
    "        i=0;\n",
    "        j=0;\n",
    "        #print('HASHTAGS:')\n",
    "        users_mnc=''\n",
    "        hastags=''\n",
    "        for dia in hashtags:\n",
    "            hst = dia\n",
    "            for links in hst:\n",
    "\n",
    "                i=i+1\n",
    "                if i == 1:\n",
    "                    hastags =hst[links]\n",
    "                    #print(hastags)\n",
    "\n",
    "        #print('USERS MECIONADOS:')\n",
    "        for m in menciones:\n",
    "            mnc = m\n",
    "           #print(mnc)\n",
    "            for m_user in mnc:\n",
    "                j=j+1\n",
    "                if j == 1:\n",
    "                    users_mnc=mnc[m_user]\n",
    "                    #print(mnc[m_user])\n",
    "        text, menciones, likes,share=tweet._json['text'].encode(\"utf-8\"),users_mnc,tweet._json['favorite_count'],tweet._json['retweet_count']       \n",
    "        single_row=[name, user, followers, text, menciones,hastags, likes, share]\n",
    "\n",
    "        rows.append(single_row)\n",
    "        \n",
    "with open('presidente.csv', 'w', newline='') as file:\n",
    "    writer = csv.writer(file)\n",
    "    writer.writerows(rows)"
   ]
  },
  {
   "cell_type": "markdown",
   "metadata": {},
   "source": [
    "# RECUPERAMOS LOS DATOS GUARDADOS DE LOS CANDIDATOS"
   ]
  },
  {
   "cell_type": "code",
   "execution_count": 6,
   "metadata": {},
   "outputs": [],
   "source": [
    "#cargamos los datos de entrada\n",
    "df= pd.read_csv(\"presidente.csv\", engine='python')"
   ]
  },
  {
   "cell_type": "code",
   "execution_count": 7,
   "metadata": {},
   "outputs": [
    {
     "data": {
      "text/plain": [
       "(100, 8)"
      ]
     },
     "execution_count": 7,
     "metadata": {},
     "output_type": "execute_result"
    }
   ],
   "source": [
    "#veamos cuantas dimensiones y registros contiene\n",
    "df.shape"
   ]
  },
  {
   "cell_type": "code",
   "execution_count": 8,
   "metadata": {},
   "outputs": [
    {
     "data": {
      "text/html": [
       "<div>\n",
       "<style scoped>\n",
       "    .dataframe tbody tr th:only-of-type {\n",
       "        vertical-align: middle;\n",
       "    }\n",
       "\n",
       "    .dataframe tbody tr th {\n",
       "        vertical-align: top;\n",
       "    }\n",
       "\n",
       "    .dataframe thead th {\n",
       "        text-align: right;\n",
       "    }\n",
       "</style>\n",
       "<table border=\"1\" class=\"dataframe\">\n",
       "  <thead>\n",
       "    <tr style=\"text-align: right;\">\n",
       "      <th></th>\n",
       "      <th>Nombre</th>\n",
       "      <th>usuario</th>\n",
       "      <th>followers</th>\n",
       "      <th>contenido</th>\n",
       "      <th>menciones</th>\n",
       "      <th>hashtags</th>\n",
       "      <th>likes</th>\n",
       "      <th>veces compartido</th>\n",
       "    </tr>\n",
       "  </thead>\n",
       "  <tbody>\n",
       "    <tr>\n",
       "      <th>0</th>\n",
       "      <td>Guillermo Lasso</td>\n",
       "      <td>LassoGuillermo</td>\n",
       "      <td>888954</td>\n",
       "      <td>b'@SorayaValdezhe1 Juntos lo logramos. Sigamos...</td>\n",
       "      <td>SorayaValdezhe1</td>\n",
       "      <td>PlanVacunación9100</td>\n",
       "      <td>0</td>\n",
       "      <td>0</td>\n",
       "    </tr>\n",
       "    <tr>\n",
       "      <th>1</th>\n",
       "      <td>Guillermo Lasso</td>\n",
       "      <td>LassoGuillermo</td>\n",
       "      <td>888954</td>\n",
       "      <td>b'@ariel_vill2 Estamos trabajando de manera ac...</td>\n",
       "      <td>ariel_vill2</td>\n",
       "      <td>NaN</td>\n",
       "      <td>0</td>\n",
       "      <td>0</td>\n",
       "    </tr>\n",
       "    <tr>\n",
       "      <th>2</th>\n",
       "      <td>Guillermo Lasso</td>\n",
       "      <td>LassoGuillermo</td>\n",
       "      <td>888954</td>\n",
       "      <td>b'PLAN DE VACUNACI\\xc3\\x93N 9/100\\n\\nEn la p\\x...</td>\n",
       "      <td>NaN</td>\n",
       "      <td>PlanVacunación9100</td>\n",
       "      <td>159</td>\n",
       "      <td>64</td>\n",
       "    </tr>\n",
       "    <tr>\n",
       "      <th>3</th>\n",
       "      <td>Guillermo Lasso</td>\n",
       "      <td>LassoGuillermo</td>\n",
       "      <td>888954</td>\n",
       "      <td>b'@AVictoria60 Juntos lo logramos. \\xf0\\x9f\\x9...</td>\n",
       "      <td>AVictoria60</td>\n",
       "      <td>NaN</td>\n",
       "      <td>0</td>\n",
       "      <td>0</td>\n",
       "    </tr>\n",
       "    <tr>\n",
       "      <th>4</th>\n",
       "      <td>Guillermo Lasso</td>\n",
       "      <td>LassoGuillermo</td>\n",
       "      <td>888954</td>\n",
       "      <td>b'@vguzbar Gracias por escribirme, me emociona...</td>\n",
       "      <td>vguzbar</td>\n",
       "      <td>NaN</td>\n",
       "      <td>1</td>\n",
       "      <td>1</td>\n",
       "    </tr>\n",
       "  </tbody>\n",
       "</table>\n",
       "</div>"
      ],
      "text/plain": [
       "            Nombre         usuario  followers  \\\n",
       "0  Guillermo Lasso  LassoGuillermo     888954   \n",
       "1  Guillermo Lasso  LassoGuillermo     888954   \n",
       "2  Guillermo Lasso  LassoGuillermo     888954   \n",
       "3  Guillermo Lasso  LassoGuillermo     888954   \n",
       "4  Guillermo Lasso  LassoGuillermo     888954   \n",
       "\n",
       "                                           contenido        menciones  \\\n",
       "0  b'@SorayaValdezhe1 Juntos lo logramos. Sigamos...  SorayaValdezhe1   \n",
       "1  b'@ariel_vill2 Estamos trabajando de manera ac...      ariel_vill2   \n",
       "2  b'PLAN DE VACUNACI\\xc3\\x93N 9/100\\n\\nEn la p\\x...              NaN   \n",
       "3  b'@AVictoria60 Juntos lo logramos. \\xf0\\x9f\\x9...      AVictoria60   \n",
       "4  b'@vguzbar Gracias por escribirme, me emociona...          vguzbar   \n",
       "\n",
       "             hashtags  likes  veces compartido  \n",
       "0  PlanVacunación9100      0                 0  \n",
       "1                 NaN      0                 0  \n",
       "2  PlanVacunación9100    159                64  \n",
       "3                 NaN      0                 0  \n",
       "4                 NaN      1                 1  "
      ]
     },
     "execution_count": 8,
     "metadata": {},
     "output_type": "execute_result"
    }
   ],
   "source": [
    "\n",
    "#son 100 registros con 8 columnas. Veamos los primeros registros\n",
    "df.head()"
   ]
  },
  {
   "cell_type": "code",
   "execution_count": 9,
   "metadata": {},
   "outputs": [
    {
     "data": {
      "text/html": [
       "<div>\n",
       "<style scoped>\n",
       "    .dataframe tbody tr th:only-of-type {\n",
       "        vertical-align: middle;\n",
       "    }\n",
       "\n",
       "    .dataframe tbody tr th {\n",
       "        vertical-align: top;\n",
       "    }\n",
       "\n",
       "    .dataframe thead th {\n",
       "        text-align: right;\n",
       "    }\n",
       "</style>\n",
       "<table border=\"1\" class=\"dataframe\">\n",
       "  <thead>\n",
       "    <tr style=\"text-align: right;\">\n",
       "      <th></th>\n",
       "      <th>followers</th>\n",
       "      <th>likes</th>\n",
       "      <th>veces compartido</th>\n",
       "    </tr>\n",
       "  </thead>\n",
       "  <tbody>\n",
       "    <tr>\n",
       "      <th>count</th>\n",
       "      <td>100.0</td>\n",
       "      <td>100.00000</td>\n",
       "      <td>100.000000</td>\n",
       "    </tr>\n",
       "    <tr>\n",
       "      <th>mean</th>\n",
       "      <td>888954.0</td>\n",
       "      <td>804.52000</td>\n",
       "      <td>149.660000</td>\n",
       "    </tr>\n",
       "    <tr>\n",
       "      <th>std</th>\n",
       "      <td>0.0</td>\n",
       "      <td>1836.02257</td>\n",
       "      <td>328.775943</td>\n",
       "    </tr>\n",
       "    <tr>\n",
       "      <th>min</th>\n",
       "      <td>888954.0</td>\n",
       "      <td>0.00000</td>\n",
       "      <td>0.000000</td>\n",
       "    </tr>\n",
       "    <tr>\n",
       "      <th>25%</th>\n",
       "      <td>888954.0</td>\n",
       "      <td>2.00000</td>\n",
       "      <td>0.000000</td>\n",
       "    </tr>\n",
       "    <tr>\n",
       "      <th>50%</th>\n",
       "      <td>888954.0</td>\n",
       "      <td>13.50000</td>\n",
       "      <td>3.000000</td>\n",
       "    </tr>\n",
       "    <tr>\n",
       "      <th>75%</th>\n",
       "      <td>888954.0</td>\n",
       "      <td>903.00000</td>\n",
       "      <td>208.250000</td>\n",
       "    </tr>\n",
       "    <tr>\n",
       "      <th>max</th>\n",
       "      <td>888954.0</td>\n",
       "      <td>13371.00000</td>\n",
       "      <td>2782.000000</td>\n",
       "    </tr>\n",
       "  </tbody>\n",
       "</table>\n",
       "</div>"
      ],
      "text/plain": [
       "       followers        likes  veces compartido\n",
       "count      100.0    100.00000        100.000000\n",
       "mean    888954.0    804.52000        149.660000\n",
       "std          0.0   1836.02257        328.775943\n",
       "min     888954.0      0.00000          0.000000\n",
       "25%     888954.0      2.00000          0.000000\n",
       "50%     888954.0     13.50000          3.000000\n",
       "75%     888954.0    903.00000        208.250000\n",
       "max     888954.0  13371.00000       2782.000000"
      ]
     },
     "execution_count": 9,
     "metadata": {},
     "output_type": "execute_result"
    }
   ],
   "source": [
    "# Ahora veamos algunas estadísticas de nuestros datos\n",
    "df.describe()"
   ]
  },
  {
   "cell_type": "code",
   "execution_count": 10,
   "metadata": {},
   "outputs": [
    {
     "data": {
      "image/png": "[encoded data removed]",
      "text/plain": [
       "<Figure size 432x288 with 4 Axes>"
      ]
     },
     "metadata": {
      "needs_background": "light"
     },
     "output_type": "display_data"
    }
   ],
   "source": [
    "# Visualizamos rápidamente las caraterísticas de entrada\n",
    "df.drop(['contenido'],1).hist()\n",
    "plt.show()"
   ]
  },
  {
   "cell_type": "code",
   "execution_count": 11,
   "metadata": {},
   "outputs": [
    {
     "data": {
      "text/plain": [
       "<matplotlib.axes._subplots.AxesSubplot at 0x13fee824b80>"
      ]
     },
     "execution_count": 11,
     "metadata": {},
     "output_type": "execute_result"
    },
    {
     "data": {
      "image/png": "[encoded data removed]",
      "text/plain": [
       "<Figure size 432x288 with 1 Axes>"
      ]
     },
     "metadata": {
      "needs_background": "light"
     },
     "output_type": "display_data"
    }
   ],
   "source": [
    "df.plot(x ='likes' , y='veces compartido')"
   ]
  },
  {
   "cell_type": "markdown",
   "metadata": {},
   "source": [
    "# UNA VEZ OBTENIDOS LO DATOS SE PROCECE A HACER LA REGRESION PARA ELLO TOMANDO  LA CANTIDAD DE LIKES ."
   ]
  },
  {
   "cell_type": "markdown",
   "metadata": {},
   "source": [
    "# GUILLERMO LASSO"
   ]
  },
  {
   "cell_type": "code",
   "execution_count": 12,
   "metadata": {},
   "outputs": [
    {
     "data": {
      "text/html": [
       "<div>\n",
       "<style scoped>\n",
       "    .dataframe tbody tr th:only-of-type {\n",
       "        vertical-align: middle;\n",
       "    }\n",
       "\n",
       "    .dataframe tbody tr th {\n",
       "        vertical-align: top;\n",
       "    }\n",
       "\n",
       "    .dataframe thead th {\n",
       "        text-align: right;\n",
       "    }\n",
       "</style>\n",
       "<table border=\"1\" class=\"dataframe\">\n",
       "  <thead>\n",
       "    <tr style=\"text-align: right;\">\n",
       "      <th></th>\n",
       "      <th>Nombre</th>\n",
       "      <th>usuario</th>\n",
       "      <th>followers</th>\n",
       "      <th>contenido</th>\n",
       "      <th>menciones</th>\n",
       "      <th>hashtags</th>\n",
       "      <th>likes</th>\n",
       "      <th>veces compartido</th>\n",
       "    </tr>\n",
       "  </thead>\n",
       "  <tbody>\n",
       "    <tr>\n",
       "      <th>0</th>\n",
       "      <td>Guillermo Lasso</td>\n",
       "      <td>LassoGuillermo</td>\n",
       "      <td>888954</td>\n",
       "      <td>b'@SorayaValdezhe1 Juntos lo logramos. Sigamos...</td>\n",
       "      <td>SorayaValdezhe1</td>\n",
       "      <td>PlanVacunación9100</td>\n",
       "      <td>0</td>\n",
       "      <td>0</td>\n",
       "    </tr>\n",
       "    <tr>\n",
       "      <th>1</th>\n",
       "      <td>Guillermo Lasso</td>\n",
       "      <td>LassoGuillermo</td>\n",
       "      <td>888954</td>\n",
       "      <td>b'@ariel_vill2 Estamos trabajando de manera ac...</td>\n",
       "      <td>ariel_vill2</td>\n",
       "      <td>NaN</td>\n",
       "      <td>0</td>\n",
       "      <td>0</td>\n",
       "    </tr>\n",
       "    <tr>\n",
       "      <th>2</th>\n",
       "      <td>Guillermo Lasso</td>\n",
       "      <td>LassoGuillermo</td>\n",
       "      <td>888954</td>\n",
       "      <td>b'PLAN DE VACUNACI\\xc3\\x93N 9/100\\n\\nEn la p\\x...</td>\n",
       "      <td>NaN</td>\n",
       "      <td>PlanVacunación9100</td>\n",
       "      <td>159</td>\n",
       "      <td>64</td>\n",
       "    </tr>\n",
       "    <tr>\n",
       "      <th>3</th>\n",
       "      <td>Guillermo Lasso</td>\n",
       "      <td>LassoGuillermo</td>\n",
       "      <td>888954</td>\n",
       "      <td>b'@AVictoria60 Juntos lo logramos. \\xf0\\x9f\\x9...</td>\n",
       "      <td>AVictoria60</td>\n",
       "      <td>NaN</td>\n",
       "      <td>0</td>\n",
       "      <td>0</td>\n",
       "    </tr>\n",
       "    <tr>\n",
       "      <th>4</th>\n",
       "      <td>Guillermo Lasso</td>\n",
       "      <td>LassoGuillermo</td>\n",
       "      <td>888954</td>\n",
       "      <td>b'@vguzbar Gracias por escribirme, me emociona...</td>\n",
       "      <td>vguzbar</td>\n",
       "      <td>NaN</td>\n",
       "      <td>1</td>\n",
       "      <td>1</td>\n",
       "    </tr>\n",
       "    <tr>\n",
       "      <th>...</th>\n",
       "      <td>...</td>\n",
       "      <td>...</td>\n",
       "      <td>...</td>\n",
       "      <td>...</td>\n",
       "      <td>...</td>\n",
       "      <td>...</td>\n",
       "      <td>...</td>\n",
       "      <td>...</td>\n",
       "    </tr>\n",
       "    <tr>\n",
       "      <th>95</th>\n",
       "      <td>Guillermo Lasso</td>\n",
       "      <td>LassoGuillermo</td>\n",
       "      <td>888954</td>\n",
       "      <td>b'@DarwinLen3 Seguiremos trabajando para logra...</td>\n",
       "      <td>DarwinLen3</td>\n",
       "      <td>NaN</td>\n",
       "      <td>1</td>\n",
       "      <td>0</td>\n",
       "    </tr>\n",
       "    <tr>\n",
       "      <th>96</th>\n",
       "      <td>Guillermo Lasso</td>\n",
       "      <td>LassoGuillermo</td>\n",
       "      <td>888954</td>\n",
       "      <td>b'Escuchar sus planteamientos y necesidades fo...</td>\n",
       "      <td>NaN</td>\n",
       "      <td>NaN</td>\n",
       "      <td>565</td>\n",
       "      <td>135</td>\n",
       "    </tr>\n",
       "    <tr>\n",
       "      <th>97</th>\n",
       "      <td>Guillermo Lasso</td>\n",
       "      <td>LassoGuillermo</td>\n",
       "      <td>888954</td>\n",
       "      <td>b'Comprometidos con el encuentro, mantuvimos u...</td>\n",
       "      <td>NaN</td>\n",
       "      <td>JuntosLoLogramos</td>\n",
       "      <td>631</td>\n",
       "      <td>143</td>\n",
       "    </tr>\n",
       "    <tr>\n",
       "      <th>98</th>\n",
       "      <td>Guillermo Lasso</td>\n",
       "      <td>LassoGuillermo</td>\n",
       "      <td>888954</td>\n",
       "      <td>b'Todos debemos acudir a vacunarnos de forma o...</td>\n",
       "      <td>NaN</td>\n",
       "      <td>NaN</td>\n",
       "      <td>1160</td>\n",
       "      <td>235</td>\n",
       "    </tr>\n",
       "    <tr>\n",
       "      <th>99</th>\n",
       "      <td>Guillermo Lasso</td>\n",
       "      <td>LassoGuillermo</td>\n",
       "      <td>888954</td>\n",
       "      <td>b'\\xc2\\xa1El #PlanVacunaci\\xc3\\xb3n9100 se for...</td>\n",
       "      <td>NaN</td>\n",
       "      <td>PlanVacunación9100</td>\n",
       "      <td>1324</td>\n",
       "      <td>247</td>\n",
       "    </tr>\n",
       "  </tbody>\n",
       "</table>\n",
       "<p>100 rows × 8 columns</p>\n",
       "</div>"
      ],
      "text/plain": [
       "             Nombre         usuario  followers  \\\n",
       "0   Guillermo Lasso  LassoGuillermo     888954   \n",
       "1   Guillermo Lasso  LassoGuillermo     888954   \n",
       "2   Guillermo Lasso  LassoGuillermo     888954   \n",
       "3   Guillermo Lasso  LassoGuillermo     888954   \n",
       "4   Guillermo Lasso  LassoGuillermo     888954   \n",
       "..              ...             ...        ...   \n",
       "95  Guillermo Lasso  LassoGuillermo     888954   \n",
       "96  Guillermo Lasso  LassoGuillermo     888954   \n",
       "97  Guillermo Lasso  LassoGuillermo     888954   \n",
       "98  Guillermo Lasso  LassoGuillermo     888954   \n",
       "99  Guillermo Lasso  LassoGuillermo     888954   \n",
       "\n",
       "                                            contenido        menciones  \\\n",
       "0   b'@SorayaValdezhe1 Juntos lo logramos. Sigamos...  SorayaValdezhe1   \n",
       "1   b'@ariel_vill2 Estamos trabajando de manera ac...      ariel_vill2   \n",
       "2   b'PLAN DE VACUNACI\\xc3\\x93N 9/100\\n\\nEn la p\\x...              NaN   \n",
       "3   b'@AVictoria60 Juntos lo logramos. \\xf0\\x9f\\x9...      AVictoria60   \n",
       "4   b'@vguzbar Gracias por escribirme, me emociona...          vguzbar   \n",
       "..                                                ...              ...   \n",
       "95  b'@DarwinLen3 Seguiremos trabajando para logra...       DarwinLen3   \n",
       "96  b'Escuchar sus planteamientos y necesidades fo...              NaN   \n",
       "97  b'Comprometidos con el encuentro, mantuvimos u...              NaN   \n",
       "98  b'Todos debemos acudir a vacunarnos de forma o...              NaN   \n",
       "99  b'\\xc2\\xa1El #PlanVacunaci\\xc3\\xb3n9100 se for...              NaN   \n",
       "\n",
       "              hashtags  likes  veces compartido  \n",
       "0   PlanVacunación9100      0                 0  \n",
       "1                  NaN      0                 0  \n",
       "2   PlanVacunación9100    159                64  \n",
       "3                  NaN      0                 0  \n",
       "4                  NaN      1                 1  \n",
       "..                 ...    ...               ...  \n",
       "95                 NaN      1                 0  \n",
       "96                 NaN    565               135  \n",
       "97    JuntosLoLogramos    631               143  \n",
       "98                 NaN   1160               235  \n",
       "99  PlanVacunación9100   1324               247  \n",
       "\n",
       "[100 rows x 8 columns]"
      ]
     },
     "execution_count": 12,
     "metadata": {},
     "output_type": "execute_result"
    }
   ],
   "source": [
    "dfA = df[df['Nombre'].isin(['Guillermo Lasso'])] #Filtro la Informacion para Guillermo Lasso\n",
    "dfA"
   ]
  },
  {
   "cell_type": "code",
   "execution_count": 13,
   "metadata": {},
   "outputs": [
    {
     "data": {
      "text/html": [
       "<div>\n",
       "<style scoped>\n",
       "    .dataframe tbody tr th:only-of-type {\n",
       "        vertical-align: middle;\n",
       "    }\n",
       "\n",
       "    .dataframe tbody tr th {\n",
       "        vertical-align: top;\n",
       "    }\n",
       "\n",
       "    .dataframe thead th {\n",
       "        text-align: right;\n",
       "    }\n",
       "</style>\n",
       "<table border=\"1\" class=\"dataframe\">\n",
       "  <thead>\n",
       "    <tr style=\"text-align: right;\">\n",
       "      <th></th>\n",
       "      <th>likes</th>\n",
       "    </tr>\n",
       "  </thead>\n",
       "  <tbody>\n",
       "    <tr>\n",
       "      <th>0</th>\n",
       "      <td>0</td>\n",
       "    </tr>\n",
       "    <tr>\n",
       "      <th>1</th>\n",
       "      <td>0</td>\n",
       "    </tr>\n",
       "    <tr>\n",
       "      <th>2</th>\n",
       "      <td>159</td>\n",
       "    </tr>\n",
       "    <tr>\n",
       "      <th>3</th>\n",
       "      <td>0</td>\n",
       "    </tr>\n",
       "    <tr>\n",
       "      <th>4</th>\n",
       "      <td>1</td>\n",
       "    </tr>\n",
       "    <tr>\n",
       "      <th>...</th>\n",
       "      <td>...</td>\n",
       "    </tr>\n",
       "    <tr>\n",
       "      <th>95</th>\n",
       "      <td>1</td>\n",
       "    </tr>\n",
       "    <tr>\n",
       "      <th>96</th>\n",
       "      <td>565</td>\n",
       "    </tr>\n",
       "    <tr>\n",
       "      <th>97</th>\n",
       "      <td>631</td>\n",
       "    </tr>\n",
       "    <tr>\n",
       "      <th>98</th>\n",
       "      <td>1160</td>\n",
       "    </tr>\n",
       "    <tr>\n",
       "      <th>99</th>\n",
       "      <td>1324</td>\n",
       "    </tr>\n",
       "  </tbody>\n",
       "</table>\n",
       "<p>100 rows × 1 columns</p>\n",
       "</div>"
      ],
      "text/plain": [
       "    likes\n",
       "0       0\n",
       "1       0\n",
       "2     159\n",
       "3       0\n",
       "4       1\n",
       "..    ...\n",
       "95      1\n",
       "96    565\n",
       "97    631\n",
       "98   1160\n",
       "99   1324\n",
       "\n",
       "[100 rows x 1 columns]"
      ]
     },
     "execution_count": 13,
     "metadata": {},
     "output_type": "execute_result"
    }
   ],
   "source": [
    "dfA= dfA.loc[:,['likes']] #Selecciono las columnas de analisis\n",
    "dfA"
   ]
  },
  {
   "cell_type": "code",
   "execution_count": 14,
   "metadata": {},
   "outputs": [
    {
     "data": {
      "text/plain": [
       "array([ 0,  1,  2,  3,  4,  5,  6,  7,  8,  9, 10, 11, 12, 13, 14, 15, 16,\n",
       "       17, 18, 19, 20, 21, 22, 23, 24, 25, 26, 27, 28, 29, 30, 31, 32, 33,\n",
       "       34, 35, 36, 37, 38, 39, 40, 41, 42, 43, 44, 45, 46, 47, 48, 49, 50,\n",
       "       51, 52, 53, 54, 55, 56, 57, 58, 59, 60, 61, 62, 63, 64, 65, 66, 67,\n",
       "       68, 69, 70, 71, 72, 73, 74, 75, 76, 77, 78, 79, 80, 81, 82, 83, 84,\n",
       "       85, 86, 87, 88, 89, 90, 91, 92, 93, 94, 95, 96, 97, 98, 99])"
      ]
     },
     "execution_count": 14,
     "metadata": {},
     "output_type": "execute_result"
    }
   ],
   "source": [
    "#Creamos una funcion para cargar el numero de dias.\n",
    "dias=[]\n",
    "def numeroDias(tamano=100):\n",
    "    for i in range(tamano):\n",
    "        dias.append(i)\n",
    "        #print(i)\n",
    "    return dias\n",
    "dias = numeroDias()\n",
    "np.array(dias)\n",
    "# = numeroDias()"
   ]
  },
  {
   "cell_type": "code",
   "execution_count": 15,
   "metadata": {},
   "outputs": [
    {
     "name": "stdout",
     "output_type": "stream",
     "text": [
      "Ordenada al origen:  [799.08138614]\n",
      "Pendiente:  [0.10987099]\n",
      "Error cuadrático medio: 3337259.03\n",
      "Varianza: 0.00\n"
     ]
    }
   ],
   "source": [
    "x = np.array(dias)#Cada uno de los días.\n",
    "#print(x)\n",
    "y = dfA.loc[:,['likes']]\n",
    "#print(y)\n",
    "# Creo un modelo de regresión lineal\n",
    "modelo = linear_model.LinearRegression()\n",
    " \n",
    "# Entreno el modelo con los datos (X,Y)\n",
    "modelo.fit(np.array(x).reshape(-1,1), y)\n",
    "\n",
    "#Ahora vamoa a calcular b_0\n",
    "print (u'Ordenada al origen: ', modelo.intercept_)\n",
    "\n",
    "# Ahora puedo obtener el coeficiente b_1\n",
    "print (u'Pendiente: ', modelo.coef_[0])\n",
    "beta = modelo.coef_[0]#Modificar el valor de la pendiente.\n",
    "# Podemos predecir usando el modelo\n",
    "y_pred = modelo.predict(np.array(x).reshape(-1,1))\n",
    " \n",
    "# Por último, calculamos el error cuadrático medio y el estadístico R^2(Precisión del modelo.)\n",
    "print (u'Error cuadrático medio: %.2f' % mean_squared_error(y, y_pred))\n",
    "print (u'Varianza: %.2f' % r2_score(y, y_pred))"
   ]
  },
  {
   "cell_type": "code",
   "execution_count": 16,
   "metadata": {},
   "outputs": [
    {
     "data": {
      "image/png": "[encoded data removed]",
      "text/plain": [
       "<Figure size 720x720 with 1 Axes>"
      ]
     },
     "metadata": {
      "needs_background": "light"
     },
     "output_type": "display_data"
    }
   ],
   "source": [
    "#Graficar\n",
    "#Tamaño\n",
    "plt.rcParams['figure.figsize'] = [10, 10]\n",
    "# Representamos el ajuste (rojo) y la recta Y = beta*x (verde)\n",
    "plt.scatter(x, y)#Dibujo mis puntos originales\n",
    "plt.plot(x, y_pred, color='blue',linewidth=3.0) #Dibujo con los valores ya predecidos.\n",
    "\n",
    "#Dibujamos puntos reales.\n",
    "x_real = np.array([0, 100])\n",
    "y_real = x_real\n",
    "plt.plot(x_real, y_real, color='green',linewidth=3.0)\n",
    "\n",
    "\n",
    "#Propiedades\n",
    "plt.title('Análisis Twiter.')\n",
    "plt.xlabel('NUMEROS DE DIAS')\n",
    "plt.ylabel('INTENCION DE  LIKES')\n",
    "plt.grid(color='r', linestyle='dotted', linewidth=0.5)\n",
    "plt.show()"
   ]
  },
  {
   "cell_type": "code",
   "execution_count": 17,
   "metadata": {},
   "outputs": [
    {
     "name": "stdout",
     "output_type": "stream",
     "text": [
      "Intención de LIKES [809.95861386]\n"
     ]
    }
   ],
   "source": [
    "#Vamos ver el impacto de proximo like, haciendo referencia  a personas que le siguen  debido a que se interesan en sus publicaciones.\n",
    "impacto = y_pred[100-1]\n",
    "print('Intención de LIKES',impacto )"
   ]
  },
  {
   "cell_type": "markdown",
   "metadata": {},
   "source": [
    "# Regresión Lineal Múltiple en Python\n"
   ]
  },
  {
   "cell_type": "markdown",
   "metadata": {},
   "source": [
    "Vamos a extender el ejercicio utilizando más de una variable de entrada para el modelo. Esto le da mayor poder al algoritmo de Machine Learning, pues de esta manera podremos obtener predicciones más complejas."
   ]
  },
  {
   "cell_type": "markdown",
   "metadata": {},
   "source": [
    "Nuestra “ecuación de la Recta”, ahora pasa a ser:\n",
    "\n",
    "**Y = b + m1 X1 + m2 X2 + … + m(n) X(n)**"
   ]
  },
  {
   "cell_type": "markdown",
   "metadata": {},
   "source": [
    "En nuestro caso, utilizaremos 2 “variables predictivas” para poder graficar en 3D, pero recordar que para mejores predicciones podemos utilizar más de 2 entradas y prescindir del grafico."
   ]
  },
  {
   "cell_type": "markdown",
   "metadata": {},
   "source": [
    "Nuestra primer variable sera veces compartido y la segunda variable será la suma de 2 columnas de entrada: followers, likes\n",
    "\n"
   ]
  },
  {
   "cell_type": "code",
   "execution_count": 18,
   "metadata": {},
   "outputs": [],
   "source": [
    "#Vamos a intentar mejorar el Modelo, con una dimensión más: \n",
    "# Para poder graficar en 3D, haremos una variable nueva que será la suma de los likes , veces compartido\n",
    "suma = (df[\"likes\"] + df['veces compartido'].fillna(0))\n",
    " \n",
    "dataX2 =  pd.DataFrame()\n",
    "dataX2[\"followers\"] = df[\"followers\"]\n",
    "dataX2[\"suma\"] = suma\n",
    "XY_train = np.array(dataX2)\n",
    "z_train = df['veces compartido'].values"
   ]
  },
  {
   "cell_type": "markdown",
   "metadata": {},
   "source": [
    "Ya tenemos nuestras 2 variables de entrada en XY_train y nuestra variable de salida pasa de ser “Y” a ser el eje “Z”."
   ]
  },
  {
   "cell_type": "markdown",
   "metadata": {},
   "source": [
    "Creamos un nuevo objeto de Regresión lineal con SKLearn pero esta vez tendrá las dos dimensiones que entrenar: las que contiene XY_train. Al igual que antes, imprimimos los coeficientes y puntajes obtenidos:\n",
    "\n"
   ]
  },
  {
   "cell_type": "code",
   "execution_count": 19,
   "metadata": {},
   "outputs": [
    {
     "name": "stdout",
     "output_type": "stream",
     "text": [
      "Coefficients: \n",
      " [0.         0.14698584]\n",
      "Mean squared error: 8165.14\n",
      "Variance score: 0.92\n"
     ]
    }
   ],
   "source": [
    "# Creamos un nuevo objeto de Regresión Lineal\n",
    "regr2 = linear_model.LinearRegression()\n",
    " \n",
    "# Entrenamos el modelo, esta vez, con 2 dimensiones\n",
    "# obtendremos 2 coeficientes, para graficar un plano\n",
    "regr2.fit(XY_train, z_train)\n",
    " \n",
    "# Hacemos la predicción con la que tendremos puntos sobre el plano hallado\n",
    "z_pred = regr2.predict(XY_train)\n",
    " \n",
    "# Los coeficientes\n",
    "print('Coefficients: \\n', regr2.coef_)\n",
    "# Error cuadrático medio\n",
    "print(\"Mean squared error: %.2f\" % mean_squared_error(z_train, z_pred))\n",
    "# Evaluamos el puntaje de varianza (siendo 1.0 el mejor posible)\n",
    "print('Variance score: %.2f' % r2_score(z_train, z_pred))"
   ]
  },
  {
   "cell_type": "code",
   "execution_count": 20,
   "metadata": {},
   "outputs": [
    {
     "data": {
      "text/plain": [
       "Text(0.5, 0.92, 'Regresión Lineal con Múltiples Variables')"
      ]
     },
     "execution_count": 20,
     "metadata": {},
     "output_type": "execute_result"
    },
    {
     "data": {
      "image/png": "[encoded data removed]",
      "text/plain": [
       "<Figure size 720x720 with 1 Axes>"
      ]
     },
     "metadata": {
      "needs_background": "light"
     },
     "output_type": "display_data"
    }
   ],
   "source": [
    "fig = plt.figure()\n",
    "ax = Axes3D(fig)\n",
    " \n",
    "# Creamos una malla, sobre la cual graficaremos el plano\n",
    "xx, yy = np.meshgrid(np.linspace(0, 3500, num=10), np.linspace(0, 60, num=10))\n",
    " \n",
    "# calculamos los valores del plano para los puntos x e y\n",
    "nuevoX = (regr2.coef_[0] * xx)\n",
    "nuevoY = (regr2.coef_[1] * yy) \n",
    " \n",
    "# calculamos los correspondientes valores para z. Debemos sumar el punto de intercepción\n",
    "z = (nuevoX + nuevoY + regr2.intercept_)\n",
    " \n",
    "# Graficamos el plano\n",
    "ax.plot_surface(xx, yy, z, alpha=0.2, cmap='hot')\n",
    " \n",
    "# Graficamos en azul los puntos en 3D\n",
    "ax.scatter(XY_train[:, 0], XY_train[:, 1], z_train, c='blue',s=30)\n",
    " \n",
    "# Graficamos en rojo, los puntos que \n",
    "ax.scatter(XY_train[:, 0], XY_train[:, 1], z_pred, c='red',s=40)\n",
    " \n",
    "# con esto situamos la \"camara\" con la que visualizamos\n",
    "ax.view_init(elev=30., azim=65)\n",
    "        \n",
    "ax.set_xlabel('Followers')\n",
    "ax.set_ylabel('Cantidad de Likes,Veces compartido')\n",
    "ax.set_title('Regresión Lineal con Múltiples Variables')"
   ]
  },
  {
   "cell_type": "markdown",
   "metadata": {},
   "source": [
    "# Predicción con el modelo de Mútiples Variables"
   ]
  },
  {
   "cell_type": "code",
   "execution_count": 21,
   "metadata": {},
   "outputs": [
    {
     "name": "stdout",
     "output_type": "stream",
     "text": [
      "68\n"
     ]
    }
   ],
   "source": [
    "# Si quiero predecir cuántos \"Compartidos\" voy a obtener por un artículo con: \n",
    "#  seguidores: 882120, likes: 303, compartidos: 96\n",
    "# según nuestro modelo, hacemos:\n",
    " \n",
    "z_Dosmil = regr2.predict([[882150, 303+96]])\n",
    "print(int(z_Dosmil))"
   ]
  },
  {
   "cell_type": "markdown",
   "metadata": {},
   "source": [
    "# Aplicacion de la Simulacion\n",
    "\n",
    "* Posteriormente se debe seguir un procesos de vacunación en los recintos electorales que se describe a continuación (Tomar el proceso para el proyecto final):\n",
    "  * Solo se va a tener en cuanta uno de los recintos electorales (investigar datos de cuantas personas asisten a votar).\n",
    "  * Tomar los resultados de la regresión para la vacuna según la llegada.\n",
    "  * Se tiene una promedio que el 80% de personas realizaran el proceso de vacunación dentro del Ecuador.\n",
    "  * Dentro del procesos se tiene que alrededor del 5% - 10% no podrán vacunarse.\n",
    "  * Las personas solo tiene un recinto electoral para realizar el proceso.\n",
    "  * Las personas realizan la primera vacuna y 30 días después la segunda vacuna.\n",
    "  * La persona se acerca a la mesa  y hacen fila en caso de ser necesario para recibir la vacuna.\n",
    "  * Realiza la vacunación en un tiempo aleatorio entre 5 a 10 minutos.\n",
    "  * Debe esperar 20 minutos dentro del establecimiento para verificar que no tenga problemas de salud.\n",
    "  * La persona recibe su certificado de vacunación y la fecha de la próxima vacuna entre 2 – 3 minutos.\n",
    "  * La persona sale del recinto electoral.\n",
    "  * Regresan para la próxima fecha y se repite el ciclo.\n",
    "* El proceso de simulación desarrollado deberá considerar los siguientes aspectos:\n",
    "  * Se debe establecer un modelo basado en modelos matemáticos para la predicción del numero de veces que se compartirá o la tendencia del presidente basada en redes sociales.\n",
    "  * El programa deberá generar gráficas que indiquen la ecuación matemática de las tendencias .\n",
    "  * Deben calcularse las siguientes métricas del sistema de simulación de eventos discretos :\n",
    "    * Total de de personas que realizaron el proceso de vacunación.\n",
    "    * Grafico del porcentaje de personas que no recibieron la vacuna.\n",
    "    * El tiempo promedio de espera.\n"
   ]
  },
  {
   "cell_type": "markdown",
   "metadata": {},
   "source": [
    "# RECINTO SININCAY \n",
    "![RECINTOELECTORAL](1.png)\n",
    "&nbsp;\n",
    "\n",
    "## DATOS VOTANTES\n",
    "![Datos](2.png)\n",
    "&nbsp;"
   ]
  },
  {
   "cell_type": "code",
   "execution_count": 22,
   "metadata": {},
   "outputs": [],
   "source": [
    "# Importamos las librerias\n",
    "import random\n",
    "import simpy"
   ]
  },
  {
   "cell_type": "code",
   "execution_count": 23,
   "metadata": {},
   "outputs": [],
   "source": [
    "RANDOM_SEED = 42\n",
    "NUMERO_PERSONAS = 4  # Numero promedio de personas a vacunarse que llegan al mismo tiempo\n",
    "NUMERO_MESAS = 2     # Numero de mesas receptoras  disponibles en el recinto para la vacunacion\n",
    "TIEMPO_VACUNACION = 5  # Tiempo promedio que las personas se demoran en vacunarse\n",
    "TIEMPO_LEGADA = 10    # Tiempo promedio de la llegada de las personas\n",
    "SIM_TIME = 120     # Simulation time in minutes"
   ]
  },
  {
   "cell_type": "code",
   "execution_count": 24,
   "metadata": {},
   "outputs": [],
   "source": [
    "TIEMPOS = []"
   ]
  },
  {
   "cell_type": "code",
   "execution_count": 25,
   "metadata": {},
   "outputs": [],
   "source": [
    "#RECINTO 1 SININCAY\n",
    "class Recinto(object):\n",
    "    \"\"\"\n",
    "        Clase recinto, encargado del proceso de votacion\n",
    "    \"\"\"\n",
    "    def __init__(self, env, numero_mesas, tiempo_vacunacion):\n",
    "        self.env = env\n",
    "        self.tiempo_vacunacion = tiempo_vacunacion\n",
    "        self.mesas_electorales = simpy.Resource(env, numero_mesas)\n",
    "\n",
    "    def vacunacion(self, persona):\n",
    "        \"\"\"\n",
    "            Realiza el proceso de vacunacion.\n",
    "        \"\"\"\n",
    "        yield self.env.timeout(self.tiempo_vacunacion)\n",
    "        self.seleccion_persona()\n",
    "        # Espera la entrega del certificado\n",
    "        timepo_cetificado = random.expovariate(1.0 / self.tiempo_vacunacion)\n",
    "        yield env.timeout(timepo_cetificado)\n",
    "        print(f'{persona} recibe su certificado votación a las {env.now}')\n",
    "    \n",
    "    def seleccion_persona(self):\n",
    "        \"\"\"\n",
    "            Realiza el proceso de la selecion de la persona\n",
    "        \"\"\"\n",
    "        pass\n",
    "        \n",
    "        \n",
    "def persona(env, name, recinto):\n",
    "    \"\"\"\n",
    "        Metodo donde el la persona que recibe la vacuna  hace uso de una mesa electoral y\n",
    "        procede con la vacunacion\n",
    "    \"\"\"\n",
    "    print(f'{name} llega a la mesa electoral y hace fila a las  {env.now} minutos')\n",
    "    with recinto.mesas_electorales.request() as mesa:\n",
    "        yield mesa\n",
    "\n",
    "        print(f'{name} entra al proceso de vacunacion a las {env.now}.')\n",
    "        yield env.process(recinto.vacunacion(name))\n",
    "        print(f'{name} sale del recinto electoral a las {env.now}.')\n",
    "\n",
    "def agregar_personas(tiempo, personas):\n",
    "    cantidad = 0\n",
    "    if len(TIEMPOS):\n",
    "        cantidad = TIEMPOS[-1].get('cantidad')\n",
    "    # Agrega los nuevas personas\n",
    "    TIEMPOS.append({'tiempo': tiempo, 'cantidad': cantidad + personas})\n",
    "    \n",
    "def setup(env, num_mesas, time_votacion, time_llegada):\n",
    "    \"\"\"\n",
    "        Creacion del recinto electoral, y el generado aleatorio \n",
    "        de personas que van a vacunarse\n",
    "    \"\"\"\n",
    "    # Crea el recinto electoral\n",
    "    recinto = Recinto(env, num_mesas, time_votacion)\n",
    "    # Create el ingreso de personas a vacunarse a las mesas\n",
    "    numero = 0\n",
    "    while True:\n",
    "        numero += 1\n",
    "        personas = random.randint(1, NUMERO_PERSONAS)\n",
    "        # Crea un numero randomico de personas a vacunarse\n",
    "        for i in range(personas):\n",
    "            env.process(persona(env, f'PERSONA[{numero}]', recinto))\n",
    "        # Agrega el numero de personas a vacunarse\n",
    "        agregar_personas(env.now, personas)\n",
    "        # Espera el tiempo de llegada\n",
    "        yield env.timeout(random.randint(time_llegada - 5, time_llegada + 5))"
   ]
  },
  {
   "cell_type": "code",
   "execution_count": 26,
   "metadata": {},
   "outputs": [
    {
     "name": "stdout",
     "output_type": "stream",
     "text": [
      "VACUNAS AZUAY - RECINTO #1\n",
      "PERSONA[1] llega a la mesa electoral y hace fila a las  0 minutos\n",
      "PERSONA[1] entra al proceso de vacunacion a las 0.\n",
      "PERSONA[2] llega a la mesa electoral y hace fila a las  5 minutos\n",
      "PERSONA[2] llega a la mesa electoral y hace fila a las  5 minutos\n",
      "PERSONA[2] llega a la mesa electoral y hace fila a las  5 minutos\n",
      "PERSONA[2] entra al proceso de vacunacion a las 5.\n",
      "PERSONA[1] recibe su certificado votación a las 6.262930928350568\n",
      "PERSONA[1] sale del recinto electoral a las 6.262930928350568.\n",
      "PERSONA[2] entra al proceso de vacunacion a las 6.262930928350568.\n",
      "PERSONA[3] llega a la mesa electoral y hace fila a las  13 minutos\n",
      "PERSONA[2] recibe su certificado votación a las 16.667963364040414\n",
      "PERSONA[2] sale del recinto electoral a las 16.667963364040414.\n",
      "PERSONA[2] entra al proceso de vacunacion a las 16.667963364040414.\n",
      "PERSONA[2] recibe su certificado votación a las 16.90879597234353\n",
      "PERSONA[2] sale del recinto electoral a las 16.90879597234353.\n",
      "PERSONA[3] entra al proceso de vacunacion a las 16.90879597234353.\n",
      "PERSONA[3] recibe su certificado votación a las 22.06004685838032\n",
      "PERSONA[3] sale del recinto electoral a las 22.06004685838032.\n",
      "PERSONA[2] recibe su certificado votación a las 24.40819416102287\n",
      "PERSONA[2] sale del recinto electoral a las 24.40819416102287.\n",
      "PERSONA[4] llega a la mesa electoral y hace fila a las  27 minutos\n",
      "PERSONA[4] llega a la mesa electoral y hace fila a las  27 minutos\n",
      "PERSONA[4] entra al proceso de vacunacion a las 27.\n",
      "PERSONA[4] entra al proceso de vacunacion a las 27.\n",
      "PERSONA[4] recibe su certificado votación a las 32.13447201840154\n",
      "PERSONA[4] sale del recinto electoral a las 32.13447201840154.\n",
      "PERSONA[5] llega a la mesa electoral y hace fila a las  35 minutos\n",
      "PERSONA[5] llega a la mesa electoral y hace fila a las  35 minutos\n",
      "PERSONA[5] entra al proceso de vacunacion a las 35.\n",
      "PERSONA[4] recibe su certificado votación a las 35.51957763933077\n",
      "PERSONA[4] sale del recinto electoral a las 35.51957763933077.\n",
      "PERSONA[5] entra al proceso de vacunacion a las 35.51957763933077.\n",
      "PERSONA[5] recibe su certificado votación a las 43.2390757546504\n",
      "PERSONA[5] sale del recinto electoral a las 43.2390757546504.\n",
      "PERSONA[5] recibe su certificado votación a las 46.04199582427886\n",
      "PERSONA[5] sale del recinto electoral a las 46.04199582427886.\n",
      "PERSONA[6] llega a la mesa electoral y hace fila a las  50 minutos\n",
      "PERSONA[6] llega a la mesa electoral y hace fila a las  50 minutos\n",
      "PERSONA[6] llega a la mesa electoral y hace fila a las  50 minutos\n",
      "PERSONA[6] llega a la mesa electoral y hace fila a las  50 minutos\n",
      "PERSONA[6] entra al proceso de vacunacion a las 50.\n",
      "PERSONA[6] entra al proceso de vacunacion a las 50.\n",
      "PERSONA[6] recibe su certificado votación a las 56.629971569018736\n",
      "PERSONA[6] sale del recinto electoral a las 56.629971569018736.\n",
      "PERSONA[6] entra al proceso de vacunacion a las 56.629971569018736.\n",
      "PERSONA[7] llega a la mesa electoral y hace fila a las  64 minutos\n",
      "PERSONA[7] llega a la mesa electoral y hace fila a las  64 minutos\n",
      "PERSONA[6] recibe su certificado votación a las 65.17426556388405\n",
      "PERSONA[6] sale del recinto electoral a las 65.17426556388405.\n",
      "PERSONA[6] entra al proceso de vacunacion a las 65.17426556388405.\n",
      "PERSONA[6] recibe su certificado votación a las 68.74076836027537\n",
      "PERSONA[6] sale del recinto electoral a las 68.74076836027537.\n",
      "PERSONA[7] entra al proceso de vacunacion a las 68.74076836027537.\n",
      "PERSONA[6] recibe su certificado votación a las 72.25374099637695\n",
      "PERSONA[6] sale del recinto electoral a las 72.25374099637695.\n",
      "PERSONA[7] entra al proceso de vacunacion a las 72.25374099637695.\n",
      "PERSONA[7] recibe su certificado votación a las 74.58569970071171\n",
      "PERSONA[7] sale del recinto electoral a las 74.58569970071171.\n",
      "PERSONA[8] llega a la mesa electoral y hace fila a las  75 minutos\n",
      "PERSONA[8] llega a la mesa electoral y hace fila a las  75 minutos\n",
      "PERSONA[8] llega a la mesa electoral y hace fila a las  75 minutos\n",
      "PERSONA[8] entra al proceso de vacunacion a las 75.\n",
      "PERSONA[7] recibe su certificado votación a las 77.74040425307673\n",
      "PERSONA[7] sale del recinto electoral a las 77.74040425307673.\n",
      "PERSONA[8] entra al proceso de vacunacion a las 77.74040425307673.\n",
      "PERSONA[8] recibe su certificado votación a las 80.50859342497816\n",
      "PERSONA[8] sale del recinto electoral a las 80.50859342497816.\n",
      "PERSONA[8] entra al proceso de vacunacion a las 80.50859342497816.\n",
      "PERSONA[9] llega a la mesa electoral y hace fila a las  81 minutos\n",
      "PERSONA[9] llega a la mesa electoral y hace fila a las  81 minutos\n",
      "PERSONA[9] llega a la mesa electoral y hace fila a las  81 minutos\n",
      "PERSONA[8] recibe su certificado votación a las 84.27656980718197\n",
      "PERSONA[8] sale del recinto electoral a las 84.27656980718197.\n",
      "PERSONA[9] entra al proceso de vacunacion a las 84.27656980718197.\n",
      "PERSONA[8] recibe su certificado votación a las 85.73070682795385\n",
      "PERSONA[8] sale del recinto electoral a las 85.73070682795385.\n",
      "PERSONA[9] entra al proceso de vacunacion a las 85.73070682795385.\n",
      "PERSONA[9] recibe su certificado votación a las 91.39737053461432\n",
      "PERSONA[9] sale del recinto electoral a las 91.39737053461432.\n",
      "PERSONA[9] entra al proceso de vacunacion a las 91.39737053461432.\n",
      "PERSONA[9] recibe su certificado votación a las 92.35217814982848\n",
      "PERSONA[9] sale del recinto electoral a las 92.35217814982848.\n",
      "PERSONA[10] llega a la mesa electoral y hace fila a las  95 minutos\n",
      "PERSONA[10] llega a la mesa electoral y hace fila a las  95 minutos\n",
      "PERSONA[10] llega a la mesa electoral y hace fila a las  95 minutos\n",
      "PERSONA[10] llega a la mesa electoral y hace fila a las  95 minutos\n",
      "PERSONA[10] entra al proceso de vacunacion a las 95.\n",
      "PERSONA[9] recibe su certificado votación a las 100.41263426204675\n",
      "PERSONA[9] sale del recinto electoral a las 100.41263426204675.\n",
      "PERSONA[10] entra al proceso de vacunacion a las 100.41263426204675.\n",
      "PERSONA[11] llega a la mesa electoral y hace fila a las  101 minutos\n",
      "PERSONA[11] llega a la mesa electoral y hace fila a las  101 minutos\n",
      "PERSONA[11] llega a la mesa electoral y hace fila a las  101 minutos\n",
      "PERSONA[10] recibe su certificado votación a las 106.48038651414325\n",
      "PERSONA[10] sale del recinto electoral a las 106.48038651414325.\n",
      "PERSONA[10] entra al proceso de vacunacion a las 106.48038651414325.\n",
      "PERSONA[10] recibe su certificado votación a las 108.84230492292751\n",
      "PERSONA[10] sale del recinto electoral a las 108.84230492292751.\n",
      "PERSONA[10] entra al proceso de vacunacion a las 108.84230492292751.\n",
      "PERSONA[10] recibe su certificado votación a las 111.84084887715441\n",
      "PERSONA[10] sale del recinto electoral a las 111.84084887715441.\n",
      "PERSONA[11] entra al proceso de vacunacion a las 111.84084887715441.\n",
      "PERSONA[12] llega a la mesa electoral y hace fila a las  115 minutos\n",
      "PERSONA[12] llega a la mesa electoral y hace fila a las  115 minutos\n",
      "PERSONA[12] llega a la mesa electoral y hace fila a las  115 minutos\n",
      "PERSONA[10] recibe su certificado votación a las 119.25496604475852\n",
      "PERSONA[10] sale del recinto electoral a las 119.25496604475852.\n",
      "PERSONA[11] entra al proceso de vacunacion a las 119.25496604475852.\n"
     ]
    }
   ],
   "source": [
    "print('VACUNAS AZUAY - RECINTO #1')\n",
    "random.seed(RANDOM_SEED)\n",
    "env = simpy.Environment()\n",
    "env.process(setup(env, NUMERO_MESAS, TIEMPO_VACUNACION, TIEMPO_LEGADA))\n",
    "# Execute!\n",
    "env.run(until=SIM_TIME)"
   ]
  },
  {
   "cell_type": "code",
   "execution_count": 27,
   "metadata": {},
   "outputs": [
    {
     "data": {
      "image/png": "[encoded data removed]",
      "text/plain": [
       "<Figure size 720x720 with 1 Axes>"
      ]
     },
     "metadata": {
      "needs_background": "light"
     },
     "output_type": "display_data"
    }
   ],
   "source": [
    "tiempos = pd.DataFrame(TIEMPOS)\n",
    "plt.plot(tiempos['tiempo'], tiempos['cantidad'], linewidth=2,color='red')\n",
    "plt.plot(tiempos['tiempo'], tiempos['cantidad'], color='blue')\n",
    "plt.xlabel('TIEMPO TOTAL')\n",
    "plt.ylabel('TOTAL VACUNADOS')\n",
    "plt.grid(True)\n",
    "plt.show()"
   ]
  },
  {
   "cell_type": "code",
   "execution_count": 28,
   "metadata": {},
   "outputs": [
    {
     "name": "stdout",
     "output_type": "stream",
     "text": [
      "TOTAL VACUNADOS: 31\n",
      "TIEMPO PROMEDIO ESPERA: 55.083333333333336\n"
     ]
    }
   ],
   "source": [
    "# IMPRESION DE RESULTADOS\n",
    "print(\"TOTAL VACUNADOS:\",  TIEMPOS[-1]['cantidad'])\n",
    "print(\"TIEMPO PROMEDIO ESPERA:\",  tiempos['tiempo'].mean())"
   ]
  },
  {
   "cell_type": "markdown",
   "metadata": {},
   "source": [
    "# Conclusiones\n",
    "El desarollo del presente trabajo me permitió poder expandir mis conocimientos sobre el funcionamiento de las regresiones y la utilidad de la mismas para poder predecir datos en el futuro, de las misma manera sobre la utilidad de la simulacion de eventos discretos para poder simular situaciones de la vida real.\n",
    "\n"
   ]
  },
  {
   "cell_type": "code",
   "execution_count": null,
   "metadata": {},
   "outputs": [],
   "source": []
  }
 ],
 "metadata": {
  "kernelspec": {
   "display_name": "Python 3",
   "language": "python",
   "name": "python3"
  },
  "language_info": {
   "codemirror_mode": {
    "name": "ipython",
    "version": 3
   },
   "file_extension": ".py",
   "mimetype": "text/x-python",
   "name": "python",
   "nbconvert_exporter": "python",
   "pygments_lexer": "ipython3",
   "version": "3.8.3"
  }
 },
 "nbformat": 4,
 "nbformat_minor": 4
}
