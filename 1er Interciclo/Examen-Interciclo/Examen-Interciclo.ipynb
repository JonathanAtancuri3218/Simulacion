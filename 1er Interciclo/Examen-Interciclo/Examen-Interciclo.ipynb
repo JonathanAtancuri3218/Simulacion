{
 "cells": [
  {
   "cell_type": "markdown",
   "metadata": {},
   "source": [
    "![UPS](ups.png)\n",
    "&nbsp;\n",
    "\n",
    "**Nombre:** Jonathan Atancuri\n",
    "\n",
    "**Asignatura:** Simulacion\n",
    "\n",
    "# Examen Interciclo-Simulacion\n",
    "\n",
    "### Objetivo:\n",
    "\n",
    "* Consolidar los conocimientos adquiridos en clase para desarrollar simulaciones de eventos discretos.\n",
    "\n",
    "### Introducción:\n",
    "\n",
    "El golpe económico de la crisis sanitaria del corona virus no va a ser cosa de semanas, sino de meses. Dentro de una de las etapas importantes posteriores a las elecciones presidenciales son el análisis y tendencia que tiene el actual presidente. Para ello se plantea realizar un sistema de regresión que permita identificar cual es la tendencia en base al manejo de las redes sociales (Twitter y/o Facebook) del presidente [1].\n",
    "\n",
    "Las regresiones lineales pueden aprenden por sí mismos y en este caso obtener automáticamente esa “recta o ecuación” que buscamos con la tendencia de predicción. Para ello se puede medir el error con respecto a los puntos de entrada y el valor “Y” de salida real [3].\n",
    "\n",
    "\n",
    "#### Enunciado:\n",
    "\n",
    "*\tDiseñe y desarrolle un modelo y/o script que permita simular el siguiente caso real:\n",
    "*\tObtener datos de tendencia de twitter o facebook(crawler o webscraping), para ello se puede obtener a través del API [4].\n",
    "*\tTitle: Titulo del Post/Twitter\n",
    "*\tWord count: la cantidad de palabras del artículo,\n",
    "*\tnumber of Links: los enlaces externos que contiene,\n",
    "*\tnumber of comments: cantidad de comentarios,\n",
    "*\tnumber Shares: compartidos.\n",
    "*\tHashTag\n",
    "*\tEtc.\n",
    "\n",
    "En base a ello, se pretende proponer y generar una predicción de cuántas veces será compartido un post/twitter utilizando regresión [2].\n"
   ]
  },
  {
   "cell_type": "code",
   "execution_count": null,
   "metadata": {},
   "outputs": [],
   "source": [
    "import simpy as sp\n",
    "import numpy as np\n",
    "import tweepy as tp\n",
    "import pandas as pd\n",
    "import random as rd\n",
    "import matplotlib.pyplot as pp\n",
    "\n",
    "from datetime import datetime, timedelta\n",
    "from sklearn.linear_model import LinearRegression\n",
    "\n",
    "%matplotlib inline"
   ]
  },
  {
   "cell_type": "code",
   "execution_count": null,
   "metadata": {},
   "outputs": [],
   "source": [
    "#Se definen las constantes necesarias para autenticarse en la API\n",
    "CONSUMER_KEY = '7WjRyBLWCmtCutSig0mpqlec5'\n",
    "CONSUMER_SECRET = 'BCdV2YThbvw6gC7tj5OZbjlR8DSU2gDFwaRjr7Xs1T5P4vmptM'\n",
    "TOKEN_KEY = '1302969322533519360-tw5klydBCGiTfJ4VhsnJwuOEgK5OYI'\n",
    "TOKEN_SECRET = 'E7PuklL3RpWVWOg91PfygcMC9absNBMX5xKm0YXHp2Kgk'\n",
    "\n",
    "#Establecemos nuestras credenciales de desarrolladores\n",
    "autenticacion = tp.OAuthHandler(CONSUMER_KEY, CONSUMER_SECRET)\n",
    "autenticacion.set_access_token(TOKEN_KEY, TOKEN_SECRET)\n",
    "\n",
    "#Accedemos a las funcionalidades de la API\n",
    "twitter = tp.API(autenticacion, wait_on_rate_limit = True)\n",
    "twitter"
   ]
  },
  {
   "cell_type": "code",
   "execution_count": null,
   "metadata": {},
   "outputs": [],
   "source": [
    "\n",
    "#Definimos nuestros candidatos\n",
    "USUARIOS = [\n",
    "    #Presidente Republica\n",
    "    '@LassoGuillermo', #Guillermo Lasso\n",
    "]\n",
    "\n",
    "USUARIOS"
   ]
  },
  {
   "cell_type": "code",
   "execution_count": null,
   "metadata": {},
   "outputs": [],
   "source": [
    "#Definimos una lista donde se guardaran los datos\n",
    "datos = []\n",
    "\n",
    "#Realizamos la consulta y obtenemos los resultados\n",
    "for usuario in USUARIOS:\n",
    "    tweets = twitter.user_timeline(usuario, tweet_mode = 'extended')\n",
    "\n",
    "    #Guardamos los datos en un diccionario\n",
    "    for tweet in tweets:\n",
    "        datos.append({\n",
    "            'candidato': tweet.user.name,\n",
    "            'fecha': tweet.created_at,\n",
    "            'retweets': tweet.retweet_count,\n",
    "            'favoritos': tweet.favorite_count,\n",
    "            'tweet': tweet.full_text\n",
    "    })\n",
    "\n",
    "#Convertimos los datos en dataframe para facilitar el trabajo\n",
    "datos = pd.DataFrame(data = datos, columns = ['candidato', 'fecha', 'retweets', 'favoritos','tweet'])\n",
    "\n",
    "#Mostramos los 10 primero datos obtenidos\n",
    "datos"
   ]
  },
  {
   "cell_type": "code",
   "execution_count": null,
   "metadata": {},
   "outputs": [],
   "source": [
    "#Expresar los datos de fecha en número de dias desde inicio del año 2020\n",
    "formato = '%Y-%m-%d'\n",
    "fecha = datos['fecha']\n",
    "\n",
    "datos['fecha'] = fecha.map(lambda x: \n",
    "    (datetime.strptime(str(x.date()), formato) - datetime.strptime('2021-01-01', formato)).days\n",
    ")\n",
    "\n",
    "datos"
   ]
  },
  {
   "cell_type": "code",
   "execution_count": null,
   "metadata": {},
   "outputs": [],
   "source": [
    "#Graficamos las tendencia por grupos de datos a graficar\n",
    "partidos = datos.groupby('candidato')\n",
    "\n",
    "grafico, ejes = pp.subplots()\n",
    "\n",
    "grafico.set_size_inches(20, 10)\n",
    "for etiqueta, grupo in partidos:\n",
    "    grupo.plot(x = 'fecha', y = 'retweets', ax = ejes,label = etiqueta)\n",
    "\n",
    "pp.show()"
   ]
  },
  {
   "cell_type": "code",
   "execution_count": null,
   "metadata": {},
   "outputs": [],
   "source": [
    "grafico = pp.figure(figsize = (15, 40))\n",
    "\n",
    "i = 1\n",
    "dias_totales = np.array(range(320, 400))\n",
    "\n",
    "for etiqueta, grupo in partidos:\n",
    "    #Obtención de las variables para el entrenamiento\n",
    "    x = list(grupo.iloc[:, 1]) #Fecha (Número de día)\n",
    "    y = list(grupo.iloc[:, 2]) #Retweets obtenidos\n",
    "\n",
    "    #Creación y entranamiento del modelo\n",
    "    \n",
    "    modelo = LinearRegression()\n",
    "    modelo.fit(np.array(x).reshape(-1, 1), y)\n",
    "\n",
    "    #Establecemos el número de días que queremos predecir\n",
    "    DIAS_PREDICCION = x[-1] + 100\n",
    "\n",
    "    #Realizamos la prediccion\n",
    "    prediccion = modelo.predict([[DIAS_PREDICCION]])\n",
    "    prediccion = max(x) if int(max(x) + prediccion) <= 0 else int(max(x) + prediccion)\n",
    "    \n",
    "    candidato = grupo.iloc[0,0]\n",
    "    \n",
    "    parte = grafico.add_subplot(10, 2, i)\n",
    "    parte.set_title(candidato + ' - Total de retweets: ' + str(prediccion))\n",
    "    parte.scatter(x, y, color = 'green')\n",
    "    parte.plot(dias_totales, modelo.predict(dias_totales.reshape(-1, 1)), color = 'red')\n",
    "    parte.legend(['Retweets actuales', 'Retweets predecidos'])\n",
    "\n",
    "    i += 1\n",
    "    \n",
    "pp.show()"
   ]
  },
  {
   "cell_type": "code",
   "execution_count": null,
   "metadata": {},
   "outputs": [],
   "source": []
  }
 ],
 "metadata": {
  "kernelspec": {
   "display_name": "Python 3",
   "language": "python",
   "name": "python3"
  },
  "language_info": {
   "codemirror_mode": {
    "name": "ipython",
    "version": 3
   },
   "file_extension": ".py",
   "mimetype": "text/x-python",
   "name": "python",
   "nbconvert_exporter": "python",
   "pygments_lexer": "ipython3",
   "version": "3.8.3"
  }
 },
 "nbformat": 4,
 "nbformat_minor": 4
}
