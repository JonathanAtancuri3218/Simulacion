{
 "cells": [
  {
   "cell_type": "markdown",
   "metadata": {},
   "source": [
    "![UPS](ups.png)\n",
    "&nbsp;\n",
    "\n",
    "**Nombre:** Jonathan Atancuri\n",
    "\n",
    "**Asignatura:** Simulacion\n",
    "\n",
    "# Prueba de Simulacion\n",
    "\n",
    "#### Enunciado:\n",
    "\n",
    "*\tDiseñe y desarrolle un modelo y/o script que permita simular el siguiente caso real:\n",
    "    * Se tiene los datos del ecuador \n",
    "    (https://github.com/andrab/ecuacovid/tree/master/datos_crudos). En base a    ello obtener los siguientes modelos:\n",
    "        *\tGenerar graficas para entender y procesar los datos:\n",
    "            *\tGenerar graficas y reportes del total de personas  vacunadas.\n",
    "            *\tGenerar grafico de pie por fabricante de la vacuna.\n",
    "            *\tGenerar histogramas de vacunas por mes de llega y fabricante.\n",
    "    *\tGenerar un reporte parametrizado que pueda ingresar los datos de las fechas inicio y fin para obtener la información de las graficas vistas en el primer punto.\n",
    "    *\tGenerar un modelo matemático de predicción para regresión lineal, exponencial, polinómico y logarítmico, del procesos de vacunación en base al numero actual de vacunados (1 y 2 dosis) y a la llegada de nuevas vacunas.\n",
    "    *\tDesarrollar y generar un proceso de comparación con al menos cuatro países (2. Latinoamérica, 1. E.E.U.U./Canada,  1. Europa).\n",
    "    *\tGenerar las graficas de regresión y comparar.\n",
    "    *\tIdentificar cual es la fecha tentativa en la que todos los Ecuatorianos podrán ser vacunados con las dos dosis.\n",
    "*\tEl proceso de simulación desarrollado deberá considerar los siguientes aspectos:\n",
    "    *\tGenerar un cuaderno de Python para el desarrollo y parametrización de graficas, reportes, regresiones.\n",
    "    *\tObtener los siguientes análisis:\n",
    "        *\tCual tiene una mejor predicción.\n",
    "        *\tVentajas y desventajas de los modelos.\n",
    "    *\tOpinión\n",
    "    *\tConclusiones\n",
    "    *\tRecomendaciones.\n",
    "*\tFechas de Presentación: 09/05/2021 – 23:55 Subir al Avac en formato PDF y al Git los cuadernos de Python.\n",
    "\n",
    "* Puntos Adicionales:\n",
    "    *\tGenerar una correlación del plan de vacunas con las vacunas realizadas actuales\n",
    "\n"
   ]
  },
  {
   "cell_type": "markdown",
   "metadata": {},
   "source": [
    "##### Referencias:\n",
    "\n",
    "* [1]: https://www.salud.gob.ec/plan-nacional-de-vacunacion-ecuador-2021-llega-segundo-lote-de-vacunas-pfizer-por-16-380-dosis/\n",
    "* [2]: https://www.edicionmedica.ec/secciones/salud-publica/-cuantas-personas-ya-se-han-vacunado-contra-la-covid-19-en-el-ecuador--97224\n",
    "\n",
    "\n"
   ]
  },
  {
   "cell_type": "code",
   "execution_count": 1,
   "metadata": {},
   "outputs": [
    {
     "name": "stdout",
     "output_type": "stream",
     "text": [
      "pygame 2.0.1 (SDL 2.0.14, Python 3.8.3)\n",
      "Hello from the pygame community. https://www.pygame.org/contribute.html\n"
     ]
    }
   ],
   "source": [
    "import pandas as pd\n",
    "import numpy as np\n",
    "from datetime import datetime,timedelta\n",
    "from sklearn.metrics import mean_squared_error\n",
    "from scipy.optimize import curve_fit\n",
    "from scipy.optimize import fsolve\n",
    "from sklearn import linear_model\n",
    "import matplotlib.pyplot as plt\n",
    "from sklearn.linear_model import LinearRegression \n",
    "from sklearn.preprocessing import PolynomialFeatures \n",
    "from scipy.optimize import minimize\n",
    "from scipy.integrate import solve_ivp\n",
    "from time import time\n",
    "from scipy.integrate import odeint\n",
    "from random import randrange # Obtener un numero randomico\n",
    "import pygame\n",
    "from matplotlib.dates import DateFormatter, WeekdayLocator\n",
    "\n"
   ]
  },
  {
   "cell_type": "code",
   "execution_count": 2,
   "metadata": {},
   "outputs": [
    {
     "data": {
      "text/html": [
       "<div>\n",
       "<style scoped>\n",
       "    .dataframe tbody tr th:only-of-type {\n",
       "        vertical-align: middle;\n",
       "    }\n",
       "\n",
       "    .dataframe tbody tr th {\n",
       "        vertical-align: top;\n",
       "    }\n",
       "\n",
       "    .dataframe thead th {\n",
       "        text-align: right;\n",
       "    }\n",
       "</style>\n",
       "<table border=\"1\" class=\"dataframe\">\n",
       "  <thead>\n",
       "    <tr style=\"text-align: right;\">\n",
       "      <th></th>\n",
       "      <th>fecha</th>\n",
       "      <th>dosis_total</th>\n",
       "      <th>primera_dosis</th>\n",
       "      <th>segunda_dosis</th>\n",
       "    </tr>\n",
       "  </thead>\n",
       "  <tbody>\n",
       "    <tr>\n",
       "      <th>0</th>\n",
       "      <td>21/01/2021</td>\n",
       "      <td>0</td>\n",
       "      <td>0</td>\n",
       "      <td>0</td>\n",
       "    </tr>\n",
       "    <tr>\n",
       "      <th>1</th>\n",
       "      <td>22/01/2021</td>\n",
       "      <td>108</td>\n",
       "      <td>108</td>\n",
       "      <td>0</td>\n",
       "    </tr>\n",
       "    <tr>\n",
       "      <th>2</th>\n",
       "      <td>27/01/2021</td>\n",
       "      <td>2982</td>\n",
       "      <td>2982</td>\n",
       "      <td>0</td>\n",
       "    </tr>\n",
       "    <tr>\n",
       "      <th>3</th>\n",
       "      <td>04/02/2021</td>\n",
       "      <td>6228</td>\n",
       "      <td>6228</td>\n",
       "      <td>0</td>\n",
       "    </tr>\n",
       "    <tr>\n",
       "      <th>4</th>\n",
       "      <td>17/02/2021</td>\n",
       "      <td>8190</td>\n",
       "      <td>6228</td>\n",
       "      <td>1962</td>\n",
       "    </tr>\n",
       "    <tr>\n",
       "      <th>5</th>\n",
       "      <td>24/02/2021</td>\n",
       "      <td>24492</td>\n",
       "      <td>20784</td>\n",
       "      <td>3708</td>\n",
       "    </tr>\n",
       "    <tr>\n",
       "      <th>6</th>\n",
       "      <td>01/03/2021</td>\n",
       "      <td>42114</td>\n",
       "      <td>35886</td>\n",
       "      <td>6228</td>\n",
       "    </tr>\n",
       "    <tr>\n",
       "      <th>7</th>\n",
       "      <td>04/03/2021</td>\n",
       "      <td>59316</td>\n",
       "      <td>53088</td>\n",
       "      <td>6228</td>\n",
       "    </tr>\n",
       "    <tr>\n",
       "      <th>8</th>\n",
       "      <td>05/03/2021</td>\n",
       "      <td>71148</td>\n",
       "      <td>64920</td>\n",
       "      <td>6228</td>\n",
       "    </tr>\n",
       "    <tr>\n",
       "      <th>9</th>\n",
       "      <td>08/03/2021</td>\n",
       "      <td>74472</td>\n",
       "      <td>68244</td>\n",
       "      <td>6228</td>\n",
       "    </tr>\n",
       "  </tbody>\n",
       "</table>\n",
       "</div>"
      ],
      "text/plain": [
       "        fecha  dosis_total  primera_dosis  segunda_dosis\n",
       "0  21/01/2021            0              0              0\n",
       "1  22/01/2021          108            108              0\n",
       "2  27/01/2021         2982           2982              0\n",
       "3  04/02/2021         6228           6228              0\n",
       "4  17/02/2021         8190           6228           1962\n",
       "5  24/02/2021        24492          20784           3708\n",
       "6  01/03/2021        42114          35886           6228\n",
       "7  04/03/2021        59316          53088           6228\n",
       "8  05/03/2021        71148          64920           6228\n",
       "9  08/03/2021        74472          68244           6228"
      ]
     },
     "execution_count": 2,
     "metadata": {},
     "output_type": "execute_result"
    }
   ],
   "source": [
    "plotlin = plt\n",
    "plotlog = plt\n",
    "plotexp = plt\n",
    "plotpol = plt\n",
    "plotsir = plt\n",
    "start_date = \"21/01/2021\"\n",
    "url = 'https://raw.githubusercontent.com/andrab/ecuacovid/master/datos_crudos/vacunas/vacunas.csv'\n",
    "df = pd.read_csv(url)\n",
    "df.head(10)"
   ]
  },
  {
   "cell_type": "code",
   "execution_count": 3,
   "metadata": {},
   "outputs": [
    {
     "name": "stdout",
     "output_type": "stream",
     "text": [
      "Total de Vacunados\n",
      "1289962.0\n"
     ]
    },
    {
     "data": {
      "image/png": "[encoded data removed]",
      "text/plain": [
       "<Figure size 432x288 with 1 Axes>"
      ]
     },
     "metadata": {
      "needs_background": "light"
     },
     "output_type": "display_data"
    }
   ],
   "source": [
    "\n",
    "clasificador = df[df['dosis_total'] != 0]\n",
    "#print(clasificador)\n",
    "ndf1=clasificador[['fecha','dosis_total']]\n",
    "#print(ndf1)\n",
    "x=np.arange(1,len(ndf1)+1,1) # arreglo primer dia \n",
    "y=np.array(ndf1.values[:,1], dtype='float')\n",
    "\n",
    "print(\"Total de Vacunados\")\n",
    "print(y[len(y)-1])\n",
    "plt.plot(x,y,label='Total de Vacunados ', linewidth=4.0 ,color='green') \n",
    "plt.xlabel(\"Fecha\")\n",
    "plt.grid(True)\n",
    "plt.legend()\n",
    "plt.title('Personas Vacunadas Ecuaador');"
   ]
  },
  {
   "cell_type": "markdown",
   "metadata": {},
   "source": [
    "### Regresion Lineal"
   ]
  },
  {
   "cell_type": "code",
   "execution_count": 4,
   "metadata": {},
   "outputs": [
    {
     "name": "stdout",
     "output_type": "stream",
     "text": [
      "w = 27041.89295918367, b = -195179.89540816325\n",
      "y = 27041.89295918367x -195179.89540816325\n"
     ]
    }
   ],
   "source": [
    "\n",
    "regresion_lineal = LinearRegression() # creamos una instancia de LinearRegression\n",
    "# instruimos a la regresión lineal que aprenda de los datos (x,y)\n",
    "regresion_lineal.fit(x.reshape(-1,1), y) \n",
    "\n",
    "\n",
    "# vemos los parámetros que ha estimado la regresión lineal\n",
    "print('w = ' + str(regresion_lineal.coef_[0]) + ', b = ' + str(regresion_lineal.intercept_))\n",
    "if (regresion_lineal.intercept_ < 0):\n",
    "    ecua='y = {}x {}'\n",
    "else:\n",
    "    ecua='y = {}x + {}'\n",
    "print(ecua.format(regresion_lineal.coef_[0],regresion_lineal.intercept_))"
   ]
  },
  {
   "cell_type": "code",
   "execution_count": 5,
   "metadata": {},
   "outputs": [
    {
     "data": {
      "image/png": "[encoded data removed]",
      "text/plain": [
       "<Figure size 720x720 with 1 Axes>"
      ]
     },
     "metadata": {
      "needs_background": "light"
     },
     "output_type": "display_data"
    }
   ],
   "source": [
    "fun= lambda num: regresion_lineal.coef_[0]*num+regresion_lineal.intercept_\n",
    "plt.figure(figsize=(10, 10))\n",
    "plt.plot(x,y,label='Datos Reales',linewidth=4.0 ,color='green')\n",
    "plt.grid(True)\n",
    "plt.title('Regresion lineal Fecha aproximada vacuna ');\n",
    "x1=np.arange(1,len(ndf1)+10,1)\n",
    "y1=fun(x1)\n",
    "\n",
    "\n",
    "plt.plot(x1,y1,color='red',linewidth=4.0,label='Regresion Lineal')\n",
    "plt.legend()\n",
    "plt.show()"
   ]
  },
  {
   "cell_type": "markdown",
   "metadata": {},
   "source": [
    "### Regresion Exponencial"
   ]
  },
  {
   "cell_type": "code",
   "execution_count": 6,
   "metadata": {},
   "outputs": [
    {
     "name": "stdout",
     "output_type": "stream",
     "text": [
      "[0.10658319 9.69124219]\n"
     ]
    },
    {
     "data": {
      "image/png": "[encoded data removed]",
      "text/plain": [
       "<Figure size 432x288 with 1 Axes>"
      ]
     },
     "metadata": {
      "needs_background": "light"
     },
     "output_type": "display_data"
    }
   ],
   "source": [
    "xexp=x\n",
    "yexp=y\n",
    "ndf1exp=ndf1\n",
    "\n",
    "curve_fit=np.polyfit(xexp,np.log(yexp),1)\n",
    "print(curve_fit)\n",
    "pred_xe=np.array(list(range(min(xexp),max(xexp)+10)))\n",
    "\n",
    "\n",
    "yx=np.exp(curve_fit[1])*np.exp(curve_fit[0]*pred_xe)\n",
    "plt.title('Casos de fecha vacuna proxima')\n",
    "plt.plot(xexp,yexp,\"green\",linewidth=4.0,label='Datos Reales')\n",
    "plt.plot(pred_xe,yx,color='red',linewidth=5.0, label=\"Regresion Exponencial\")\n",
    "plt.xlabel('DIAS')\n",
    "plt.ylabel('PERSONAS')\n",
    "plt.legend()\n",
    "plt.grid(True)"
   ]
  },
  {
   "cell_type": "markdown",
   "metadata": {},
   "source": [
    "### Regresion Polinomica"
   ]
  },
  {
   "cell_type": "code",
   "execution_count": 7,
   "metadata": {},
   "outputs": [
    {
     "name": "stdout",
     "output_type": "stream",
     "text": [
      "           6          5         4         3        2\n",
      "-0.001779 x + 0.2736 x - 15.91 x + 433.3 x - 5097 x + 3.388e+04 x - 4.855e+04\n"
     ]
    },
    {
     "data": {
      "image/png": "[encoded data removed]",
      "text/plain": [
       "<Figure size 432x288 with 1 Axes>"
      ]
     },
     "metadata": {
      "needs_background": "light"
     },
     "output_type": "display_data"
    }
   ],
   "source": [
    "xpol=x\n",
    "ypol=y\n",
    "polndf1=ndf1\n",
    "#Vacunados\n",
    "fun1 = np.poly1d(np.polyfit(xpol, ypol, 6))\n",
    "print(fun1)\n",
    "y_pred=fun1(xpol)\n",
    "plt.title('Vacunados ')\n",
    "plt.plot(xpol, ypol, \"green\",linewidth=5.0 ,label='Datos Reales' )\n",
    "plt.plot(xpol, y_pred, c='r',linewidth=4.0 ,label='Regresion Polinomica')\n",
    "plt.legend()\n",
    "plt.show()"
   ]
  },
  {
   "cell_type": "markdown",
   "metadata": {},
   "source": [
    "### Regresion Logaritmica"
   ]
  },
  {
   "cell_type": "code",
   "execution_count": 8,
   "metadata": {},
   "outputs": [],
   "source": [
    "from scipy.optimize import curve_fit\n",
    "from sklearn.linear_model import LogisticRegression\n",
    "\n",
    "xlog=x\n",
    "ylog=y\n",
    "ndf1log=ndf1\n",
    "\n",
    "def modelo_logistico(x,a,b):\n",
    "    return a+b*np.log(x)\n",
    "\n",
    "exp_fit = curve_fit(modelo_logistico,xlog,ylog) #Extraemos los valores de los paramatros"
   ]
  },
  {
   "cell_type": "code",
   "execution_count": 9,
   "metadata": {},
   "outputs": [
    {
     "data": {
      "image/png": "[encoded data removed]",
      "text/plain": [
       "<Figure size 720x720 with 1 Axes>"
      ]
     },
     "metadata": {
      "needs_background": "light"
     },
     "output_type": "display_data"
    }
   ],
   "source": [
    "pred_x = list(range(min(xlog),max(xlog)+10)) # Predecir 10 dias mas\n",
    "plt.rcParams['figure.figsize'] = [10, 10]\n",
    "plt.rc('font', size=14)\n",
    "# Real data\n",
    "plt.plot(xlog,ylog,label=\"Datos Reales\",linewidth=5.0 ,color=\"red\")\n",
    "# Predicted exponential curve\n",
    "pred_y=[modelo_logistico(i,exp_fit[0][0],exp_fit[0][1]) for i in pred_x]\n",
    "plt.title('Fecha Aproximada Vacunas')\n",
    "plt.plot(pred_x, pred_y, \"green\" ,linewidth=4.0 ,label=\"Modelo Logaritmico\" )\n",
    "plt.legend()\n",
    "plt.ylabel(\"Total de personas vacunadas\")\n",
    "plt.ylim(0,max(y)*2) # Definir los limites de Y\n",
    "plt.show()"
   ]
  },
  {
   "cell_type": "markdown",
   "metadata": {},
   "source": [
    "### Grafica de Vacunas por mes de Llegada y el Fabricante"
   ]
  },
  {
   "cell_type": "code",
   "execution_count": 10,
   "metadata": {
    "scrolled": false
   },
   "outputs": [
    {
     "data": {
      "text/html": [
       "<div>\n",
       "<style scoped>\n",
       "    .dataframe tbody tr th:only-of-type {\n",
       "        vertical-align: middle;\n",
       "    }\n",
       "\n",
       "    .dataframe tbody tr th {\n",
       "        vertical-align: top;\n",
       "    }\n",
       "\n",
       "    .dataframe thead th {\n",
       "        text-align: right;\n",
       "    }\n",
       "</style>\n",
       "<table border=\"1\" class=\"dataframe\">\n",
       "  <thead>\n",
       "    <tr style=\"text-align: right;\">\n",
       "      <th></th>\n",
       "      <th>vaccine</th>\n",
       "      <th>total</th>\n",
       "      <th>arrived_at</th>\n",
       "    </tr>\n",
       "  </thead>\n",
       "  <tbody>\n",
       "    <tr>\n",
       "      <th>0</th>\n",
       "      <td>Pfizer/BioNTech</td>\n",
       "      <td>8190</td>\n",
       "      <td>20/01/2021</td>\n",
       "    </tr>\n",
       "    <tr>\n",
       "      <th>1</th>\n",
       "      <td>Pfizer/BioNTech</td>\n",
       "      <td>16380</td>\n",
       "      <td>17/02/2021</td>\n",
       "    </tr>\n",
       "    <tr>\n",
       "      <th>2</th>\n",
       "      <td>Pfizer/BioNTech</td>\n",
       "      <td>17550</td>\n",
       "      <td>24/02/2021</td>\n",
       "    </tr>\n",
       "    <tr>\n",
       "      <th>3</th>\n",
       "      <td>Pfizer/BioNTech</td>\n",
       "      <td>31590</td>\n",
       "      <td>03/03/2021</td>\n",
       "    </tr>\n",
       "    <tr>\n",
       "      <th>4</th>\n",
       "      <td>Sinovac</td>\n",
       "      <td>20000</td>\n",
       "      <td>06/03/2021</td>\n",
       "    </tr>\n",
       "    <tr>\n",
       "      <th>5</th>\n",
       "      <td>Pfizer/BioNTech</td>\n",
       "      <td>73710</td>\n",
       "      <td>10/03/2021</td>\n",
       "    </tr>\n",
       "    <tr>\n",
       "      <th>6</th>\n",
       "      <td>Oxford/AstraZeneca</td>\n",
       "      <td>84000</td>\n",
       "      <td>17/03/2021</td>\n",
       "    </tr>\n",
       "    <tr>\n",
       "      <th>7</th>\n",
       "      <td>Pfizer/BioNTech</td>\n",
       "      <td>62010</td>\n",
       "      <td>17/03/2021</td>\n",
       "    </tr>\n",
       "    <tr>\n",
       "      <th>8</th>\n",
       "      <td>Pfizer/BioNTech</td>\n",
       "      <td>65520</td>\n",
       "      <td>24/03/2021</td>\n",
       "    </tr>\n",
       "    <tr>\n",
       "      <th>9</th>\n",
       "      <td>Pfizer/BioNTech</td>\n",
       "      <td>66690</td>\n",
       "      <td>31/03/2021</td>\n",
       "    </tr>\n",
       "    <tr>\n",
       "      <th>10</th>\n",
       "      <td>Pfizer/BioNTech</td>\n",
       "      <td>53820</td>\n",
       "      <td>05/04/2021</td>\n",
       "    </tr>\n",
       "    <tr>\n",
       "      <th>11</th>\n",
       "      <td>Sinovac</td>\n",
       "      <td>300000</td>\n",
       "      <td>07/04/2021</td>\n",
       "    </tr>\n",
       "    <tr>\n",
       "      <th>12</th>\n",
       "      <td>Sinovac</td>\n",
       "      <td>700000</td>\n",
       "      <td>10/04/2021</td>\n",
       "    </tr>\n",
       "    <tr>\n",
       "      <th>13</th>\n",
       "      <td>Pfizer/BioNTech</td>\n",
       "      <td>53820</td>\n",
       "      <td>14/04/2021</td>\n",
       "    </tr>\n",
       "    <tr>\n",
       "      <th>14</th>\n",
       "      <td>Pfizer/BioNTech</td>\n",
       "      <td>54990</td>\n",
       "      <td>21/04/2021</td>\n",
       "    </tr>\n",
       "    <tr>\n",
       "      <th>15</th>\n",
       "      <td>Oxford/AstraZeneca</td>\n",
       "      <td>336000</td>\n",
       "      <td>24/04/2021</td>\n",
       "    </tr>\n",
       "    <tr>\n",
       "      <th>16</th>\n",
       "      <td>Pfizer/BioNTech</td>\n",
       "      <td>54990</td>\n",
       "      <td>28/04/2021</td>\n",
       "    </tr>\n",
       "    <tr>\n",
       "      <th>17</th>\n",
       "      <td>Pfizer/BioNTech</td>\n",
       "      <td>100620</td>\n",
       "      <td>04/05/2021</td>\n",
       "    </tr>\n",
       "  </tbody>\n",
       "</table>\n",
       "</div>"
      ],
      "text/plain": [
       "               vaccine   total  arrived_at\n",
       "0      Pfizer/BioNTech    8190  20/01/2021\n",
       "1      Pfizer/BioNTech   16380  17/02/2021\n",
       "2      Pfizer/BioNTech   17550  24/02/2021\n",
       "3      Pfizer/BioNTech   31590  03/03/2021\n",
       "4              Sinovac   20000  06/03/2021\n",
       "5      Pfizer/BioNTech   73710  10/03/2021\n",
       "6   Oxford/AstraZeneca   84000  17/03/2021\n",
       "7      Pfizer/BioNTech   62010  17/03/2021\n",
       "8      Pfizer/BioNTech   65520  24/03/2021\n",
       "9      Pfizer/BioNTech   66690  31/03/2021\n",
       "10     Pfizer/BioNTech   53820  05/04/2021\n",
       "11             Sinovac  300000  07/04/2021\n",
       "12             Sinovac  700000  10/04/2021\n",
       "13     Pfizer/BioNTech   53820  14/04/2021\n",
       "14     Pfizer/BioNTech   54990  21/04/2021\n",
       "15  Oxford/AstraZeneca  336000  24/04/2021\n",
       "16     Pfizer/BioNTech   54990  28/04/2021\n",
       "17     Pfizer/BioNTech  100620  04/05/2021"
      ]
     },
     "execution_count": 10,
     "metadata": {},
     "output_type": "execute_result"
    }
   ],
   "source": [
    "import matplotlib.pyplot as plt\n",
    "import pandas as pd\n",
    "\n",
    "df = pd.read_csv('https://raw.githubusercontent.com/andrab/ecuacovid/master/datos_crudos/vacunas/fabricantes.csv')\n",
    "df"
   ]
  },
  {
   "cell_type": "code",
   "execution_count": 39,
   "metadata": {},
   "outputs": [
    {
     "ename": "ValueError",
     "evalue": "'explode' must be of length 'x'",
     "output_type": "error",
     "traceback": [
      "\u001b[1;31m---------------------------------------------------------------------------\u001b[0m",
      "\u001b[1;31mValueError\u001b[0m                                Traceback (most recent call last)",
      "\u001b[1;32m<ipython-input-39-cf12d0c61c86>\u001b[0m in \u001b[0;36m<module>\u001b[1;34m\u001b[0m\n\u001b[0;32m     10\u001b[0m \u001b[0mcolors\u001b[0m \u001b[1;33m=\u001b[0m \u001b[1;33m[\u001b[0m\u001b[1;34m\"#1f77b4\"\u001b[0m\u001b[1;33m,\u001b[0m \u001b[1;34m\"#ff7f0e\"\u001b[0m\u001b[1;33m,\u001b[0m \u001b[1;34m\"#2ca02c\"\u001b[0m\u001b[1;33m,\u001b[0m \u001b[1;34m\"#d62728\"\u001b[0m\u001b[1;33m,\u001b[0m \u001b[1;34m\"#8c564b\"\u001b[0m\u001b[1;33m]\u001b[0m\u001b[1;33m\u001b[0m\u001b[1;33m\u001b[0m\u001b[0m\n\u001b[0;32m     11\u001b[0m \u001b[0mexplode\u001b[0m \u001b[1;33m=\u001b[0m \u001b[1;33m(\u001b[0m\u001b[1;36m0.1\u001b[0m\u001b[1;33m,\u001b[0m \u001b[1;36m0\u001b[0m\u001b[1;33m,\u001b[0m \u001b[1;36m0\u001b[0m\u001b[1;33m,\u001b[0m \u001b[1;36m0\u001b[0m\u001b[1;33m,\u001b[0m \u001b[1;36m0\u001b[0m\u001b[1;33m)\u001b[0m\u001b[1;33m\u001b[0m\u001b[1;33m\u001b[0m\u001b[0m\n\u001b[1;32m---> 12\u001b[1;33m plt.pie(medal_data, labels=country_data, explode=explode, colors=colors,\n\u001b[0m\u001b[0;32m     13\u001b[0m autopct='%1.1f%%', shadow=True, startangle=140)\n\u001b[0;32m     14\u001b[0m \u001b[0mplt\u001b[0m\u001b[1;33m.\u001b[0m\u001b[0mtitle\u001b[0m\u001b[1;33m(\u001b[0m\u001b[1;34m\"Gold medal achievements of five most successful\\n\"\u001b[0m\u001b[1;33m+\u001b[0m\u001b[1;34m\"countries in 2016 Summer Olympics\"\u001b[0m\u001b[1;33m)\u001b[0m\u001b[1;33m\u001b[0m\u001b[1;33m\u001b[0m\u001b[0m\n",
      "\u001b[1;32m~\\anaconda3\\lib\\site-packages\\matplotlib\\pyplot.py\u001b[0m in \u001b[0;36mpie\u001b[1;34m(x, explode, labels, colors, autopct, pctdistance, shadow, labeldistance, startangle, radius, counterclock, wedgeprops, textprops, center, frame, rotatelabels, data)\u001b[0m\n\u001b[0;32m   2746\u001b[0m         \u001b[0mwedgeprops\u001b[0m\u001b[1;33m=\u001b[0m\u001b[1;32mNone\u001b[0m\u001b[1;33m,\u001b[0m \u001b[0mtextprops\u001b[0m\u001b[1;33m=\u001b[0m\u001b[1;32mNone\u001b[0m\u001b[1;33m,\u001b[0m \u001b[0mcenter\u001b[0m\u001b[1;33m=\u001b[0m\u001b[1;33m(\u001b[0m\u001b[1;36m0\u001b[0m\u001b[1;33m,\u001b[0m \u001b[1;36m0\u001b[0m\u001b[1;33m)\u001b[0m\u001b[1;33m,\u001b[0m \u001b[0mframe\u001b[0m\u001b[1;33m=\u001b[0m\u001b[1;32mFalse\u001b[0m\u001b[1;33m,\u001b[0m\u001b[1;33m\u001b[0m\u001b[1;33m\u001b[0m\u001b[0m\n\u001b[0;32m   2747\u001b[0m         rotatelabels=False, *, data=None):\n\u001b[1;32m-> 2748\u001b[1;33m     return gca().pie(\n\u001b[0m\u001b[0;32m   2749\u001b[0m         \u001b[0mx\u001b[0m\u001b[1;33m,\u001b[0m \u001b[0mexplode\u001b[0m\u001b[1;33m=\u001b[0m\u001b[0mexplode\u001b[0m\u001b[1;33m,\u001b[0m \u001b[0mlabels\u001b[0m\u001b[1;33m=\u001b[0m\u001b[0mlabels\u001b[0m\u001b[1;33m,\u001b[0m \u001b[0mcolors\u001b[0m\u001b[1;33m=\u001b[0m\u001b[0mcolors\u001b[0m\u001b[1;33m,\u001b[0m\u001b[1;33m\u001b[0m\u001b[1;33m\u001b[0m\u001b[0m\n\u001b[0;32m   2750\u001b[0m         \u001b[0mautopct\u001b[0m\u001b[1;33m=\u001b[0m\u001b[0mautopct\u001b[0m\u001b[1;33m,\u001b[0m \u001b[0mpctdistance\u001b[0m\u001b[1;33m=\u001b[0m\u001b[0mpctdistance\u001b[0m\u001b[1;33m,\u001b[0m \u001b[0mshadow\u001b[0m\u001b[1;33m=\u001b[0m\u001b[0mshadow\u001b[0m\u001b[1;33m,\u001b[0m\u001b[1;33m\u001b[0m\u001b[1;33m\u001b[0m\u001b[0m\n",
      "\u001b[1;32m~\\anaconda3\\lib\\site-packages\\matplotlib\\__init__.py\u001b[0m in \u001b[0;36minner\u001b[1;34m(ax, data, *args, **kwargs)\u001b[0m\n\u001b[0;32m   1563\u001b[0m     \u001b[1;32mdef\u001b[0m \u001b[0minner\u001b[0m\u001b[1;33m(\u001b[0m\u001b[0max\u001b[0m\u001b[1;33m,\u001b[0m \u001b[1;33m*\u001b[0m\u001b[0margs\u001b[0m\u001b[1;33m,\u001b[0m \u001b[0mdata\u001b[0m\u001b[1;33m=\u001b[0m\u001b[1;32mNone\u001b[0m\u001b[1;33m,\u001b[0m \u001b[1;33m**\u001b[0m\u001b[0mkwargs\u001b[0m\u001b[1;33m)\u001b[0m\u001b[1;33m:\u001b[0m\u001b[1;33m\u001b[0m\u001b[1;33m\u001b[0m\u001b[0m\n\u001b[0;32m   1564\u001b[0m         \u001b[1;32mif\u001b[0m \u001b[0mdata\u001b[0m \u001b[1;32mis\u001b[0m \u001b[1;32mNone\u001b[0m\u001b[1;33m:\u001b[0m\u001b[1;33m\u001b[0m\u001b[1;33m\u001b[0m\u001b[0m\n\u001b[1;32m-> 1565\u001b[1;33m             \u001b[1;32mreturn\u001b[0m \u001b[0mfunc\u001b[0m\u001b[1;33m(\u001b[0m\u001b[0max\u001b[0m\u001b[1;33m,\u001b[0m \u001b[1;33m*\u001b[0m\u001b[0mmap\u001b[0m\u001b[1;33m(\u001b[0m\u001b[0msanitize_sequence\u001b[0m\u001b[1;33m,\u001b[0m \u001b[0margs\u001b[0m\u001b[1;33m)\u001b[0m\u001b[1;33m,\u001b[0m \u001b[1;33m**\u001b[0m\u001b[0mkwargs\u001b[0m\u001b[1;33m)\u001b[0m\u001b[1;33m\u001b[0m\u001b[1;33m\u001b[0m\u001b[0m\n\u001b[0m\u001b[0;32m   1566\u001b[0m \u001b[1;33m\u001b[0m\u001b[0m\n\u001b[0;32m   1567\u001b[0m         \u001b[0mbound\u001b[0m \u001b[1;33m=\u001b[0m \u001b[0mnew_sig\u001b[0m\u001b[1;33m.\u001b[0m\u001b[0mbind\u001b[0m\u001b[1;33m(\u001b[0m\u001b[0max\u001b[0m\u001b[1;33m,\u001b[0m \u001b[1;33m*\u001b[0m\u001b[0margs\u001b[0m\u001b[1;33m,\u001b[0m \u001b[1;33m**\u001b[0m\u001b[0mkwargs\u001b[0m\u001b[1;33m)\u001b[0m\u001b[1;33m\u001b[0m\u001b[1;33m\u001b[0m\u001b[0m\n",
      "\u001b[1;32m~\\anaconda3\\lib\\site-packages\\matplotlib\\axes\\_axes.py\u001b[0m in \u001b[0;36mpie\u001b[1;34m(self, x, explode, labels, colors, autopct, pctdistance, shadow, labeldistance, startangle, radius, counterclock, wedgeprops, textprops, center, frame, rotatelabels)\u001b[0m\n\u001b[0;32m   2929\u001b[0m             \u001b[1;32mraise\u001b[0m \u001b[0mValueError\u001b[0m\u001b[1;33m(\u001b[0m\u001b[1;34m\"'label' must be of length 'x'\"\u001b[0m\u001b[1;33m)\u001b[0m\u001b[1;33m\u001b[0m\u001b[1;33m\u001b[0m\u001b[0m\n\u001b[0;32m   2930\u001b[0m         \u001b[1;32mif\u001b[0m \u001b[0mlen\u001b[0m\u001b[1;33m(\u001b[0m\u001b[0mx\u001b[0m\u001b[1;33m)\u001b[0m \u001b[1;33m!=\u001b[0m \u001b[0mlen\u001b[0m\u001b[1;33m(\u001b[0m\u001b[0mexplode\u001b[0m\u001b[1;33m)\u001b[0m\u001b[1;33m:\u001b[0m\u001b[1;33m\u001b[0m\u001b[1;33m\u001b[0m\u001b[0m\n\u001b[1;32m-> 2931\u001b[1;33m             \u001b[1;32mraise\u001b[0m \u001b[0mValueError\u001b[0m\u001b[1;33m(\u001b[0m\u001b[1;34m\"'explode' must be of length 'x'\"\u001b[0m\u001b[1;33m)\u001b[0m\u001b[1;33m\u001b[0m\u001b[1;33m\u001b[0m\u001b[0m\n\u001b[0m\u001b[0;32m   2932\u001b[0m         \u001b[1;32mif\u001b[0m \u001b[0mcolors\u001b[0m \u001b[1;32mis\u001b[0m \u001b[1;32mNone\u001b[0m\u001b[1;33m:\u001b[0m\u001b[1;33m\u001b[0m\u001b[1;33m\u001b[0m\u001b[0m\n\u001b[0;32m   2933\u001b[0m             \u001b[0mget_next_color\u001b[0m \u001b[1;33m=\u001b[0m \u001b[0mself\u001b[0m\u001b[1;33m.\u001b[0m\u001b[0m_get_patches_for_fill\u001b[0m\u001b[1;33m.\u001b[0m\u001b[0mget_next_color\u001b[0m\u001b[1;33m\u001b[0m\u001b[1;33m\u001b[0m\u001b[0m\n",
      "\u001b[1;31mValueError\u001b[0m: 'explode' must be of length 'x'"
     ]
    },
    {
     "data": {
      "image/png": "[encoded data removed]",
      "text/plain": [
       "<Figure size 720x720 with 1 Axes>"
      ]
     },
     "metadata": {
      "needs_background": "light"
     },
     "output_type": "display_data"
    }
   ],
   "source": [
    "from sklearn import preprocessing\n",
    "\n",
    "number = preprocessing.LabelEncoder()\n",
    "df['vaccine'] = number.fit_transform(df['vaccine'])\n",
    "df=df.fillna(-999) # fill holes with default value\n",
    "#print(df)\n",
    "country_data = df[\"vaccine\"]\n",
    "medal_data = df[\"total\"]\n",
    "#print(country_data)\n",
    "colors = [\"#1f77b4\", \"#ff7f0e\", \"#2ca02c\", \"#d62728\", \"#8c564b\"]\n",
    "explode = (0.1, 0, 0, 0, 0)  \n",
    "plt.pie(medal_data, labels=country_data, explode=explode, colors=colors,\n",
    "autopct='%1.1f%%', shadow=True, startangle=140)\n",
    "plt.title(\"Fabricantes de las Vacunas\")\n",
    "plt.show()    \n",
    "    "
   ]
  },
  {
   "cell_type": "code",
   "execution_count": null,
   "metadata": {},
   "outputs": [],
   "source": []
  },
  {
   "cell_type": "code",
   "execution_count": 32,
   "metadata": {},
   "outputs": [
    {
     "ename": "ValueError",
     "evalue": "'explode' must be of length 'x'",
     "output_type": "error",
     "traceback": [
      "\u001b[1;31m---------------------------------------------------------------------------\u001b[0m",
      "\u001b[1;31mValueError\u001b[0m                                Traceback (most recent call last)",
      "\u001b[1;32m<ipython-input-32-ea4de02e2488>\u001b[0m in \u001b[0;36m<module>\u001b[1;34m\u001b[0m\n\u001b[0;32m      2\u001b[0m \u001b[0mcolors\u001b[0m \u001b[1;33m=\u001b[0m \u001b[1;33m[\u001b[0m\u001b[1;34m\"#1f77b4\"\u001b[0m\u001b[1;33m,\u001b[0m \u001b[1;34m\"#ff7f0e\"\u001b[0m\u001b[1;33m,\u001b[0m \u001b[1;34m\"#2ca02c\"\u001b[0m\u001b[1;33m]\u001b[0m\u001b[1;33m\u001b[0m\u001b[1;33m\u001b[0m\u001b[0m\n\u001b[0;32m      3\u001b[0m \u001b[0mexplode\u001b[0m \u001b[1;33m=\u001b[0m \u001b[1;33m(\u001b[0m\u001b[1;36m0.1\u001b[0m\u001b[1;33m,\u001b[0m \u001b[1;36m0\u001b[0m\u001b[1;33m,\u001b[0m \u001b[1;36m0\u001b[0m\u001b[1;33m,\u001b[0m\u001b[1;36m0\u001b[0m\u001b[1;33m,\u001b[0m\u001b[1;36m0\u001b[0m\u001b[1;33m)\u001b[0m\u001b[1;33m\u001b[0m\u001b[1;33m\u001b[0m\u001b[0m\n\u001b[1;32m----> 4\u001b[1;33m plt.pie(country_data, explode=explode, colors=colors,\n\u001b[0m\u001b[0;32m      5\u001b[0m autopct='%1.1f%%', shadow=True, startangle=140)\n\u001b[0;32m      6\u001b[0m \u001b[0mplt\u001b[0m\u001b[1;33m.\u001b[0m\u001b[0mtitle\u001b[0m\u001b[1;33m(\u001b[0m\u001b[1;34m\"Fabricante de la Vacuna\"\u001b[0m\u001b[1;33m)\u001b[0m\u001b[1;33m\u001b[0m\u001b[1;33m\u001b[0m\u001b[0m\n",
      "\u001b[1;32m~\\anaconda3\\lib\\site-packages\\matplotlib\\pyplot.py\u001b[0m in \u001b[0;36mpie\u001b[1;34m(x, explode, labels, colors, autopct, pctdistance, shadow, labeldistance, startangle, radius, counterclock, wedgeprops, textprops, center, frame, rotatelabels, data)\u001b[0m\n\u001b[0;32m   2746\u001b[0m         \u001b[0mwedgeprops\u001b[0m\u001b[1;33m=\u001b[0m\u001b[1;32mNone\u001b[0m\u001b[1;33m,\u001b[0m \u001b[0mtextprops\u001b[0m\u001b[1;33m=\u001b[0m\u001b[1;32mNone\u001b[0m\u001b[1;33m,\u001b[0m \u001b[0mcenter\u001b[0m\u001b[1;33m=\u001b[0m\u001b[1;33m(\u001b[0m\u001b[1;36m0\u001b[0m\u001b[1;33m,\u001b[0m \u001b[1;36m0\u001b[0m\u001b[1;33m)\u001b[0m\u001b[1;33m,\u001b[0m \u001b[0mframe\u001b[0m\u001b[1;33m=\u001b[0m\u001b[1;32mFalse\u001b[0m\u001b[1;33m,\u001b[0m\u001b[1;33m\u001b[0m\u001b[1;33m\u001b[0m\u001b[0m\n\u001b[0;32m   2747\u001b[0m         rotatelabels=False, *, data=None):\n\u001b[1;32m-> 2748\u001b[1;33m     return gca().pie(\n\u001b[0m\u001b[0;32m   2749\u001b[0m         \u001b[0mx\u001b[0m\u001b[1;33m,\u001b[0m \u001b[0mexplode\u001b[0m\u001b[1;33m=\u001b[0m\u001b[0mexplode\u001b[0m\u001b[1;33m,\u001b[0m \u001b[0mlabels\u001b[0m\u001b[1;33m=\u001b[0m\u001b[0mlabels\u001b[0m\u001b[1;33m,\u001b[0m \u001b[0mcolors\u001b[0m\u001b[1;33m=\u001b[0m\u001b[0mcolors\u001b[0m\u001b[1;33m,\u001b[0m\u001b[1;33m\u001b[0m\u001b[1;33m\u001b[0m\u001b[0m\n\u001b[0;32m   2750\u001b[0m         \u001b[0mautopct\u001b[0m\u001b[1;33m=\u001b[0m\u001b[0mautopct\u001b[0m\u001b[1;33m,\u001b[0m \u001b[0mpctdistance\u001b[0m\u001b[1;33m=\u001b[0m\u001b[0mpctdistance\u001b[0m\u001b[1;33m,\u001b[0m \u001b[0mshadow\u001b[0m\u001b[1;33m=\u001b[0m\u001b[0mshadow\u001b[0m\u001b[1;33m,\u001b[0m\u001b[1;33m\u001b[0m\u001b[1;33m\u001b[0m\u001b[0m\n",
      "\u001b[1;32m~\\anaconda3\\lib\\site-packages\\matplotlib\\__init__.py\u001b[0m in \u001b[0;36minner\u001b[1;34m(ax, data, *args, **kwargs)\u001b[0m\n\u001b[0;32m   1563\u001b[0m     \u001b[1;32mdef\u001b[0m \u001b[0minner\u001b[0m\u001b[1;33m(\u001b[0m\u001b[0max\u001b[0m\u001b[1;33m,\u001b[0m \u001b[1;33m*\u001b[0m\u001b[0margs\u001b[0m\u001b[1;33m,\u001b[0m \u001b[0mdata\u001b[0m\u001b[1;33m=\u001b[0m\u001b[1;32mNone\u001b[0m\u001b[1;33m,\u001b[0m \u001b[1;33m**\u001b[0m\u001b[0mkwargs\u001b[0m\u001b[1;33m)\u001b[0m\u001b[1;33m:\u001b[0m\u001b[1;33m\u001b[0m\u001b[1;33m\u001b[0m\u001b[0m\n\u001b[0;32m   1564\u001b[0m         \u001b[1;32mif\u001b[0m \u001b[0mdata\u001b[0m \u001b[1;32mis\u001b[0m \u001b[1;32mNone\u001b[0m\u001b[1;33m:\u001b[0m\u001b[1;33m\u001b[0m\u001b[1;33m\u001b[0m\u001b[0m\n\u001b[1;32m-> 1565\u001b[1;33m             \u001b[1;32mreturn\u001b[0m \u001b[0mfunc\u001b[0m\u001b[1;33m(\u001b[0m\u001b[0max\u001b[0m\u001b[1;33m,\u001b[0m \u001b[1;33m*\u001b[0m\u001b[0mmap\u001b[0m\u001b[1;33m(\u001b[0m\u001b[0msanitize_sequence\u001b[0m\u001b[1;33m,\u001b[0m \u001b[0margs\u001b[0m\u001b[1;33m)\u001b[0m\u001b[1;33m,\u001b[0m \u001b[1;33m**\u001b[0m\u001b[0mkwargs\u001b[0m\u001b[1;33m)\u001b[0m\u001b[1;33m\u001b[0m\u001b[1;33m\u001b[0m\u001b[0m\n\u001b[0m\u001b[0;32m   1566\u001b[0m \u001b[1;33m\u001b[0m\u001b[0m\n\u001b[0;32m   1567\u001b[0m         \u001b[0mbound\u001b[0m \u001b[1;33m=\u001b[0m \u001b[0mnew_sig\u001b[0m\u001b[1;33m.\u001b[0m\u001b[0mbind\u001b[0m\u001b[1;33m(\u001b[0m\u001b[0max\u001b[0m\u001b[1;33m,\u001b[0m \u001b[1;33m*\u001b[0m\u001b[0margs\u001b[0m\u001b[1;33m,\u001b[0m \u001b[1;33m**\u001b[0m\u001b[0mkwargs\u001b[0m\u001b[1;33m)\u001b[0m\u001b[1;33m\u001b[0m\u001b[1;33m\u001b[0m\u001b[0m\n",
      "\u001b[1;32m~\\anaconda3\\lib\\site-packages\\matplotlib\\axes\\_axes.py\u001b[0m in \u001b[0;36mpie\u001b[1;34m(self, x, explode, labels, colors, autopct, pctdistance, shadow, labeldistance, startangle, radius, counterclock, wedgeprops, textprops, center, frame, rotatelabels)\u001b[0m\n\u001b[0;32m   2929\u001b[0m             \u001b[1;32mraise\u001b[0m \u001b[0mValueError\u001b[0m\u001b[1;33m(\u001b[0m\u001b[1;34m\"'label' must be of length 'x'\"\u001b[0m\u001b[1;33m)\u001b[0m\u001b[1;33m\u001b[0m\u001b[1;33m\u001b[0m\u001b[0m\n\u001b[0;32m   2930\u001b[0m         \u001b[1;32mif\u001b[0m \u001b[0mlen\u001b[0m\u001b[1;33m(\u001b[0m\u001b[0mx\u001b[0m\u001b[1;33m)\u001b[0m \u001b[1;33m!=\u001b[0m \u001b[0mlen\u001b[0m\u001b[1;33m(\u001b[0m\u001b[0mexplode\u001b[0m\u001b[1;33m)\u001b[0m\u001b[1;33m:\u001b[0m\u001b[1;33m\u001b[0m\u001b[1;33m\u001b[0m\u001b[0m\n\u001b[1;32m-> 2931\u001b[1;33m             \u001b[1;32mraise\u001b[0m \u001b[0mValueError\u001b[0m\u001b[1;33m(\u001b[0m\u001b[1;34m\"'explode' must be of length 'x'\"\u001b[0m\u001b[1;33m)\u001b[0m\u001b[1;33m\u001b[0m\u001b[1;33m\u001b[0m\u001b[0m\n\u001b[0m\u001b[0;32m   2932\u001b[0m         \u001b[1;32mif\u001b[0m \u001b[0mcolors\u001b[0m \u001b[1;32mis\u001b[0m \u001b[1;32mNone\u001b[0m\u001b[1;33m:\u001b[0m\u001b[1;33m\u001b[0m\u001b[1;33m\u001b[0m\u001b[0m\n\u001b[0;32m   2933\u001b[0m             \u001b[0mget_next_color\u001b[0m \u001b[1;33m=\u001b[0m \u001b[0mself\u001b[0m\u001b[1;33m.\u001b[0m\u001b[0m_get_patches_for_fill\u001b[0m\u001b[1;33m.\u001b[0m\u001b[0mget_next_color\u001b[0m\u001b[1;33m\u001b[0m\u001b[1;33m\u001b[0m\u001b[0m\n",
      "\u001b[1;31mValueError\u001b[0m: 'explode' must be of length 'x'"
     ]
    },
    {
     "data": {
      "image/png": "[encoded data removed]",
      "text/plain": [
       "<Figure size 720x720 with 1 Axes>"
      ]
     },
     "metadata": {
      "needs_background": "light"
     },
     "output_type": "display_data"
    }
   ],
   "source": []
  },
  {
   "cell_type": "code",
   "execution_count": 11,
   "metadata": {
    "scrolled": false
   },
   "outputs": [
    {
     "data": {
      "image/png": "[encoded data removed]",
      "text/plain": [
       "<Figure size 648x432 with 1 Axes>"
      ]
     },
     "metadata": {
      "needs_background": "light"
     },
     "output_type": "display_data"
    }
   ],
   "source": [
    "plt.figure(figsize=(9,6))\n",
    "\n",
    "plt.hist(df[df['vaccine']== 'Pfizer/BioNTech'].arrived_at.tail(3))\n",
    "plt.hist(df[df['vaccine']== 'Sinovac'].arrived_at.tail(2))\n",
    "plt.hist(df[df['vaccine']== 'Oxford/AstraZeneca'].arrived_at.tail(1))\n",
    "\n",
    "#plt.hist(df['vaccine'])\n",
    "plt.xlabel(\"Fabricantes\")\n",
    "plt.ylabel(\"Fecha\")\n",
    "plt.title(\"Histograma de vacunas por mes de llega y fabricante\");\n",
    "plt.show()"
   ]
  },
  {
   "cell_type": "markdown",
   "metadata": {},
   "source": [
    "### Comparacion con otros paises"
   ]
  },
  {
   "cell_type": "code",
   "execution_count": null,
   "metadata": {},
   "outputs": [],
   "source": [
    "import pandas as pd\n",
    "import numpy as np\n",
    "import matplotlib.pyplot as plt\n",
    "import seaborn as sns\n"
   ]
  },
  {
   "cell_type": "code",
   "execution_count": null,
   "metadata": {},
   "outputs": [],
   "source": [
    "df=pd.read_csv(r\"https://raw.githubusercontent.com/Navneetsingh011/Analysis-Of-Covid-Pandemic-Vaccination-Country-Wise./main/covidanalysis.csv\")\n",
    "df.head(10)"
   ]
  },
  {
   "cell_type": "markdown",
   "metadata": {},
   "source": [
    "### Dejamos solo las columnas que son importantes"
   ]
  },
  {
   "cell_type": "code",
   "execution_count": null,
   "metadata": {},
   "outputs": [],
   "source": [
    "df.drop(columns = 'iso_code', inplace = True)\n",
    "df.drop(columns = 'daily_vaccinations_raw', inplace = True)\n",
    "df.drop(columns = 'source_website', inplace = True)\n",
    "df.drop(columns = 'total_vaccinations_per_hundred', inplace = True)\n",
    "df.drop(columns = 'people_vaccinated_per_hundred', inplace = True)\n",
    "df.drop(columns = 'people_fully_vaccinated_per_hundred', inplace = True)\n",
    "df.drop(columns = 'daily_vaccinations_per_million', inplace = True)"
   ]
  },
  {
   "cell_type": "code",
   "execution_count": null,
   "metadata": {},
   "outputs": [],
   "source": [
    "df.isnull().sum()"
   ]
  },
  {
   "cell_type": "markdown",
   "metadata": {},
   "source": [
    "### Llenado de valores de NAN con la media (valores promedio o los valores más comunes en la columna del conjunto de datos)"
   ]
  },
  {
   "cell_type": "code",
   "execution_count": null,
   "metadata": {},
   "outputs": [],
   "source": [
    "df['total_vaccinations'].fillna(df['total_vaccinations'].mean(),inplace= True)\n",
    "df['people_fully_vaccinated'].fillna(df['people_fully_vaccinated'].mean(),inplace= True)\n",
    "df['daily_vaccinations'].fillna(df['daily_vaccinations'].mean(),inplace= True)\n",
    "df['people_vaccinated'].fillna(df['people_vaccinated'].mean(),inplace= True)"
   ]
  },
  {
   "cell_type": "code",
   "execution_count": null,
   "metadata": {},
   "outputs": [],
   "source": [
    "df.isnull().sum()"
   ]
  },
  {
   "cell_type": "markdown",
   "metadata": {},
   "source": [
    "### Cambiar el tipo de datos de la hora desde el objeto hasta la fecha y hora"
   ]
  },
  {
   "cell_type": "code",
   "execution_count": null,
   "metadata": {},
   "outputs": [],
   "source": [
    "df.date\n",
    "df['date']=pd.to_datetime(df.date)"
   ]
  },
  {
   "cell_type": "code",
   "execution_count": null,
   "metadata": {},
   "outputs": [],
   "source": [
    "df.date"
   ]
  },
  {
   "cell_type": "code",
   "execution_count": null,
   "metadata": {},
   "outputs": [],
   "source": [
    "#Changing date format.\n",
    "df['date'] = pd.to_datetime(df['date'],format='%y-%m-%d').dt.date\n",
    "\n",
    "complete_medication=df.groupby('country')['daily_vaccinations'].cumsum()\n",
    "#cumsum() function is used when we want to compute the cumulative sum force by increasing addition"
   ]
  },
  {
   "cell_type": "markdown",
   "metadata": {},
   "source": [
    "### Se crea una nueva columna sobre la base del país y las vacunas diarias"
   ]
  },
  {
   "cell_type": "code",
   "execution_count": null,
   "metadata": {},
   "outputs": [],
   "source": [
    "complete_medication"
   ]
  },
  {
   "cell_type": "markdown",
   "metadata": {},
   "source": [
    "### Agregue una nueva columna \"Complete_medication\" en el conjunto de datos para obtener resultados más precisos."
   ]
  },
  {
   "cell_type": "code",
   "execution_count": null,
   "metadata": {},
   "outputs": [],
   "source": [
    "df.insert(5,'Complete_medication',complete_medication)\n",
    "df.head()"
   ]
  },
  {
   "cell_type": "code",
   "execution_count": null,
   "metadata": {},
   "outputs": [],
   "source": [
    "print(\"El total de países presentes en los datos son : \",df['country'].nunique())\n",
    "print(\"El numero total de vacunas usadas en una empresa particular es\",df['vaccines'].nunique())\n",
    "print(\"La duración de los datos es\",df['date'].nunique()/30,\" Months\")\n",
    "print(\"El número total de dosis de vacunación administradas en todo el mundo es\",\n",
    "      df.daily_vaccinations.sum())"
   ]
  },
  {
   "cell_type": "markdown",
   "metadata": {},
   "source": [
    "### Análisis y visualización que representan hechos"
   ]
  },
  {
   "cell_type": "code",
   "execution_count": null,
   "metadata": {},
   "outputs": [],
   "source": [
    "plt.figure(figsize=(15,6))\n",
    "plt.plot(df[df['country']=='Spain'].date,df[df['country']=='Spain'].Complete_medication);\n",
    "plt.plot(df[df['country']=='Spain'].date,df[df['country']=='Spain'].daily_vaccinations);\n",
    "plt.plot(df[df['country']=='Spain'].date,df[df['country']=='Spain'].people_fully_vaccinated);\n",
    "\n",
    "plt.xlabel(\"Date\")\n",
    "plt.ylabel(\"Vacunación total en 10 millones\")\n",
    "\n",
    "plt.title(\"Vacunacion de Espana\");\n",
    "plt.legend(['Total vacunas','Vacunas Diarias','Personas vacunadas']);"
   ]
  },
  {
   "cell_type": "code",
   "execution_count": null,
   "metadata": {},
   "outputs": [],
   "source": [
    "plt.figure(figsize=(15,6))\n",
    "plt.plot(df[df['country']=='United States'].date,df[df['country']=='United States'].Complete_medication);\n",
    "plt.plot(df[df['country']=='United States'].date,df[df['country']=='United States'].daily_vaccinations);\n",
    "plt.plot(df[df['country']=='United States'].date,df[df['country']=='United States'].people_fully_vaccinated);\n",
    "\n",
    "plt.xlabel(\"Date\")\n",
    "plt.ylabel(\"Complete Vaccinations\")\n",
    "\n",
    "plt.title(\"Vacunacion de Estados Unidos\");\n",
    "plt.legend(['Total de Vacunas','Vacunas Diarias','Personas Vacunadas']);"
   ]
  },
  {
   "cell_type": "code",
   "execution_count": null,
   "metadata": {},
   "outputs": [],
   "source": [
    "plt.figure(figsize=(15,6))\n",
    "plt.plot(df[df['country']=='Ecuador'].date,df[df['country']=='Ecuador'].Complete_medication);\n",
    "plt.plot(df[df['country']=='Ecuador'].date,df[df['country']=='Ecuador'].daily_vaccinations);\n",
    "plt.plot(df[df['country']=='Ecuador'].date,df[df['country']=='Ecuador'].people_fully_vaccinated);\n",
    "\n",
    "plt.xlabel(\"Date\")\n",
    "plt.ylabel(\"Complete Vaccinations\")\n",
    "\n",
    "plt.title(\"Vacunacion de Ecuador\");\n",
    "plt.legend(['Total de Vacunas','Vacunas Diarias','Personas Vacunadas']);"
   ]
  },
  {
   "cell_type": "code",
   "execution_count": null,
   "metadata": {
    "scrolled": false
   },
   "outputs": [],
   "source": [
    "plt.figure(figsize=(15,6))\n",
    "plt.plot(df[df['country']=='Peru'].date,df[df['country']=='Peru'].Complete_medication);\n",
    "plt.plot(df[df['country']=='Peru'].date,df[df['country']=='Peru'].daily_vaccinations);\n",
    "plt.plot(df[df['country']=='Peru'].date,df[df['country']=='Peru'].people_fully_vaccinated);\n",
    "\n",
    "plt.xlabel(\"Date\")\n",
    "plt.ylabel(\"Complete Vaccinations\")\n",
    "\n",
    "plt.title(\"Vacunacion de Peru\");\n",
    "plt.legend(['Total de Vacunas','Vacunas Diarias','Personas Vacunadas']);"
   ]
  },
  {
   "cell_type": "code",
   "execution_count": null,
   "metadata": {
    "scrolled": false
   },
   "outputs": [],
   "source": [
    "plt.figure(figsize=(9,6))\n",
    "\n",
    "plt.bar(df[df['country']=='Spain'].country.tail(1),df[df['country']=='Spain'].total_vaccinations.tail(1));\n",
    "plt.bar(df[df['country']=='United States'].country.tail(1),df[df['country']=='United States'].total_vaccinations.tail(1));\n",
    "plt.bar(df[df['country']=='Ecuador'].country.tail(1),df[df['country']=='Ecuador'].total_vaccinations.tail(1));\n",
    "plt.bar(df[df['country']=='Peru'].country.tail(1),df[df['country']=='Peru'].total_vaccinations.tail(1));\n",
    "\n",
    "plt.title(\"Vacunación total en los principales países\");\n",
    "\n",
    "plt.xlabel(\"Paises\");\n",
    "plt.ylabel(\"Vacunación total en 100 millones\");"
   ]
  },
  {
   "cell_type": "markdown",
   "metadata": {},
   "source": [
    "### Comparacion de Ecuador y las otros Paises"
   ]
  },
  {
   "cell_type": "code",
   "execution_count": null,
   "metadata": {},
   "outputs": [],
   "source": [
    "plt.figure(figsize=(13,5))\n",
    "plt.plot(df[df['country']=='Ecuador'].date,df[df['country']=='Ecuador'].Complete_medication);\n",
    "plt.plot(df[df['country']=='Canada'].date,df[df['country']=='Canada'].Complete_medication);\n",
    "\n",
    "\n",
    "\n",
    "plt.xlabel(\"Fecha\")\n",
    "plt.ylabel(\"Vacunacion\")\n",
    "\n",
    "plt.title(\"Progreso de la vacunación de Canada en comparación de Ecuador\");\n",
    "plt.legend(['Ecuador','Canada']);"
   ]
  },
  {
   "cell_type": "markdown",
   "metadata": {},
   "source": [
    "### Uso del Metodo Polinomial"
   ]
  },
  {
   "cell_type": "code",
   "execution_count": null,
   "metadata": {},
   "outputs": [],
   "source": [
    "clasificador = df[df['people_vaccinated'] != 0]\n",
    "#print(clasificador)\n",
    "ndf1=clasificador[['country','dosis_total']]\n",
    "#print(ndf1)\n",
    "x=np.arange(1,len(ndf1)+1,1) # arreglo primer dia \n",
    "y=np.array(ndf1.values[:,1], dtype='float')\n",
    "\n",
    "xpol=x\n",
    "ypol=y\n",
    "polndf1=ndf1\n",
    "#Vacunados\n",
    "fun1 = np.poly1d(np.polyfit(xpol, ypol, 6))\n",
    "print(fun1)\n",
    "y_pred=fun1(xpol)\n",
    "plt.title('Vacunados ')\n",
    "plt.plot(xpol, ypol, \"green\",linewidth=5.0 ,label='Datos Reales' )\n",
    "plt.plot(xpol, y_pred, c='r',linewidth=4.0 ,label='Regresion Polinomica')\n",
    "plt.legend()\n",
    "plt.show()"
   ]
  },
  {
   "cell_type": "markdown",
   "metadata": {},
   "source": [
    "### Cual tiene una mejor predicción"
   ]
  },
  {
   "cell_type": "markdown",
   "metadata": {},
   "source": [
    "La Mejor Prediccion la tiene el modelo polinomial, debido a que se ajusta al comportamiento de los datos obtenidos"
   ]
  },
  {
   "cell_type": "markdown",
   "metadata": {},
   "source": [
    "### Ventajas y desventajas de los modelos"
   ]
  },
  {
   "cell_type": "markdown",
   "metadata": {},
   "source": [
    "* Modelo Lineal: \n",
    "\n",
    "    * Fácil de entender y explicar, lo que puede ser muy valioso para las decisiones de negocios. Es rápido de modelar y es particularmente útil cuando la relación a modelar no es extremadamente compleja y no tiene mucha información. Es menos propenso al sobreajuste.\n",
    "\n",
    "    * No se puede modelar relaciones complejas. No se pueden capturar relaciones no lineales sin transformar la entrada, por lo que tienes que trabajar duro para que se ajuste a funciones no lineales. Puede sufrir con valores atípicos.\n",
    "    \n",
    "* Modelo Exponencial\n",
    "\n",
    "    * Es muy usada para predecir la evolucion de un virus.\n",
    "    * Se aleja de los datos conforme pasa el tiempo\n",
    "\n",
    "* Modelo Polinomico\n",
    "    * Es el que mejor se ajusta a los datos obtenidos.\n",
    "\n",
    "    * Conforma aumenta el grado de prediccion y el numero de datos se hace mas complejo su calculo.\n",
    "\n",
    "* Modelo Logaritmico\n",
    "     * Es muy usada por su simplicidad y eficacia Es mejor cuando se usan atributos acorde a su salida\n",
    "     * Imposibilidad de resolver directamente problemas no lineales. No se ajusta correctamente a los datos"
   ]
  }
 ],
 "metadata": {
  "kernelspec": {
   "display_name": "Python 3",
   "language": "python",
   "name": "python3"
  },
  "language_info": {
   "codemirror_mode": {
    "name": "ipython",
    "version": 3
   },
   "file_extension": ".py",
   "mimetype": "text/x-python",
   "name": "python",
   "nbconvert_exporter": "python",
   "pygments_lexer": "ipython3",
   "version": "3.8.3"
  }
 },
 "nbformat": 4,
 "nbformat_minor": 4
}
